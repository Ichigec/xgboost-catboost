{
 "cells": [
  {
   "cell_type": "code",
   "execution_count": 45,
   "metadata": {},
   "outputs": [],
   "source": [
    "import pandas as pd\n",
    "import numpy as np\n",
    "#import seaborn as sns\n",
    "import matplotlib.pylab as plt\n",
    "from pylab import rcParams\n",
    "rcParams['figure.figsize'] = 20, 10\n",
    "import xgboost as xgb\n",
    "from sklearn.model_selection import train_test_split\n",
    "from sklearn.preprocessing import OneHotEncoder\n",
    "\n",
    "\n",
    "from numpy import loadtxt\n",
    "from xgboost import XGBClassifier\n",
    "from sklearn.model_selection import GridSearchCV\n",
    "from sklearn.model_selection import StratifiedKFold\n",
    "from sklearn.model_selection import cross_val_score, KFold\n",
    "\n",
    "from sklearn.utils.multiclass import type_of_target\n",
    "\n",
    "from sklearn import preprocessing\n",
    "\n",
    "import re"
   ]
  },
  {
   "cell_type": "code",
   "execution_count": 2,
   "metadata": {},
   "outputs": [],
   "source": [
    "def metric(y_true, y_pred):\n",
    "    \n",
    "    return np.sum(np.abs(y_true - y_pred)) / np.sum(y_pred) * 100"
   ]
  },
  {
   "cell_type": "code",
   "execution_count": 3,
   "metadata": {},
   "outputs": [],
   "source": [
    "df = pd.read_csv('E:\\\\Vakansy\\\\magnit\\\\data_regression_for_task.csv')\n",
    "df.dropna(inplace=True)"
   ]
  },
  {
   "cell_type": "code",
   "execution_count": 4,
   "metadata": {},
   "outputs": [
    {
     "data": {
      "text/plain": [
       "YEAR             0\n",
       "MONTH            0\n",
       "CONTRAGENT       0\n",
       "ARTICLE_CODE     0\n",
       "ARTICLE_NAME     0\n",
       "ARTICLE_GROUP    0\n",
       "SALES            0\n",
       "STORE_SALES      0\n",
       "dtype: int64"
      ]
     },
     "execution_count": 4,
     "metadata": {},
     "output_type": "execute_result"
    }
   ],
   "source": [
    "df.isna().sum()"
   ]
  },
  {
   "cell_type": "code",
   "execution_count": 5,
   "metadata": {},
   "outputs": [
    {
     "data": {
      "text/html": [
       "<div>\n",
       "<style scoped>\n",
       "    .dataframe tbody tr th:only-of-type {\n",
       "        vertical-align: middle;\n",
       "    }\n",
       "\n",
       "    .dataframe tbody tr th {\n",
       "        vertical-align: top;\n",
       "    }\n",
       "\n",
       "    .dataframe thead th {\n",
       "        text-align: right;\n",
       "    }\n",
       "</style>\n",
       "<table border=\"1\" class=\"dataframe\">\n",
       "  <thead>\n",
       "    <tr style=\"text-align: right;\">\n",
       "      <th></th>\n",
       "      <th>YEAR</th>\n",
       "      <th>MONTH</th>\n",
       "      <th>CONTRAGENT</th>\n",
       "      <th>ARTICLE_CODE</th>\n",
       "      <th>ARTICLE_NAME</th>\n",
       "      <th>ARTICLE_GROUP</th>\n",
       "      <th>SALES</th>\n",
       "      <th>STORE_SALES</th>\n",
       "    </tr>\n",
       "  </thead>\n",
       "  <tbody>\n",
       "    <tr>\n",
       "      <th>0</th>\n",
       "      <td>2017</td>\n",
       "      <td>4</td>\n",
       "      <td>ROYAL WINE CORP</td>\n",
       "      <td>100200</td>\n",
       "      <td>GAMLA CAB - 750ML</td>\n",
       "      <td>WINE</td>\n",
       "      <td>0.0</td>\n",
       "      <td>0.0</td>\n",
       "    </tr>\n",
       "    <tr>\n",
       "      <th>1</th>\n",
       "      <td>2017</td>\n",
       "      <td>4</td>\n",
       "      <td>SANTA MARGHERITA USA INC</td>\n",
       "      <td>100749</td>\n",
       "      <td>SANTA MARGHERITA P/GRIG ALTO - 375ML</td>\n",
       "      <td>WINE</td>\n",
       "      <td>0.0</td>\n",
       "      <td>0.0</td>\n",
       "    </tr>\n",
       "    <tr>\n",
       "      <th>2</th>\n",
       "      <td>2017</td>\n",
       "      <td>4</td>\n",
       "      <td>JIM BEAM BRANDS CO</td>\n",
       "      <td>10103</td>\n",
       "      <td>KNOB CREEK BOURBON 9YR - 100P - 375ML</td>\n",
       "      <td>LIQUOR</td>\n",
       "      <td>0.0</td>\n",
       "      <td>0.0</td>\n",
       "    </tr>\n",
       "    <tr>\n",
       "      <th>3</th>\n",
       "      <td>2017</td>\n",
       "      <td>4</td>\n",
       "      <td>HEAVEN HILL DISTILLERIES INC</td>\n",
       "      <td>10120</td>\n",
       "      <td>J W DANT BOURBON 100P - 1.75L</td>\n",
       "      <td>LIQUOR</td>\n",
       "      <td>0.0</td>\n",
       "      <td>0.0</td>\n",
       "    </tr>\n",
       "    <tr>\n",
       "      <th>4</th>\n",
       "      <td>2017</td>\n",
       "      <td>4</td>\n",
       "      <td>ROYAL WINE CORP</td>\n",
       "      <td>101664</td>\n",
       "      <td>RAMON CORDOVA RIOJA - 750ML</td>\n",
       "      <td>WINE</td>\n",
       "      <td>0.0</td>\n",
       "      <td>0.0</td>\n",
       "    </tr>\n",
       "    <tr>\n",
       "      <th>...</th>\n",
       "      <td>...</td>\n",
       "      <td>...</td>\n",
       "      <td>...</td>\n",
       "      <td>...</td>\n",
       "      <td>...</td>\n",
       "      <td>...</td>\n",
       "      <td>...</td>\n",
       "      <td>...</td>\n",
       "    </tr>\n",
       "    <tr>\n",
       "      <th>128348</th>\n",
       "      <td>2018</td>\n",
       "      <td>2</td>\n",
       "      <td>LEGENDS LTD</td>\n",
       "      <td>99753</td>\n",
       "      <td>DUTCHESS DE BOURGOGNE NR - 750ML</td>\n",
       "      <td>BEER</td>\n",
       "      <td>0.0</td>\n",
       "      <td>2.0</td>\n",
       "    </tr>\n",
       "    <tr>\n",
       "      <th>128349</th>\n",
       "      <td>2018</td>\n",
       "      <td>2</td>\n",
       "      <td>COASTAL BREWING COMPANY LLC</td>\n",
       "      <td>99813</td>\n",
       "      <td>DOMINION OAK BARREL STOUT 1/2K</td>\n",
       "      <td>KEGS</td>\n",
       "      <td>0.0</td>\n",
       "      <td>2.0</td>\n",
       "    </tr>\n",
       "    <tr>\n",
       "      <th>128350</th>\n",
       "      <td>2018</td>\n",
       "      <td>2</td>\n",
       "      <td>ANHEUSER BUSCH INC</td>\n",
       "      <td>9997</td>\n",
       "      <td>HOEGAARDEN 4/6NR - 12OZ</td>\n",
       "      <td>BEER</td>\n",
       "      <td>66460.0</td>\n",
       "      <td>212.0</td>\n",
       "    </tr>\n",
       "    <tr>\n",
       "      <th>128351</th>\n",
       "      <td>2018</td>\n",
       "      <td>2</td>\n",
       "      <td>COASTAL BREWING COMPANY LLC</td>\n",
       "      <td>99970</td>\n",
       "      <td>DOMINION OAK BARREL STOUT 4/6 NR - 12OZ</td>\n",
       "      <td>BEER</td>\n",
       "      <td>9080.0</td>\n",
       "      <td>35.0</td>\n",
       "    </tr>\n",
       "    <tr>\n",
       "      <th>128352</th>\n",
       "      <td>2018</td>\n",
       "      <td>2</td>\n",
       "      <td>BOSTON BEER CORPORATION</td>\n",
       "      <td>99988</td>\n",
       "      <td>SAM ADAMS COLD SNAP 1/6 KG</td>\n",
       "      <td>KEGS</td>\n",
       "      <td>0.0</td>\n",
       "      <td>32.0</td>\n",
       "    </tr>\n",
       "  </tbody>\n",
       "</table>\n",
       "<p>128330 rows × 8 columns</p>\n",
       "</div>"
      ],
      "text/plain": [
       "        YEAR  MONTH                    CONTRAGENT ARTICLE_CODE  \\\n",
       "0       2017      4               ROYAL WINE CORP       100200   \n",
       "1       2017      4      SANTA MARGHERITA USA INC       100749   \n",
       "2       2017      4            JIM BEAM BRANDS CO        10103   \n",
       "3       2017      4  HEAVEN HILL DISTILLERIES INC        10120   \n",
       "4       2017      4               ROYAL WINE CORP       101664   \n",
       "...      ...    ...                           ...          ...   \n",
       "128348  2018      2                   LEGENDS LTD        99753   \n",
       "128349  2018      2   COASTAL BREWING COMPANY LLC        99813   \n",
       "128350  2018      2            ANHEUSER BUSCH INC         9997   \n",
       "128351  2018      2   COASTAL BREWING COMPANY LLC        99970   \n",
       "128352  2018      2       BOSTON BEER CORPORATION        99988   \n",
       "\n",
       "                                   ARTICLE_NAME ARTICLE_GROUP    SALES  \\\n",
       "0                             GAMLA CAB - 750ML          WINE      0.0   \n",
       "1          SANTA MARGHERITA P/GRIG ALTO - 375ML          WINE      0.0   \n",
       "2         KNOB CREEK BOURBON 9YR - 100P - 375ML        LIQUOR      0.0   \n",
       "3                 J W DANT BOURBON 100P - 1.75L        LIQUOR      0.0   \n",
       "4                   RAMON CORDOVA RIOJA - 750ML          WINE      0.0   \n",
       "...                                         ...           ...      ...   \n",
       "128348         DUTCHESS DE BOURGOGNE NR - 750ML          BEER      0.0   \n",
       "128349           DOMINION OAK BARREL STOUT 1/2K          KEGS      0.0   \n",
       "128350                  HOEGAARDEN 4/6NR - 12OZ          BEER  66460.0   \n",
       "128351  DOMINION OAK BARREL STOUT 4/6 NR - 12OZ          BEER   9080.0   \n",
       "128352               SAM ADAMS COLD SNAP 1/6 KG          KEGS      0.0   \n",
       "\n",
       "        STORE_SALES  \n",
       "0               0.0  \n",
       "1               0.0  \n",
       "2               0.0  \n",
       "3               0.0  \n",
       "4               0.0  \n",
       "...             ...  \n",
       "128348          2.0  \n",
       "128349          2.0  \n",
       "128350        212.0  \n",
       "128351         35.0  \n",
       "128352         32.0  \n",
       "\n",
       "[128330 rows x 8 columns]"
      ]
     },
     "execution_count": 5,
     "metadata": {},
     "output_type": "execute_result"
    }
   ],
   "source": [
    "df#.head()"
   ]
  },
  {
   "cell_type": "code",
   "execution_count": 6,
   "metadata": {},
   "outputs": [
    {
     "data": {
      "text/plain": [
       "Index(['YEAR', 'MONTH', 'CONTRAGENT', 'ARTICLE_CODE', 'ARTICLE_NAME',\n",
       "       'ARTICLE_GROUP', 'SALES', 'STORE_SALES'],\n",
       "      dtype='object')"
      ]
     },
     "execution_count": 6,
     "metadata": {},
     "output_type": "execute_result"
    }
   ],
   "source": [
    "df.columns"
   ]
  },
  {
   "cell_type": "code",
   "execution_count": 7,
   "metadata": {},
   "outputs": [
    {
     "data": {
      "text/plain": [
       "(333, 23552, 23620, 8)"
      ]
     },
     "execution_count": 7,
     "metadata": {},
     "output_type": "execute_result"
    }
   ],
   "source": [
    "len(df['CONTRAGENT'].unique()), len(df['ARTICLE_CODE'].unique()), len(df['ARTICLE_NAME'].unique()), len(df['ARTICLE_GROUP'].unique())"
   ]
  },
  {
   "cell_type": "code",
   "execution_count": 8,
   "metadata": {},
   "outputs": [
    {
     "data": {
      "text/plain": [
       "array(['WINE', 'LIQUOR', 'BEER', 'STR_SUPPLIES', 'REF', 'NON-ALCOHOL',\n",
       "       'KEGS', 'DUNNAGE'], dtype=object)"
      ]
     },
     "execution_count": 8,
     "metadata": {},
     "output_type": "execute_result"
    }
   ],
   "source": [
    "df['ARTICLE_GROUP'].unique()"
   ]
  },
  {
   "cell_type": "code",
   "execution_count": 9,
   "metadata": {},
   "outputs": [
    {
     "data": {
      "text/plain": [
       "array([2017, 2018], dtype=int64)"
      ]
     },
     "execution_count": 9,
     "metadata": {},
     "output_type": "execute_result"
    }
   ],
   "source": [
    "df['YEAR'].unique()"
   ]
  },
  {
   "cell_type": "code",
   "execution_count": 10,
   "metadata": {},
   "outputs": [
    {
     "data": {
      "text/plain": [
       "count    1.283300e+05\n",
       "mean     6.564316e+03\n",
       "std      2.892762e+04\n",
       "min     -6.490000e+03\n",
       "25%      0.000000e+00\n",
       "50%      3.300000e+02\n",
       "75%      3.250000e+03\n",
       "max      1.616600e+06\n",
       "Name: SALES, dtype: float64"
      ]
     },
     "execution_count": 10,
     "metadata": {},
     "output_type": "execute_result"
    }
   ],
   "source": [
    "df['SALES'].describe()"
   ]
  },
  {
   "cell_type": "code",
   "execution_count": 11,
   "metadata": {},
   "outputs": [
    {
     "data": {
      "text/plain": [
       "count    128330.000000\n",
       "mean         22.681679\n",
       "std         239.574553\n",
       "min       -4996.000000\n",
       "25%           0.000000\n",
       "50%           1.000000\n",
       "75%           4.000000\n",
       "max       16271.750000\n",
       "Name: STORE_SALES, dtype: float64"
      ]
     },
     "execution_count": 11,
     "metadata": {},
     "output_type": "execute_result"
    }
   ],
   "source": [
    "df['STORE_SALES'].describe()"
   ]
  },
  {
   "cell_type": "code",
   "execution_count": 12,
   "metadata": {
    "scrolled": true
   },
   "outputs": [
    {
     "data": {
      "text/html": [
       "<div>\n",
       "<style scoped>\n",
       "    .dataframe tbody tr th:only-of-type {\n",
       "        vertical-align: middle;\n",
       "    }\n",
       "\n",
       "    .dataframe tbody tr th {\n",
       "        vertical-align: top;\n",
       "    }\n",
       "\n",
       "    .dataframe thead th {\n",
       "        text-align: right;\n",
       "    }\n",
       "</style>\n",
       "<table border=\"1\" class=\"dataframe\">\n",
       "  <thead>\n",
       "    <tr style=\"text-align: right;\">\n",
       "      <th></th>\n",
       "      <th>YEAR</th>\n",
       "      <th>MONTH</th>\n",
       "      <th>CONTRAGENT</th>\n",
       "      <th>ARTICLE_CODE</th>\n",
       "      <th>ARTICLE_NAME</th>\n",
       "      <th>ARTICLE_GROUP</th>\n",
       "      <th>SALES</th>\n",
       "      <th>STORE_SALES</th>\n",
       "      <th>(WINE,)</th>\n",
       "      <th>(LIQUOR,)</th>\n",
       "      <th>(BEER,)</th>\n",
       "      <th>(STR_SUPPLIES,)</th>\n",
       "      <th>(REF,)</th>\n",
       "      <th>(NON-ALCOHOL,)</th>\n",
       "      <th>(KEGS,)</th>\n",
       "      <th>(DUNNAGE,)</th>\n",
       "    </tr>\n",
       "  </thead>\n",
       "  <tbody>\n",
       "    <tr>\n",
       "      <th>0</th>\n",
       "      <td>2017.0</td>\n",
       "      <td>4.0</td>\n",
       "      <td>ROYAL WINE CORP</td>\n",
       "      <td>100200</td>\n",
       "      <td>GAMLA CAB - 750ML</td>\n",
       "      <td>WINE</td>\n",
       "      <td>0.0</td>\n",
       "      <td>0.0</td>\n",
       "      <td>0.0</td>\n",
       "      <td>0.0</td>\n",
       "      <td>0.0</td>\n",
       "      <td>0.0</td>\n",
       "      <td>0.0</td>\n",
       "      <td>0.0</td>\n",
       "      <td>0.0</td>\n",
       "      <td>1.0</td>\n",
       "    </tr>\n",
       "    <tr>\n",
       "      <th>1</th>\n",
       "      <td>2017.0</td>\n",
       "      <td>4.0</td>\n",
       "      <td>SANTA MARGHERITA USA INC</td>\n",
       "      <td>100749</td>\n",
       "      <td>SANTA MARGHERITA P/GRIG ALTO - 375ML</td>\n",
       "      <td>WINE</td>\n",
       "      <td>0.0</td>\n",
       "      <td>0.0</td>\n",
       "      <td>0.0</td>\n",
       "      <td>0.0</td>\n",
       "      <td>0.0</td>\n",
       "      <td>0.0</td>\n",
       "      <td>0.0</td>\n",
       "      <td>0.0</td>\n",
       "      <td>0.0</td>\n",
       "      <td>1.0</td>\n",
       "    </tr>\n",
       "    <tr>\n",
       "      <th>2</th>\n",
       "      <td>2017.0</td>\n",
       "      <td>4.0</td>\n",
       "      <td>JIM BEAM BRANDS CO</td>\n",
       "      <td>10103</td>\n",
       "      <td>KNOB CREEK BOURBON 9YR - 100P - 375ML</td>\n",
       "      <td>LIQUOR</td>\n",
       "      <td>0.0</td>\n",
       "      <td>0.0</td>\n",
       "      <td>0.0</td>\n",
       "      <td>0.0</td>\n",
       "      <td>0.0</td>\n",
       "      <td>1.0</td>\n",
       "      <td>0.0</td>\n",
       "      <td>0.0</td>\n",
       "      <td>0.0</td>\n",
       "      <td>0.0</td>\n",
       "    </tr>\n",
       "    <tr>\n",
       "      <th>3</th>\n",
       "      <td>2017.0</td>\n",
       "      <td>4.0</td>\n",
       "      <td>HEAVEN HILL DISTILLERIES INC</td>\n",
       "      <td>10120</td>\n",
       "      <td>J W DANT BOURBON 100P - 1.75L</td>\n",
       "      <td>LIQUOR</td>\n",
       "      <td>0.0</td>\n",
       "      <td>0.0</td>\n",
       "      <td>0.0</td>\n",
       "      <td>0.0</td>\n",
       "      <td>0.0</td>\n",
       "      <td>1.0</td>\n",
       "      <td>0.0</td>\n",
       "      <td>0.0</td>\n",
       "      <td>0.0</td>\n",
       "      <td>0.0</td>\n",
       "    </tr>\n",
       "    <tr>\n",
       "      <th>4</th>\n",
       "      <td>2017.0</td>\n",
       "      <td>4.0</td>\n",
       "      <td>ROYAL WINE CORP</td>\n",
       "      <td>101664</td>\n",
       "      <td>RAMON CORDOVA RIOJA - 750ML</td>\n",
       "      <td>WINE</td>\n",
       "      <td>0.0</td>\n",
       "      <td>0.0</td>\n",
       "      <td>0.0</td>\n",
       "      <td>0.0</td>\n",
       "      <td>0.0</td>\n",
       "      <td>0.0</td>\n",
       "      <td>0.0</td>\n",
       "      <td>0.0</td>\n",
       "      <td>0.0</td>\n",
       "      <td>1.0</td>\n",
       "    </tr>\n",
       "  </tbody>\n",
       "</table>\n",
       "</div>"
      ],
      "text/plain": [
       "     YEAR  MONTH                    CONTRAGENT ARTICLE_CODE  \\\n",
       "0  2017.0    4.0               ROYAL WINE CORP       100200   \n",
       "1  2017.0    4.0      SANTA MARGHERITA USA INC       100749   \n",
       "2  2017.0    4.0            JIM BEAM BRANDS CO        10103   \n",
       "3  2017.0    4.0  HEAVEN HILL DISTILLERIES INC        10120   \n",
       "4  2017.0    4.0               ROYAL WINE CORP       101664   \n",
       "\n",
       "                            ARTICLE_NAME ARTICLE_GROUP  SALES  STORE_SALES  \\\n",
       "0                      GAMLA CAB - 750ML          WINE    0.0          0.0   \n",
       "1   SANTA MARGHERITA P/GRIG ALTO - 375ML          WINE    0.0          0.0   \n",
       "2  KNOB CREEK BOURBON 9YR - 100P - 375ML        LIQUOR    0.0          0.0   \n",
       "3          J W DANT BOURBON 100P - 1.75L        LIQUOR    0.0          0.0   \n",
       "4            RAMON CORDOVA RIOJA - 750ML          WINE    0.0          0.0   \n",
       "\n",
       "   (WINE,)  (LIQUOR,)  (BEER,)  (STR_SUPPLIES,)  (REF,)  (NON-ALCOHOL,)  \\\n",
       "0      0.0        0.0      0.0              0.0     0.0             0.0   \n",
       "1      0.0        0.0      0.0              0.0     0.0             0.0   \n",
       "2      0.0        0.0      0.0              1.0     0.0             0.0   \n",
       "3      0.0        0.0      0.0              1.0     0.0             0.0   \n",
       "4      0.0        0.0      0.0              0.0     0.0             0.0   \n",
       "\n",
       "   (KEGS,)  (DUNNAGE,)  \n",
       "0      0.0         1.0  \n",
       "1      0.0         1.0  \n",
       "2      0.0         0.0  \n",
       "3      0.0         0.0  \n",
       "4      0.0         1.0  "
      ]
     },
     "execution_count": 12,
     "metadata": {},
     "output_type": "execute_result"
    }
   ],
   "source": [
    "ohe = OneHotEncoder(categories = \"auto\",sparse = False)\n",
    "df.dropna(inplace=True)\n",
    "tp=ohe.fit_transform(df[['ARTICLE_GROUP']])\n",
    "tp_col=pd.DataFrame(tp, columns=[df['ARTICLE_GROUP'].unique()])\n",
    "df = pd.concat([df,tp_col],axis = 1)\n",
    "df.head()"
   ]
  },
  {
   "cell_type": "code",
   "execution_count": 13,
   "metadata": {},
   "outputs": [
    {
     "data": {
      "text/plain": [
       "Index([           'YEAR',           'MONTH',      'CONTRAGENT',\n",
       "          'ARTICLE_CODE',    'ARTICLE_NAME',   'ARTICLE_GROUP',\n",
       "                 'SALES',     'STORE_SALES',         ('WINE',),\n",
       "             ('LIQUOR',),         ('BEER',), ('STR_SUPPLIES',),\n",
       "                ('REF',),  ('NON-ALCOHOL',),         ('KEGS',),\n",
       "            ('DUNNAGE',)],\n",
       "      dtype='object')"
      ]
     },
     "execution_count": 13,
     "metadata": {},
     "output_type": "execute_result"
    }
   ],
   "source": [
    "df.columns"
   ]
  },
  {
   "cell_type": "code",
   "execution_count": 14,
   "metadata": {},
   "outputs": [],
   "source": [
    "df.isna().sum()\n",
    "df.dropna(inplace=True)"
   ]
  },
  {
   "cell_type": "code",
   "execution_count": 15,
   "metadata": {
    "scrolled": true
   },
   "outputs": [
    {
     "name": "stderr",
     "output_type": "stream",
     "text": [
      "e:\\ProgramData\\Anaconda3\\lib\\site-packages\\numpy\\core\\_asarray.py:83: VisibleDeprecationWarning: Creating an ndarray from ragged nested sequences (which is a list-or-tuple of lists-or-tuples-or ndarrays with different lengths or shapes) is deprecated. If you meant to do this, you must specify 'dtype=object' when creating the ndarray\n",
      "  return array(a, dtype, copy=False, order=order)\n"
     ]
    }
   ],
   "source": [
    "xtrain, xtest, ytrain, ytest=train_test_split(df[[           'YEAR',           'MONTH',           'STORE_SALES',         ('WINE',),\n",
    "             ('LIQUOR',),         ('BEER',), ('STR_SUPPLIES',),\n",
    "                ('REF',),  ('NON-ALCOHOL',),         ('KEGS',),\n",
    "            ('DUNNAGE',)]], df['SALES'], test_size=0.15)"
   ]
  },
  {
   "cell_type": "code",
   "execution_count": 16,
   "metadata": {},
   "outputs": [
    {
     "name": "stdout",
     "output_type": "stream",
     "text": [
      "XGBRegressor(base_score=None, booster=None, colsample_bylevel=None,\n",
      "             colsample_bynode=None, colsample_bytree=None, gamma=None,\n",
      "             gpu_id=None, importance_type='gain', interaction_constraints=None,\n",
      "             learning_rate=None, max_delta_step=None, max_depth=None,\n",
      "             min_child_weight=None, missing=nan, monotone_constraints=None,\n",
      "             n_estimators=100, n_jobs=None, num_parallel_tree=None,\n",
      "             random_state=None, reg_alpha=None, reg_lambda=None,\n",
      "             scale_pos_weight=None, subsample=None, tree_method=None,\n",
      "             validate_parameters=None, verbosity=None)\n"
     ]
    }
   ],
   "source": [
    "xgbr = xgb.XGBRegressor() \n",
    "print(xgbr)"
   ]
  },
  {
   "cell_type": "code",
   "execution_count": 17,
   "metadata": {},
   "outputs": [],
   "source": [
    "n_estimators = [50, 100, 150, 200]\n",
    "max_depth = [2, 4, 6, 8]\n",
    "param_grid = dict(max_depth=max_depth, n_estimators=n_estimators)"
   ]
  },
  {
   "cell_type": "code",
   "execution_count": 18,
   "metadata": {},
   "outputs": [
    {
     "name": "stdout",
     "output_type": "stream",
     "text": [
      "Fitting 10 folds for each of 16 candidates, totalling 160 fits\n"
     ]
    },
    {
     "name": "stderr",
     "output_type": "stream",
     "text": [
      "[Parallel(n_jobs=-1)]: Using backend LokyBackend with 12 concurrent workers.\n",
      "[Parallel(n_jobs=-1)]: Done  26 tasks      | elapsed:   13.2s\n",
      "[Parallel(n_jobs=-1)]: Done 160 out of 160 | elapsed:  1.9min finished\n"
     ]
    }
   ],
   "source": [
    "kfold = KFold(n_splits=10, shuffle=True)\n",
    "grid_search = GridSearchCV(xgbr, param_grid, scoring='neg_mean_squared_error', n_jobs=-1, cv=kfold, verbose=1)\n",
    "result = grid_search.fit(xtrain, ytrain)\n"
   ]
  },
  {
   "cell_type": "code",
   "execution_count": 24,
   "metadata": {},
   "outputs": [
    {
     "name": "stdout",
     "output_type": "stream",
     "text": [
      "Best: -659320398.665076 using {'max_depth': 2, 'n_estimators': 50}\n"
     ]
    }
   ],
   "source": [
    "print(\"Best: %f using %s\" % (result.best_score_, result.best_params_))"
   ]
  },
  {
   "cell_type": "code",
   "execution_count": 28,
   "metadata": {},
   "outputs": [
    {
     "data": {
      "text/plain": [
       "XGBRegressor(base_score=0.5, booster='gbtree', colsample_bylevel=1,\n",
       "             colsample_bynode=1, colsample_bytree=1, gamma=0, gpu_id=-1,\n",
       "             importance_type='gain', interaction_constraints='',\n",
       "             learning_rate=0.300000012, max_delta_step=0, max_depth=2,\n",
       "             min_child_weight=1, missing=nan, monotone_constraints='()',\n",
       "             n_estimators=50, n_jobs=0, num_parallel_tree=1, random_state=0,\n",
       "             reg_alpha=0, reg_lambda=1, scale_pos_weight=1, subsample=1,\n",
       "             tree_method='exact', validate_parameters=1, verbosity=None)"
      ]
     },
     "execution_count": 28,
     "metadata": {},
     "output_type": "execute_result"
    }
   ],
   "source": [
    "xgbr = xgb.XGBRegressor(max_depth=2,n_estimators=50) \n",
    "xgbr.fit(xtrain, ytrain)\n"
   ]
  },
  {
   "cell_type": "code",
   "execution_count": 29,
   "metadata": {},
   "outputs": [
    {
     "data": {
      "image/png": "[encoded data removed]",
      "text/plain": [
       "<Figure size 1440x720 with 1 Axes>"
      ]
     },
     "metadata": {
      "needs_background": "light"
     },
     "output_type": "display_data"
    }
   ],
   "source": [
    "from xgboost import plot_importance, plot_tree\n",
    "_ = plot_importance(xgbr, height=0.9)"
   ]
  },
  {
   "cell_type": "code",
   "execution_count": 30,
   "metadata": {},
   "outputs": [
    {
     "name": "stderr",
     "output_type": "stream",
     "text": [
      "e:\\ProgramData\\Anaconda3\\lib\\site-packages\\ipykernel_launcher.py:6: RuntimeWarning: divide by zero encountered in true_divide\n",
      "  \n"
     ]
    }
   ],
   "source": [
    "from sklearn.metrics import mean_squared_error\n",
    "\n",
    "def mean_absolute_percentage_error(y_true, y_pred): \n",
    "    \"\"\"Calculates MAPE given y_true and y_pred\"\"\"\n",
    "    y_true, y_pred = np.array(y_true), np.array(y_pred)\n",
    "    return np.mean(np.abs((y_true - y_pred) / y_true)) * 100\n",
    "\n",
    "ypred = xgbr.predict(xtest)\n",
    "mse = mean_squared_error(ytest, ypred)\n",
    "metr=metric(ytest, ypred)\n",
    "mape=mean_absolute_percentage_error(ytest, ypred)\n",
    "#print(\"Training score: \", score)"
   ]
  },
  {
   "cell_type": "code",
   "execution_count": 31,
   "metadata": {},
   "outputs": [
    {
     "data": {
      "text/plain": [
       "(707198382.9451457, inf, 113.41241422282987)"
      ]
     },
     "execution_count": 31,
     "metadata": {},
     "output_type": "execute_result"
    }
   ],
   "source": [
    "mse, mape, metr"
   ]
  },
  {
   "cell_type": "markdown",
   "metadata": {},
   "source": [
    "# Модель со стандартизированными предикторами"
   ]
  },
  {
   "cell_type": "code",
   "execution_count": null,
   "metadata": {},
   "outputs": [],
   "source": [
    "df1 = preprocessing.scale(df[[           'YEAR',           'MONTH',           'STORE_SALES',         ('WINE',),\n",
    "             ('LIQUOR',),         ('BEER',), ('STR_SUPPLIES',),\n",
    "                ('REF',),  ('NON-ALCOHOL',),         ('KEGS',),\n",
    "            ('DUNNAGE',)]])"
   ]
  },
  {
   "cell_type": "code",
   "execution_count": 34,
   "metadata": {
    "scrolled": true
   },
   "outputs": [],
   "source": [
    "xtrain, xtest, ytrain, ytest=train_test_split(df1, df['SALES'], test_size=0.15)"
   ]
  },
  {
   "cell_type": "code",
   "execution_count": 35,
   "metadata": {},
   "outputs": [
    {
     "name": "stdout",
     "output_type": "stream",
     "text": [
      "XGBRegressor(base_score=None, booster=None, colsample_bylevel=None,\n",
      "             colsample_bynode=None, colsample_bytree=None, gamma=None,\n",
      "             gpu_id=None, importance_type='gain', interaction_constraints=None,\n",
      "             learning_rate=None, max_delta_step=None, max_depth=None,\n",
      "             min_child_weight=None, missing=nan, monotone_constraints=None,\n",
      "             n_estimators=100, n_jobs=None, num_parallel_tree=None,\n",
      "             random_state=None, reg_alpha=None, reg_lambda=None,\n",
      "             scale_pos_weight=None, subsample=None, tree_method=None,\n",
      "             validate_parameters=None, verbosity=None)\n"
     ]
    }
   ],
   "source": [
    "xgbr = xgb.XGBRegressor() \n",
    "print(xgbr)"
   ]
  },
  {
   "cell_type": "code",
   "execution_count": 36,
   "metadata": {},
   "outputs": [],
   "source": [
    "n_estimators = [50, 100, 150, 200]\n",
    "max_depth = [2, 4, 6, 8]\n",
    "param_grid = dict(max_depth=max_depth, n_estimators=n_estimators)"
   ]
  },
  {
   "cell_type": "code",
   "execution_count": 37,
   "metadata": {},
   "outputs": [
    {
     "name": "stdout",
     "output_type": "stream",
     "text": [
      "Fitting 10 folds for each of 16 candidates, totalling 160 fits\n"
     ]
    },
    {
     "name": "stderr",
     "output_type": "stream",
     "text": [
      "[Parallel(n_jobs=-1)]: Using backend LokyBackend with 12 concurrent workers.\n",
      "[Parallel(n_jobs=-1)]: Done  26 tasks      | elapsed:   13.2s\n",
      "[Parallel(n_jobs=-1)]: Done 160 out of 160 | elapsed:  1.9min finished\n"
     ]
    }
   ],
   "source": [
    "kfold = KFold(n_splits=10, shuffle=True)\n",
    "grid_search = GridSearchCV(xgbr, param_grid, scoring='neg_mean_squared_error', n_jobs=-1, cv=kfold, verbose=1)\n",
    "result = grid_search.fit(xtrain, ytrain)\n"
   ]
  },
  {
   "cell_type": "code",
   "execution_count": 38,
   "metadata": {},
   "outputs": [
    {
     "name": "stdout",
     "output_type": "stream",
     "text": [
      "Best: -636991492.983085 using {'max_depth': 2, 'n_estimators': 50}\n"
     ]
    }
   ],
   "source": [
    "print(\"Best: %f using %s\" % (result.best_score_, result.best_params_))"
   ]
  },
  {
   "cell_type": "code",
   "execution_count": 39,
   "metadata": {},
   "outputs": [
    {
     "data": {
      "text/plain": [
       "XGBRegressor(base_score=0.5, booster='gbtree', colsample_bylevel=1,\n",
       "             colsample_bynode=1, colsample_bytree=1, gamma=0, gpu_id=-1,\n",
       "             importance_type='gain', interaction_constraints='',\n",
       "             learning_rate=0.300000012, max_delta_step=0, max_depth=2,\n",
       "             min_child_weight=1, missing=nan, monotone_constraints='()',\n",
       "             n_estimators=50, n_jobs=0, num_parallel_tree=1, random_state=0,\n",
       "             reg_alpha=0, reg_lambda=1, scale_pos_weight=1, subsample=1,\n",
       "             tree_method='exact', validate_parameters=1, verbosity=None)"
      ]
     },
     "execution_count": 39,
     "metadata": {},
     "output_type": "execute_result"
    }
   ],
   "source": [
    "xgbr = xgb.XGBRegressor(max_depth=2,n_estimators=50) \n",
    "xgbr.fit(xtrain, ytrain)\n"
   ]
  },
  {
   "cell_type": "code",
   "execution_count": 40,
   "metadata": {},
   "outputs": [
    {
     "data": {
      "image/png": "[encoded data removed]",
      "text/plain": [
       "<Figure size 1440x720 with 1 Axes>"
      ]
     },
     "metadata": {
      "needs_background": "light"
     },
     "output_type": "display_data"
    }
   ],
   "source": [
    "from xgboost import plot_importance, plot_tree\n",
    "_ = plot_importance(xgbr, height=0.9)"
   ]
  },
  {
   "cell_type": "code",
   "execution_count": 41,
   "metadata": {},
   "outputs": [
    {
     "name": "stderr",
     "output_type": "stream",
     "text": [
      "e:\\ProgramData\\Anaconda3\\lib\\site-packages\\ipykernel_launcher.py:6: RuntimeWarning: divide by zero encountered in true_divide\n",
      "  \n"
     ]
    }
   ],
   "source": [
    "from sklearn.metrics import mean_squared_error\n",
    "\n",
    "def mean_absolute_percentage_error(y_true, y_pred): \n",
    "    \"\"\"Calculates MAPE given y_true and y_pred\"\"\"\n",
    "    y_true, y_pred = np.array(y_true), np.array(y_pred)\n",
    "    return np.mean(np.abs((y_true - y_pred) / y_true)) * 100\n",
    "\n",
    "ypred = xgbr.predict(xtest)\n",
    "mse = mean_squared_error(ytest, ypred)\n",
    "metr=metric(ytest, ypred)\n",
    "mape=mean_absolute_percentage_error(ytest, ypred)\n",
    "#print(\"Training score: \", score)"
   ]
  },
  {
   "cell_type": "code",
   "execution_count": 42,
   "metadata": {},
   "outputs": [
    {
     "data": {
      "text/plain": [
       "(643717177.9927584, inf, 116.62618409703629)"
      ]
     },
     "execution_count": 42,
     "metadata": {},
     "output_type": "execute_result"
    }
   ],
   "source": [
    "mse, mape, metr"
   ]
  },
  {
   "cell_type": "markdown",
   "metadata": {},
   "source": [
    "# Добавим переменных"
   ]
  },
  {
   "cell_type": "code",
   "execution_count": 43,
   "metadata": {},
   "outputs": [
    {
     "data": {
      "text/html": [
       "<div>\n",
       "<style scoped>\n",
       "    .dataframe tbody tr th:only-of-type {\n",
       "        vertical-align: middle;\n",
       "    }\n",
       "\n",
       "    .dataframe tbody tr th {\n",
       "        vertical-align: top;\n",
       "    }\n",
       "\n",
       "    .dataframe thead th {\n",
       "        text-align: right;\n",
       "    }\n",
       "</style>\n",
       "<table border=\"1\" class=\"dataframe\">\n",
       "  <thead>\n",
       "    <tr style=\"text-align: right;\">\n",
       "      <th></th>\n",
       "      <th>YEAR</th>\n",
       "      <th>MONTH</th>\n",
       "      <th>CONTRAGENT</th>\n",
       "      <th>ARTICLE_CODE</th>\n",
       "      <th>ARTICLE_NAME</th>\n",
       "      <th>ARTICLE_GROUP</th>\n",
       "      <th>SALES</th>\n",
       "      <th>STORE_SALES</th>\n",
       "      <th>(WINE,)</th>\n",
       "      <th>(LIQUOR,)</th>\n",
       "      <th>(BEER,)</th>\n",
       "      <th>(STR_SUPPLIES,)</th>\n",
       "      <th>(REF,)</th>\n",
       "      <th>(NON-ALCOHOL,)</th>\n",
       "      <th>(KEGS,)</th>\n",
       "      <th>(DUNNAGE,)</th>\n",
       "    </tr>\n",
       "  </thead>\n",
       "  <tbody>\n",
       "    <tr>\n",
       "      <th>0</th>\n",
       "      <td>2017.0</td>\n",
       "      <td>4.0</td>\n",
       "      <td>ROYAL WINE CORP</td>\n",
       "      <td>100200</td>\n",
       "      <td>GAMLA CAB - 750ML</td>\n",
       "      <td>WINE</td>\n",
       "      <td>0.0</td>\n",
       "      <td>0.0</td>\n",
       "      <td>0.0</td>\n",
       "      <td>0.0</td>\n",
       "      <td>0.0</td>\n",
       "      <td>0.0</td>\n",
       "      <td>0.0</td>\n",
       "      <td>0.0</td>\n",
       "      <td>0.0</td>\n",
       "      <td>1.0</td>\n",
       "    </tr>\n",
       "    <tr>\n",
       "      <th>1</th>\n",
       "      <td>2017.0</td>\n",
       "      <td>4.0</td>\n",
       "      <td>SANTA MARGHERITA USA INC</td>\n",
       "      <td>100749</td>\n",
       "      <td>SANTA MARGHERITA P/GRIG ALTO - 375ML</td>\n",
       "      <td>WINE</td>\n",
       "      <td>0.0</td>\n",
       "      <td>0.0</td>\n",
       "      <td>0.0</td>\n",
       "      <td>0.0</td>\n",
       "      <td>0.0</td>\n",
       "      <td>0.0</td>\n",
       "      <td>0.0</td>\n",
       "      <td>0.0</td>\n",
       "      <td>0.0</td>\n",
       "      <td>1.0</td>\n",
       "    </tr>\n",
       "    <tr>\n",
       "      <th>2</th>\n",
       "      <td>2017.0</td>\n",
       "      <td>4.0</td>\n",
       "      <td>JIM BEAM BRANDS CO</td>\n",
       "      <td>10103</td>\n",
       "      <td>KNOB CREEK BOURBON 9YR - 100P - 375ML</td>\n",
       "      <td>LIQUOR</td>\n",
       "      <td>0.0</td>\n",
       "      <td>0.0</td>\n",
       "      <td>0.0</td>\n",
       "      <td>0.0</td>\n",
       "      <td>0.0</td>\n",
       "      <td>1.0</td>\n",
       "      <td>0.0</td>\n",
       "      <td>0.0</td>\n",
       "      <td>0.0</td>\n",
       "      <td>0.0</td>\n",
       "    </tr>\n",
       "    <tr>\n",
       "      <th>3</th>\n",
       "      <td>2017.0</td>\n",
       "      <td>4.0</td>\n",
       "      <td>HEAVEN HILL DISTILLERIES INC</td>\n",
       "      <td>10120</td>\n",
       "      <td>J W DANT BOURBON 100P - 1.75L</td>\n",
       "      <td>LIQUOR</td>\n",
       "      <td>0.0</td>\n",
       "      <td>0.0</td>\n",
       "      <td>0.0</td>\n",
       "      <td>0.0</td>\n",
       "      <td>0.0</td>\n",
       "      <td>1.0</td>\n",
       "      <td>0.0</td>\n",
       "      <td>0.0</td>\n",
       "      <td>0.0</td>\n",
       "      <td>0.0</td>\n",
       "    </tr>\n",
       "    <tr>\n",
       "      <th>4</th>\n",
       "      <td>2017.0</td>\n",
       "      <td>4.0</td>\n",
       "      <td>ROYAL WINE CORP</td>\n",
       "      <td>101664</td>\n",
       "      <td>RAMON CORDOVA RIOJA - 750ML</td>\n",
       "      <td>WINE</td>\n",
       "      <td>0.0</td>\n",
       "      <td>0.0</td>\n",
       "      <td>0.0</td>\n",
       "      <td>0.0</td>\n",
       "      <td>0.0</td>\n",
       "      <td>0.0</td>\n",
       "      <td>0.0</td>\n",
       "      <td>0.0</td>\n",
       "      <td>0.0</td>\n",
       "      <td>1.0</td>\n",
       "    </tr>\n",
       "    <tr>\n",
       "      <th>...</th>\n",
       "      <td>...</td>\n",
       "      <td>...</td>\n",
       "      <td>...</td>\n",
       "      <td>...</td>\n",
       "      <td>...</td>\n",
       "      <td>...</td>\n",
       "      <td>...</td>\n",
       "      <td>...</td>\n",
       "      <td>...</td>\n",
       "      <td>...</td>\n",
       "      <td>...</td>\n",
       "      <td>...</td>\n",
       "      <td>...</td>\n",
       "      <td>...</td>\n",
       "      <td>...</td>\n",
       "      <td>...</td>\n",
       "    </tr>\n",
       "    <tr>\n",
       "      <th>128325</th>\n",
       "      <td>2018.0</td>\n",
       "      <td>2.0</td>\n",
       "      <td>LABATT USA OPERATING CO LLC</td>\n",
       "      <td>99333</td>\n",
       "      <td>MAGIC HAT #9 1/2K</td>\n",
       "      <td>KEGS</td>\n",
       "      <td>0.0</td>\n",
       "      <td>1.0</td>\n",
       "      <td>1.0</td>\n",
       "      <td>0.0</td>\n",
       "      <td>0.0</td>\n",
       "      <td>0.0</td>\n",
       "      <td>0.0</td>\n",
       "      <td>0.0</td>\n",
       "      <td>0.0</td>\n",
       "      <td>0.0</td>\n",
       "    </tr>\n",
       "    <tr>\n",
       "      <th>128326</th>\n",
       "      <td>2018.0</td>\n",
       "      <td>2.0</td>\n",
       "      <td>YUENGLING BREWERY</td>\n",
       "      <td>99350</td>\n",
       "      <td>YUENGLING LAGER 1/4K</td>\n",
       "      <td>KEGS</td>\n",
       "      <td>0.0</td>\n",
       "      <td>35.0</td>\n",
       "      <td>0.0</td>\n",
       "      <td>0.0</td>\n",
       "      <td>1.0</td>\n",
       "      <td>0.0</td>\n",
       "      <td>0.0</td>\n",
       "      <td>0.0</td>\n",
       "      <td>0.0</td>\n",
       "      <td>0.0</td>\n",
       "    </tr>\n",
       "    <tr>\n",
       "      <th>128327</th>\n",
       "      <td>2018.0</td>\n",
       "      <td>2.0</td>\n",
       "      <td>INTERBALT PRODUCTS CORP</td>\n",
       "      <td>99368</td>\n",
       "      <td>BALTIKA #8 NR 20/CS - 16.9OZ</td>\n",
       "      <td>BEER</td>\n",
       "      <td>0.0</td>\n",
       "      <td>1.0</td>\n",
       "      <td>1.0</td>\n",
       "      <td>0.0</td>\n",
       "      <td>0.0</td>\n",
       "      <td>0.0</td>\n",
       "      <td>0.0</td>\n",
       "      <td>0.0</td>\n",
       "      <td>0.0</td>\n",
       "      <td>0.0</td>\n",
       "    </tr>\n",
       "    <tr>\n",
       "      <th>128328</th>\n",
       "      <td>2018.0</td>\n",
       "      <td>2.0</td>\n",
       "      <td>HAMCO DC</td>\n",
       "      <td>9938</td>\n",
       "      <td>THERMAL REGISTER PAPER</td>\n",
       "      <td>STR_SUPPLIES</td>\n",
       "      <td>0.0</td>\n",
       "      <td>0.0</td>\n",
       "      <td>1.0</td>\n",
       "      <td>0.0</td>\n",
       "      <td>0.0</td>\n",
       "      <td>0.0</td>\n",
       "      <td>0.0</td>\n",
       "      <td>0.0</td>\n",
       "      <td>0.0</td>\n",
       "      <td>0.0</td>\n",
       "    </tr>\n",
       "    <tr>\n",
       "      <th>128329</th>\n",
       "      <td>2018.0</td>\n",
       "      <td>2.0</td>\n",
       "      <td>LEGENDS LTD</td>\n",
       "      <td>99554</td>\n",
       "      <td>MAUDITE 6/4 NR - 12OZ</td>\n",
       "      <td>BEER</td>\n",
       "      <td>1360.0</td>\n",
       "      <td>1.0</td>\n",
       "      <td>0.0</td>\n",
       "      <td>0.0</td>\n",
       "      <td>1.0</td>\n",
       "      <td>0.0</td>\n",
       "      <td>0.0</td>\n",
       "      <td>0.0</td>\n",
       "      <td>0.0</td>\n",
       "      <td>0.0</td>\n",
       "    </tr>\n",
       "  </tbody>\n",
       "</table>\n",
       "<p>128307 rows × 16 columns</p>\n",
       "</div>"
      ],
      "text/plain": [
       "          YEAR  MONTH                    CONTRAGENT ARTICLE_CODE  \\\n",
       "0       2017.0    4.0               ROYAL WINE CORP       100200   \n",
       "1       2017.0    4.0      SANTA MARGHERITA USA INC       100749   \n",
       "2       2017.0    4.0            JIM BEAM BRANDS CO        10103   \n",
       "3       2017.0    4.0  HEAVEN HILL DISTILLERIES INC        10120   \n",
       "4       2017.0    4.0               ROYAL WINE CORP       101664   \n",
       "...        ...    ...                           ...          ...   \n",
       "128325  2018.0    2.0   LABATT USA OPERATING CO LLC        99333   \n",
       "128326  2018.0    2.0             YUENGLING BREWERY        99350   \n",
       "128327  2018.0    2.0       INTERBALT PRODUCTS CORP        99368   \n",
       "128328  2018.0    2.0                      HAMCO DC         9938   \n",
       "128329  2018.0    2.0                   LEGENDS LTD        99554   \n",
       "\n",
       "                                 ARTICLE_NAME ARTICLE_GROUP   SALES  \\\n",
       "0                           GAMLA CAB - 750ML          WINE     0.0   \n",
       "1        SANTA MARGHERITA P/GRIG ALTO - 375ML          WINE     0.0   \n",
       "2       KNOB CREEK BOURBON 9YR - 100P - 375ML        LIQUOR     0.0   \n",
       "3               J W DANT BOURBON 100P - 1.75L        LIQUOR     0.0   \n",
       "4                 RAMON CORDOVA RIOJA - 750ML          WINE     0.0   \n",
       "...                                       ...           ...     ...   \n",
       "128325                      MAGIC HAT #9 1/2K          KEGS     0.0   \n",
       "128326                   YUENGLING LAGER 1/4K          KEGS     0.0   \n",
       "128327           BALTIKA #8 NR 20/CS - 16.9OZ          BEER     0.0   \n",
       "128328                 THERMAL REGISTER PAPER  STR_SUPPLIES     0.0   \n",
       "128329                  MAUDITE 6/4 NR - 12OZ          BEER  1360.0   \n",
       "\n",
       "        STORE_SALES  (WINE,)  (LIQUOR,)  (BEER,)  (STR_SUPPLIES,)  (REF,)  \\\n",
       "0               0.0      0.0        0.0      0.0              0.0     0.0   \n",
       "1               0.0      0.0        0.0      0.0              0.0     0.0   \n",
       "2               0.0      0.0        0.0      0.0              1.0     0.0   \n",
       "3               0.0      0.0        0.0      0.0              1.0     0.0   \n",
       "4               0.0      0.0        0.0      0.0              0.0     0.0   \n",
       "...             ...      ...        ...      ...              ...     ...   \n",
       "128325          1.0      1.0        0.0      0.0              0.0     0.0   \n",
       "128326         35.0      0.0        0.0      1.0              0.0     0.0   \n",
       "128327          1.0      1.0        0.0      0.0              0.0     0.0   \n",
       "128328          0.0      1.0        0.0      0.0              0.0     0.0   \n",
       "128329          1.0      0.0        0.0      1.0              0.0     0.0   \n",
       "\n",
       "        (NON-ALCOHOL,)  (KEGS,)  (DUNNAGE,)  \n",
       "0                  0.0      0.0         1.0  \n",
       "1                  0.0      0.0         1.0  \n",
       "2                  0.0      0.0         0.0  \n",
       "3                  0.0      0.0         0.0  \n",
       "4                  0.0      0.0         1.0  \n",
       "...                ...      ...         ...  \n",
       "128325             0.0      0.0         0.0  \n",
       "128326             0.0      0.0         0.0  \n",
       "128327             0.0      0.0         0.0  \n",
       "128328             0.0      0.0         0.0  \n",
       "128329             0.0      0.0         0.0  \n",
       "\n",
       "[128307 rows x 16 columns]"
      ]
     },
     "execution_count": 43,
     "metadata": {},
     "output_type": "execute_result"
    }
   ],
   "source": [
    "df#.head()"
   ]
  },
  {
   "cell_type": "code",
   "execution_count": 44,
   "metadata": {},
   "outputs": [
    {
     "data": {
      "text/html": [
       "<div>\n",
       "<style scoped>\n",
       "    .dataframe tbody tr th:only-of-type {\n",
       "        vertical-align: middle;\n",
       "    }\n",
       "\n",
       "    .dataframe tbody tr th {\n",
       "        vertical-align: top;\n",
       "    }\n",
       "\n",
       "    .dataframe thead th {\n",
       "        text-align: right;\n",
       "    }\n",
       "</style>\n",
       "<table border=\"1\" class=\"dataframe\">\n",
       "  <thead>\n",
       "    <tr style=\"text-align: right;\">\n",
       "      <th></th>\n",
       "      <th>YEAR</th>\n",
       "      <th>MONTH</th>\n",
       "      <th>CONTRAGENT</th>\n",
       "      <th>ARTICLE_CODE</th>\n",
       "      <th>ARTICLE_NAME</th>\n",
       "      <th>ARTICLE_GROUP</th>\n",
       "      <th>SALES</th>\n",
       "      <th>STORE_SALES</th>\n",
       "      <th>(WINE,)</th>\n",
       "      <th>(LIQUOR,)</th>\n",
       "      <th>...</th>\n",
       "      <th>(CHARLES JACQUIN ET CIE INC,)</th>\n",
       "      <th>(THE SANDY BOTTOM ENTERPRISES LLC,)</th>\n",
       "      <th>(SMITH-ANDERSON ENTERPRISES INC,)</th>\n",
       "      <th>(VINIFERA DISTRIBUTING OF MARYLAND INC,)</th>\n",
       "      <th>(PAMPA BEVERAGES LLC DBA TRANSNATIONAL SU,)</th>\n",
       "      <th>(DCD ENTERPRISES LLC,)</th>\n",
       "      <th>(BULLSHINE DISTILLERY LLC,)</th>\n",
       "      <th>(CASA CHIRICO LLC,)</th>\n",
       "      <th>(FREELANCE WINES LLC,)</th>\n",
       "      <th>(BLACK ANKLE VINEYARDS LLC,)</th>\n",
       "    </tr>\n",
       "  </thead>\n",
       "  <tbody>\n",
       "    <tr>\n",
       "      <th>0</th>\n",
       "      <td>2017.0</td>\n",
       "      <td>4.0</td>\n",
       "      <td>ROYAL WINE CORP</td>\n",
       "      <td>100200</td>\n",
       "      <td>GAMLA CAB - 750ML</td>\n",
       "      <td>WINE</td>\n",
       "      <td>0.0</td>\n",
       "      <td>0.0</td>\n",
       "      <td>0.0</td>\n",
       "      <td>0.0</td>\n",
       "      <td>...</td>\n",
       "      <td>0.0</td>\n",
       "      <td>0.0</td>\n",
       "      <td>0.0</td>\n",
       "      <td>0.0</td>\n",
       "      <td>0.0</td>\n",
       "      <td>0.0</td>\n",
       "      <td>0.0</td>\n",
       "      <td>0.0</td>\n",
       "      <td>0.0</td>\n",
       "      <td>0.0</td>\n",
       "    </tr>\n",
       "    <tr>\n",
       "      <th>1</th>\n",
       "      <td>2017.0</td>\n",
       "      <td>4.0</td>\n",
       "      <td>SANTA MARGHERITA USA INC</td>\n",
       "      <td>100749</td>\n",
       "      <td>SANTA MARGHERITA P/GRIG ALTO - 375ML</td>\n",
       "      <td>WINE</td>\n",
       "      <td>0.0</td>\n",
       "      <td>0.0</td>\n",
       "      <td>0.0</td>\n",
       "      <td>0.0</td>\n",
       "      <td>...</td>\n",
       "      <td>0.0</td>\n",
       "      <td>0.0</td>\n",
       "      <td>0.0</td>\n",
       "      <td>0.0</td>\n",
       "      <td>0.0</td>\n",
       "      <td>0.0</td>\n",
       "      <td>0.0</td>\n",
       "      <td>0.0</td>\n",
       "      <td>0.0</td>\n",
       "      <td>0.0</td>\n",
       "    </tr>\n",
       "    <tr>\n",
       "      <th>2</th>\n",
       "      <td>2017.0</td>\n",
       "      <td>4.0</td>\n",
       "      <td>JIM BEAM BRANDS CO</td>\n",
       "      <td>10103</td>\n",
       "      <td>KNOB CREEK BOURBON 9YR - 100P - 375ML</td>\n",
       "      <td>LIQUOR</td>\n",
       "      <td>0.0</td>\n",
       "      <td>0.0</td>\n",
       "      <td>0.0</td>\n",
       "      <td>0.0</td>\n",
       "      <td>...</td>\n",
       "      <td>0.0</td>\n",
       "      <td>0.0</td>\n",
       "      <td>0.0</td>\n",
       "      <td>0.0</td>\n",
       "      <td>0.0</td>\n",
       "      <td>0.0</td>\n",
       "      <td>0.0</td>\n",
       "      <td>0.0</td>\n",
       "      <td>0.0</td>\n",
       "      <td>0.0</td>\n",
       "    </tr>\n",
       "    <tr>\n",
       "      <th>3</th>\n",
       "      <td>2017.0</td>\n",
       "      <td>4.0</td>\n",
       "      <td>HEAVEN HILL DISTILLERIES INC</td>\n",
       "      <td>10120</td>\n",
       "      <td>J W DANT BOURBON 100P - 1.75L</td>\n",
       "      <td>LIQUOR</td>\n",
       "      <td>0.0</td>\n",
       "      <td>0.0</td>\n",
       "      <td>0.0</td>\n",
       "      <td>0.0</td>\n",
       "      <td>...</td>\n",
       "      <td>0.0</td>\n",
       "      <td>0.0</td>\n",
       "      <td>0.0</td>\n",
       "      <td>0.0</td>\n",
       "      <td>0.0</td>\n",
       "      <td>0.0</td>\n",
       "      <td>0.0</td>\n",
       "      <td>0.0</td>\n",
       "      <td>0.0</td>\n",
       "      <td>0.0</td>\n",
       "    </tr>\n",
       "    <tr>\n",
       "      <th>4</th>\n",
       "      <td>2017.0</td>\n",
       "      <td>4.0</td>\n",
       "      <td>ROYAL WINE CORP</td>\n",
       "      <td>101664</td>\n",
       "      <td>RAMON CORDOVA RIOJA - 750ML</td>\n",
       "      <td>WINE</td>\n",
       "      <td>0.0</td>\n",
       "      <td>0.0</td>\n",
       "      <td>0.0</td>\n",
       "      <td>0.0</td>\n",
       "      <td>...</td>\n",
       "      <td>0.0</td>\n",
       "      <td>0.0</td>\n",
       "      <td>0.0</td>\n",
       "      <td>0.0</td>\n",
       "      <td>0.0</td>\n",
       "      <td>0.0</td>\n",
       "      <td>0.0</td>\n",
       "      <td>0.0</td>\n",
       "      <td>0.0</td>\n",
       "      <td>0.0</td>\n",
       "    </tr>\n",
       "  </tbody>\n",
       "</table>\n",
       "<p>5 rows × 349 columns</p>\n",
       "</div>"
      ],
      "text/plain": [
       "     YEAR  MONTH                    CONTRAGENT ARTICLE_CODE  \\\n",
       "0  2017.0    4.0               ROYAL WINE CORP       100200   \n",
       "1  2017.0    4.0      SANTA MARGHERITA USA INC       100749   \n",
       "2  2017.0    4.0            JIM BEAM BRANDS CO        10103   \n",
       "3  2017.0    4.0  HEAVEN HILL DISTILLERIES INC        10120   \n",
       "4  2017.0    4.0               ROYAL WINE CORP       101664   \n",
       "\n",
       "                            ARTICLE_NAME ARTICLE_GROUP  SALES  STORE_SALES  \\\n",
       "0                      GAMLA CAB - 750ML          WINE    0.0          0.0   \n",
       "1   SANTA MARGHERITA P/GRIG ALTO - 375ML          WINE    0.0          0.0   \n",
       "2  KNOB CREEK BOURBON 9YR - 100P - 375ML        LIQUOR    0.0          0.0   \n",
       "3          J W DANT BOURBON 100P - 1.75L        LIQUOR    0.0          0.0   \n",
       "4            RAMON CORDOVA RIOJA - 750ML          WINE    0.0          0.0   \n",
       "\n",
       "   (WINE,)  (LIQUOR,)  ...  (CHARLES JACQUIN ET CIE INC,)  \\\n",
       "0      0.0        0.0  ...                            0.0   \n",
       "1      0.0        0.0  ...                            0.0   \n",
       "2      0.0        0.0  ...                            0.0   \n",
       "3      0.0        0.0  ...                            0.0   \n",
       "4      0.0        0.0  ...                            0.0   \n",
       "\n",
       "   (THE SANDY BOTTOM ENTERPRISES LLC,)  (SMITH-ANDERSON ENTERPRISES INC,)  \\\n",
       "0                                  0.0                                0.0   \n",
       "1                                  0.0                                0.0   \n",
       "2                                  0.0                                0.0   \n",
       "3                                  0.0                                0.0   \n",
       "4                                  0.0                                0.0   \n",
       "\n",
       "   (VINIFERA DISTRIBUTING OF MARYLAND INC,)  \\\n",
       "0                                       0.0   \n",
       "1                                       0.0   \n",
       "2                                       0.0   \n",
       "3                                       0.0   \n",
       "4                                       0.0   \n",
       "\n",
       "   (PAMPA BEVERAGES LLC DBA TRANSNATIONAL SU,)  (DCD ENTERPRISES LLC,)  \\\n",
       "0                                          0.0                     0.0   \n",
       "1                                          0.0                     0.0   \n",
       "2                                          0.0                     0.0   \n",
       "3                                          0.0                     0.0   \n",
       "4                                          0.0                     0.0   \n",
       "\n",
       "   (BULLSHINE DISTILLERY LLC,)  (CASA CHIRICO LLC,)  (FREELANCE WINES LLC,)  \\\n",
       "0                          0.0                  0.0                     0.0   \n",
       "1                          0.0                  0.0                     0.0   \n",
       "2                          0.0                  0.0                     0.0   \n",
       "3                          0.0                  0.0                     0.0   \n",
       "4                          0.0                  0.0                     0.0   \n",
       "\n",
       "   (BLACK ANKLE VINEYARDS LLC,)  \n",
       "0                           0.0  \n",
       "1                           0.0  \n",
       "2                           0.0  \n",
       "3                           0.0  \n",
       "4                           0.0  \n",
       "\n",
       "[5 rows x 349 columns]"
      ]
     },
     "execution_count": 44,
     "metadata": {},
     "output_type": "execute_result"
    }
   ],
   "source": [
    "ohe = OneHotEncoder(categories = \"auto\",sparse = False)\n",
    "df.dropna(inplace=True)\n",
    "tp=ohe.fit_transform(df[['CONTRAGENT']])\n",
    "tp_col=pd.DataFrame(tp, columns=[df['CONTRAGENT'].unique()])\n",
    "df = pd.concat([df,tp_col],axis = 1)\n",
    "df.head()"
   ]
  },
  {
   "cell_type": "code",
   "execution_count": 53,
   "metadata": {},
   "outputs": [
    {
     "data": {
      "text/plain": [
       "['750ML']"
      ]
     },
     "execution_count": 53,
     "metadata": {},
     "output_type": "execute_result"
    }
   ],
   "source": [
    "re.findall(r'\\d{3}', 'GAMLA CAB - 750ML')"
   ]
  },
  {
   "cell_type": "code",
   "execution_count": 55,
   "metadata": {},
   "outputs": [
    {
     "data": {
      "text/plain": [
       "' 750ML'"
      ]
     },
     "execution_count": 55,
     "metadata": {},
     "output_type": "execute_result"
    }
   ],
   "source": [
    "re.split(r'-', 'GAMLA CAB - 750ML')[-1]"
   ]
  },
  {
   "cell_type": "code",
   "execution_count": 59,
   "metadata": {},
   "outputs": [
    {
     "data": {
      "text/plain": [
       "0                             GAMLA CAB - 750ML\n",
       "1          SANTA MARGHERITA P/GRIG ALTO - 375ML\n",
       "2         KNOB CREEK BOURBON 9YR - 100P - 375ML\n",
       "3                 J W DANT BOURBON 100P - 1.75L\n",
       "4                   RAMON CORDOVA RIOJA - 750ML\n",
       "                          ...                  \n",
       "128325                        MAGIC HAT #9 1/2K\n",
       "128326                     YUENGLING LAGER 1/4K\n",
       "128327             BALTIKA #8 NR 20/CS - 16.9OZ\n",
       "128328                   THERMAL REGISTER PAPER\n",
       "128329                    MAUDITE 6/4 NR - 12OZ\n",
       "Name: ARTICLE_NAME, Length: 128330, dtype: object"
      ]
     },
     "execution_count": 59,
     "metadata": {},
     "output_type": "execute_result"
    }
   ],
   "source": [
    "df['ARTICLE_NAME']"
   ]
  },
  {
   "cell_type": "code",
   "execution_count": 75,
   "metadata": {},
   "outputs": [],
   "source": [
    "#df['test']=df['ARTICLE_NAME'].apply(lambda x: re.split(r'-', x)[-1])\n",
    "df.drop(columns='test', inplace=True)"
   ]
  },
  {
   "cell_type": "code",
   "execution_count": 84,
   "metadata": {},
   "outputs": [],
   "source": [
    "df.isna().sum()\n",
    "df.dropna(inplace=True)"
   ]
  },
  {
   "cell_type": "code",
   "execution_count": 85,
   "metadata": {
    "scrolled": true
   },
   "outputs": [
    {
     "data": {
      "text/plain": [
       "Index([                                       'YEAR',\n",
       "                                             'MONTH',\n",
       "                                        'CONTRAGENT',\n",
       "                                      'ARTICLE_CODE',\n",
       "                                      'ARTICLE_NAME',\n",
       "                                     'ARTICLE_GROUP',\n",
       "                                             'SALES',\n",
       "                                       'STORE_SALES',\n",
       "                                           ('WINE',),\n",
       "                                         ('LIQUOR',),\n",
       "       ...\n",
       "                     ('CHARLES JACQUIN ET CIE INC',),\n",
       "               ('THE SANDY BOTTOM ENTERPRISES LLC',),\n",
       "                 ('SMITH-ANDERSON ENTERPRISES INC',),\n",
       "          ('VINIFERA DISTRIBUTING OF MARYLAND INC',),\n",
       "       ('PAMPA BEVERAGES LLC DBA TRANSNATIONAL SU',),\n",
       "                            ('DCD ENTERPRISES LLC',),\n",
       "                       ('BULLSHINE DISTILLERY LLC',),\n",
       "                               ('CASA CHIRICO LLC',),\n",
       "                            ('FREELANCE WINES LLC',),\n",
       "                      ('BLACK ANKLE VINEYARDS LLC',)],\n",
       "      dtype='object', length=349)"
      ]
     },
     "execution_count": 85,
     "metadata": {},
     "output_type": "execute_result"
    }
   ],
   "source": [
    "x=df.columns\n",
    "x"
   ]
  },
  {
   "cell_type": "code",
   "execution_count": 86,
   "metadata": {},
   "outputs": [],
   "source": [
    "x=list(x)\n",
    "x1=[z for z in x if z not in ['CONTRAGENT', 'ARTICLE_CODE', 'ARTICLE_NAME', 'ARTICLE_GROUP', 'SALES']]\n"
   ]
  },
  {
   "cell_type": "code",
   "execution_count": 87,
   "metadata": {
    "scrolled": true
   },
   "outputs": [
    {
     "name": "stderr",
     "output_type": "stream",
     "text": [
      "e:\\ProgramData\\Anaconda3\\lib\\site-packages\\numpy\\core\\_asarray.py:83: VisibleDeprecationWarning: Creating an ndarray from ragged nested sequences (which is a list-or-tuple of lists-or-tuples-or ndarrays with different lengths or shapes) is deprecated. If you meant to do this, you must specify 'dtype=object' when creating the ndarray\n",
      "  return array(a, dtype, copy=False, order=order)\n"
     ]
    }
   ],
   "source": [
    "xtrain, xtest, ytrain, ytest=train_test_split(df[x1], df['SALES'], test_size=0.15)"
   ]
  },
  {
   "cell_type": "code",
   "execution_count": 89,
   "metadata": {},
   "outputs": [
    {
     "name": "stdout",
     "output_type": "stream",
     "text": [
      "XGBRegressor(base_score=None, booster=None, colsample_bylevel=None,\n",
      "             colsample_bynode=None, colsample_bytree=None, gamma=None,\n",
      "             gpu_id=None, importance_type='gain', interaction_constraints=None,\n",
      "             learning_rate=None, max_delta_step=None, max_depth=None,\n",
      "             min_child_weight=None, missing=nan, monotone_constraints=None,\n",
      "             n_estimators=100, n_jobs=None, num_parallel_tree=None,\n",
      "             random_state=None, reg_alpha=None, reg_lambda=None,\n",
      "             scale_pos_weight=None, subsample=None, tree_method=None,\n",
      "             validate_parameters=None, verbosity=None)\n"
     ]
    }
   ],
   "source": [
    "xgbr = xgb.XGBRegressor() \n",
    "print(xgbr)"
   ]
  },
  {
   "cell_type": "code",
   "execution_count": 90,
   "metadata": {},
   "outputs": [],
   "source": [
    "n_estimators = [50, 100, 150, 200]\n",
    "max_depth = [2, 4, 6, 8]\n",
    "param_grid = dict(max_depth=max_depth, n_estimators=n_estimators)"
   ]
  },
  {
   "cell_type": "code",
   "execution_count": null,
   "metadata": {},
   "outputs": [],
   "source": [
    "kfold = KFold(n_splits=10, shuffle=True)\n",
    "grid_search = GridSearchCV(xgbr, param_grid, scoring='neg_mean_squared_error', n_jobs=-1, cv=kfold, verbose=1)\n",
    "result = grid_search.fit(xtrain, ytrain)\n"
   ]
  },
  {
   "cell_type": "code",
   "execution_count": null,
   "metadata": {},
   "outputs": [],
   "source": [
    "print(\"Best: %f using %s\" % (result.best_score_, result.best_params_))"
   ]
  },
  {
   "cell_type": "code",
   "execution_count": null,
   "metadata": {},
   "outputs": [],
   "source": [
    "xgbr = xgb.XGBRegressor(max_depth=2,n_estimators=50) \n",
    "xgbr.fit(xtrain, ytrain)\n"
   ]
  },
  {
   "cell_type": "code",
   "execution_count": null,
   "metadata": {},
   "outputs": [],
   "source": [
    "from xgboost import plot_importance, plot_tree\n",
    "_ = plot_importance(xgbr, height=0.9)"
   ]
  },
  {
   "cell_type": "code",
   "execution_count": null,
   "metadata": {},
   "outputs": [],
   "source": [
    "from sklearn.metrics import mean_squared_error\n",
    "\n",
    "def mean_absolute_percentage_error(y_true, y_pred): \n",
    "    \"\"\"Calculates MAPE given y_true and y_pred\"\"\"\n",
    "    y_true, y_pred = np.array(y_true), np.array(y_pred)\n",
    "    return np.mean(np.abs((y_true - y_pred) / y_true)) * 100\n",
    "\n",
    "ypred = xgbr.predict(xtest)\n",
    "mse = mean_squared_error(ytest, ypred)\n",
    "metr=metric(ytest, ypred)\n",
    "mape=mean_absolute_percentage_error(ytest, ypred)\n",
    "#print(\"Training score: \", score)"
   ]
  },
  {
   "cell_type": "code",
   "execution_count": null,
   "metadata": {},
   "outputs": [],
   "source": [
    "mse, mape, metr"
   ]
  },
  {
   "cell_type": "markdown",
   "metadata": {},
   "source": [
    "# Попробуем ускорить это все"
   ]
  },
  {
   "cell_type": "code",
   "execution_count": 97,
   "metadata": {},
   "outputs": [
    {
     "data": {
      "text/html": [
       "<div>\n",
       "<style scoped>\n",
       "    .dataframe tbody tr th:only-of-type {\n",
       "        vertical-align: middle;\n",
       "    }\n",
       "\n",
       "    .dataframe tbody tr th {\n",
       "        vertical-align: top;\n",
       "    }\n",
       "\n",
       "    .dataframe thead th {\n",
       "        text-align: right;\n",
       "    }\n",
       "</style>\n",
       "<table border=\"1\" class=\"dataframe\">\n",
       "  <thead>\n",
       "    <tr style=\"text-align: right;\">\n",
       "      <th></th>\n",
       "      <th>YEAR</th>\n",
       "      <th>MONTH</th>\n",
       "      <th>CONTRAGENT</th>\n",
       "      <th>ARTICLE_CODE</th>\n",
       "      <th>ARTICLE_NAME</th>\n",
       "      <th>ARTICLE_GROUP</th>\n",
       "      <th>SALES</th>\n",
       "      <th>STORE_SALES</th>\n",
       "      <th>(WINE,)</th>\n",
       "      <th>(LIQUOR,)</th>\n",
       "      <th>...</th>\n",
       "      <th>(CHARLES JACQUIN ET CIE INC,)</th>\n",
       "      <th>(THE SANDY BOTTOM ENTERPRISES LLC,)</th>\n",
       "      <th>(SMITH-ANDERSON ENTERPRISES INC,)</th>\n",
       "      <th>(VINIFERA DISTRIBUTING OF MARYLAND INC,)</th>\n",
       "      <th>(PAMPA BEVERAGES LLC DBA TRANSNATIONAL SU,)</th>\n",
       "      <th>(DCD ENTERPRISES LLC,)</th>\n",
       "      <th>(BULLSHINE DISTILLERY LLC,)</th>\n",
       "      <th>(CASA CHIRICO LLC,)</th>\n",
       "      <th>(FREELANCE WINES LLC,)</th>\n",
       "      <th>(BLACK ANKLE VINEYARDS LLC,)</th>\n",
       "    </tr>\n",
       "  </thead>\n",
       "  <tbody>\n",
       "    <tr>\n",
       "      <th>0</th>\n",
       "      <td>2017.0</td>\n",
       "      <td>4.0</td>\n",
       "      <td>ROYAL WINE CORP</td>\n",
       "      <td>100200</td>\n",
       "      <td>GAMLA CAB - 750ML</td>\n",
       "      <td>WINE</td>\n",
       "      <td>0.0</td>\n",
       "      <td>0.0</td>\n",
       "      <td>0.0</td>\n",
       "      <td>0.0</td>\n",
       "      <td>...</td>\n",
       "      <td>0.0</td>\n",
       "      <td>0.0</td>\n",
       "      <td>0.0</td>\n",
       "      <td>0.0</td>\n",
       "      <td>0.0</td>\n",
       "      <td>0.0</td>\n",
       "      <td>0.0</td>\n",
       "      <td>0.0</td>\n",
       "      <td>0.0</td>\n",
       "      <td>0.0</td>\n",
       "    </tr>\n",
       "    <tr>\n",
       "      <th>1</th>\n",
       "      <td>2017.0</td>\n",
       "      <td>4.0</td>\n",
       "      <td>SANTA MARGHERITA USA INC</td>\n",
       "      <td>100749</td>\n",
       "      <td>SANTA MARGHERITA P/GRIG ALTO - 375ML</td>\n",
       "      <td>WINE</td>\n",
       "      <td>0.0</td>\n",
       "      <td>0.0</td>\n",
       "      <td>0.0</td>\n",
       "      <td>0.0</td>\n",
       "      <td>...</td>\n",
       "      <td>0.0</td>\n",
       "      <td>0.0</td>\n",
       "      <td>0.0</td>\n",
       "      <td>0.0</td>\n",
       "      <td>0.0</td>\n",
       "      <td>0.0</td>\n",
       "      <td>0.0</td>\n",
       "      <td>0.0</td>\n",
       "      <td>0.0</td>\n",
       "      <td>0.0</td>\n",
       "    </tr>\n",
       "    <tr>\n",
       "      <th>2</th>\n",
       "      <td>2017.0</td>\n",
       "      <td>4.0</td>\n",
       "      <td>JIM BEAM BRANDS CO</td>\n",
       "      <td>10103</td>\n",
       "      <td>KNOB CREEK BOURBON 9YR - 100P - 375ML</td>\n",
       "      <td>LIQUOR</td>\n",
       "      <td>0.0</td>\n",
       "      <td>0.0</td>\n",
       "      <td>0.0</td>\n",
       "      <td>0.0</td>\n",
       "      <td>...</td>\n",
       "      <td>0.0</td>\n",
       "      <td>0.0</td>\n",
       "      <td>0.0</td>\n",
       "      <td>0.0</td>\n",
       "      <td>0.0</td>\n",
       "      <td>0.0</td>\n",
       "      <td>0.0</td>\n",
       "      <td>0.0</td>\n",
       "      <td>0.0</td>\n",
       "      <td>0.0</td>\n",
       "    </tr>\n",
       "    <tr>\n",
       "      <th>3</th>\n",
       "      <td>2017.0</td>\n",
       "      <td>4.0</td>\n",
       "      <td>HEAVEN HILL DISTILLERIES INC</td>\n",
       "      <td>10120</td>\n",
       "      <td>J W DANT BOURBON 100P - 1.75L</td>\n",
       "      <td>LIQUOR</td>\n",
       "      <td>0.0</td>\n",
       "      <td>0.0</td>\n",
       "      <td>0.0</td>\n",
       "      <td>0.0</td>\n",
       "      <td>...</td>\n",
       "      <td>0.0</td>\n",
       "      <td>0.0</td>\n",
       "      <td>0.0</td>\n",
       "      <td>0.0</td>\n",
       "      <td>0.0</td>\n",
       "      <td>0.0</td>\n",
       "      <td>0.0</td>\n",
       "      <td>0.0</td>\n",
       "      <td>0.0</td>\n",
       "      <td>0.0</td>\n",
       "    </tr>\n",
       "    <tr>\n",
       "      <th>4</th>\n",
       "      <td>2017.0</td>\n",
       "      <td>4.0</td>\n",
       "      <td>ROYAL WINE CORP</td>\n",
       "      <td>101664</td>\n",
       "      <td>RAMON CORDOVA RIOJA - 750ML</td>\n",
       "      <td>WINE</td>\n",
       "      <td>0.0</td>\n",
       "      <td>0.0</td>\n",
       "      <td>0.0</td>\n",
       "      <td>0.0</td>\n",
       "      <td>...</td>\n",
       "      <td>0.0</td>\n",
       "      <td>0.0</td>\n",
       "      <td>0.0</td>\n",
       "      <td>0.0</td>\n",
       "      <td>0.0</td>\n",
       "      <td>0.0</td>\n",
       "      <td>0.0</td>\n",
       "      <td>0.0</td>\n",
       "      <td>0.0</td>\n",
       "      <td>0.0</td>\n",
       "    </tr>\n",
       "  </tbody>\n",
       "</table>\n",
       "<p>5 rows × 349 columns</p>\n",
       "</div>"
      ],
      "text/plain": [
       "     YEAR  MONTH                    CONTRAGENT ARTICLE_CODE  \\\n",
       "0  2017.0    4.0               ROYAL WINE CORP       100200   \n",
       "1  2017.0    4.0      SANTA MARGHERITA USA INC       100749   \n",
       "2  2017.0    4.0            JIM BEAM BRANDS CO        10103   \n",
       "3  2017.0    4.0  HEAVEN HILL DISTILLERIES INC        10120   \n",
       "4  2017.0    4.0               ROYAL WINE CORP       101664   \n",
       "\n",
       "                            ARTICLE_NAME ARTICLE_GROUP  SALES  STORE_SALES  \\\n",
       "0                      GAMLA CAB - 750ML          WINE    0.0          0.0   \n",
       "1   SANTA MARGHERITA P/GRIG ALTO - 375ML          WINE    0.0          0.0   \n",
       "2  KNOB CREEK BOURBON 9YR - 100P - 375ML        LIQUOR    0.0          0.0   \n",
       "3          J W DANT BOURBON 100P - 1.75L        LIQUOR    0.0          0.0   \n",
       "4            RAMON CORDOVA RIOJA - 750ML          WINE    0.0          0.0   \n",
       "\n",
       "   (WINE,)  (LIQUOR,)  ...  (CHARLES JACQUIN ET CIE INC,)  \\\n",
       "0      0.0        0.0  ...                            0.0   \n",
       "1      0.0        0.0  ...                            0.0   \n",
       "2      0.0        0.0  ...                            0.0   \n",
       "3      0.0        0.0  ...                            0.0   \n",
       "4      0.0        0.0  ...                            0.0   \n",
       "\n",
       "   (THE SANDY BOTTOM ENTERPRISES LLC,)  (SMITH-ANDERSON ENTERPRISES INC,)  \\\n",
       "0                                  0.0                                0.0   \n",
       "1                                  0.0                                0.0   \n",
       "2                                  0.0                                0.0   \n",
       "3                                  0.0                                0.0   \n",
       "4                                  0.0                                0.0   \n",
       "\n",
       "   (VINIFERA DISTRIBUTING OF MARYLAND INC,)  \\\n",
       "0                                       0.0   \n",
       "1                                       0.0   \n",
       "2                                       0.0   \n",
       "3                                       0.0   \n",
       "4                                       0.0   \n",
       "\n",
       "   (PAMPA BEVERAGES LLC DBA TRANSNATIONAL SU,)  (DCD ENTERPRISES LLC,)  \\\n",
       "0                                          0.0                     0.0   \n",
       "1                                          0.0                     0.0   \n",
       "2                                          0.0                     0.0   \n",
       "3                                          0.0                     0.0   \n",
       "4                                          0.0                     0.0   \n",
       "\n",
       "   (BULLSHINE DISTILLERY LLC,)  (CASA CHIRICO LLC,)  (FREELANCE WINES LLC,)  \\\n",
       "0                          0.0                  0.0                     0.0   \n",
       "1                          0.0                  0.0                     0.0   \n",
       "2                          0.0                  0.0                     0.0   \n",
       "3                          0.0                  0.0                     0.0   \n",
       "4                          0.0                  0.0                     0.0   \n",
       "\n",
       "   (BLACK ANKLE VINEYARDS LLC,)  \n",
       "0                           0.0  \n",
       "1                           0.0  \n",
       "2                           0.0  \n",
       "3                           0.0  \n",
       "4                           0.0  \n",
       "\n",
       "[5 rows x 349 columns]"
      ]
     },
     "execution_count": 97,
     "metadata": {},
     "output_type": "execute_result"
    }
   ],
   "source": [
    "df.head()"
   ]
  },
  {
   "cell_type": "code",
   "execution_count": 115,
   "metadata": {},
   "outputs": [],
   "source": [
    "from catboost import Pool, CatBoostRegressor\n",
    "import catboost as cb\n",
    "\n",
    "cbb = cb.CatBoostRegressor(eval_metric=\"MAPE\", depth=10, iterations= 500, l2_leaf_reg= 9, learning_rate= 0.15,\n",
    "                          cat_features=['CONTRAGENT', 'ARTICLE_GROUP'])\n",
    "#clf = cbb()\n",
    "#cbb.fit(df[['YEAR', 'MONTH', 'CONTRAGENT', 'ARTICLE_GROUP', 'STORE_SALES']],df['SALES'])\n",
    "clf=cb.CatBoostRegressor(cat_features=['CONTRAGENT', 'ARTICLE_GROUP'])"
   ]
  },
  {
   "cell_type": "code",
   "execution_count": null,
   "metadata": {},
   "outputs": [],
   "source": [
    "cbb.fit(df[['YEAR', 'MONTH', 'CONTRAGENT', 'ARTICLE_GROUP', 'STORE_SALES']],df['SALES'])"
   ]
  },
  {
   "cell_type": "code",
   "execution_count": 124,
   "metadata": {},
   "outputs": [],
   "source": [
    "xtrain, xtest, ytrain, ytest=train_test_split(df[['YEAR', 'MONTH', 'CONTRAGENT', 'ARTICLE_GROUP', 'STORE_SALES']]\n",
    "                                              , df['SALES'], test_size=0.15)"
   ]
  },
  {
   "cell_type": "code",
   "execution_count": 125,
   "metadata": {},
   "outputs": [],
   "source": [
    "n_estimators = [50, 100, 150, 200]\n",
    "max_depth = [2, 4, 6, 8]\n",
    "l2_leaf_reg=[x for x in range(9, 18)]\n",
    "param_grid = dict(depth=max_depth, iterations=n_estimators, l2_leaf_reg=l2_leaf_reg)"
   ]
  },
  {
   "cell_type": "code",
   "execution_count": null,
   "metadata": {},
   "outputs": [
    {
     "name": "stdout",
     "output_type": "stream",
     "text": [
      "Fitting 10 folds for each of 144 candidates, totalling 1440 fits\n"
     ]
    },
    {
     "name": "stderr",
     "output_type": "stream",
     "text": [
      "[Parallel(n_jobs=-1)]: Using backend LokyBackend with 12 concurrent workers.\n",
      "[Parallel(n_jobs=-1)]: Done  26 tasks      | elapsed:    8.4s\n",
      "[Parallel(n_jobs=-1)]: Done 176 tasks      | elapsed:  1.3min\n"
     ]
    }
   ],
   "source": [
    "kfold = KFold(n_splits=10, shuffle=True)\n",
    "grid_search = GridSearchCV(clf, param_grid, scoring='neg_mean_squared_error', n_jobs=-1, cv=kfold, verbose=1)\n",
    "result = grid_search.fit(xtrain, ytrain)\n"
   ]
  },
  {
   "cell_type": "code",
   "execution_count": null,
   "metadata": {},
   "outputs": [],
   "source": [
    "print(\"Best: %f using %s\" % (result.best_score_, result.best_params_))"
   ]
  },
  {
   "cell_type": "code",
   "execution_count": null,
   "metadata": {},
   "outputs": [],
   "source": [
    "cbb1 = cb.CatBoostRegressor(eval_metric=\"MAPE\", depth=10, iterations= 500, l2_leaf_reg= 9, learning_rate= 0.15,\n",
    "                          cat_features=['CONTRAGENT', 'ARTICLE_GROUP'])\n",
    "cbb1.fit(df[['YEAR', 'MONTH', 'CONTRAGENT', 'ARTICLE_GROUP', 'STORE_SALES']],df['SALES'])"
   ]
  },
  {
   "cell_type": "code",
   "execution_count": 106,
   "metadata": {},
   "outputs": [
    {
     "name": "stderr",
     "output_type": "stream",
     "text": [
      "e:\\ProgramData\\Anaconda3\\lib\\site-packages\\ipykernel_launcher.py:6: RuntimeWarning: divide by zero encountered in true_divide\n",
      "  \n"
     ]
    }
   ],
   "source": [
    "from sklearn.metrics import mean_squared_error\n",
    "\n",
    "def mean_absolute_percentage_error(y_true, y_pred): \n",
    "    \"\"\"Calculates MAPE given y_true and y_pred\"\"\"\n",
    "    y_true, y_pred = np.array(y_true), np.array(y_pred)\n",
    "    return np.mean(np.abs((y_true - y_pred) / y_true)) * 100\n",
    "\n",
    "ypred = cbb.predict(xtest[['YEAR', 'MONTH', 'CONTRAGENT', \n",
    "       'ARTICLE_GROUP', 'STORE_SALES']])\n",
    "mse = mean_squared_error(ytest, ypred)\n",
    "metr=metric(ytest, ypred)\n",
    "mape=mean_absolute_percentage_error(ytest, ypred)"
   ]
  },
  {
   "cell_type": "code",
   "execution_count": 107,
   "metadata": {},
   "outputs": [
    {
     "data": {
      "text/plain": [
       "(448966641.078883, 80.28110898203752, inf)"
      ]
     },
     "execution_count": 107,
     "metadata": {},
     "output_type": "execute_result"
    }
   ],
   "source": [
    "mse, metr, mape"
   ]
  }
 ],
 "metadata": {
  "kernelspec": {
   "display_name": "Python 3",
   "language": "python",
   "name": "python3"
  },
  "language_info": {
   "codemirror_mode": {
    "name": "ipython",
    "version": 3
   },
   "file_extension": ".py",
   "mimetype": "text/x-python",
   "name": "python",
   "nbconvert_exporter": "python",
   "pygments_lexer": "ipython3",
   "version": "3.7.6"
  }
 },
 "nbformat": 4,
 "nbformat_minor": 4
}
