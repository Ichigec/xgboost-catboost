{
 "cells": [
  {
   "cell_type": "code",
   "execution_count": 45,
   "metadata": {},
   "outputs": [],
   "source": [
    "import pandas as pd\n",
    "import numpy as np\n",
    "#import seaborn as sns\n",
    "import matplotlib.pylab as plt\n",
    "from pylab import rcParams\n",
    "rcParams['figure.figsize'] = 20, 10\n",
    "import xgboost as xgb\n",
    "from sklearn.model_selection import train_test_split\n",
    "from sklearn.preprocessing import OneHotEncoder\n",
    "\n",
    "\n",
    "from numpy import loadtxt\n",
    "from xgboost import XGBClassifier\n",
    "from sklearn.model_selection import GridSearchCV\n",
    "from sklearn.model_selection import StratifiedKFold\n",
    "from sklearn.model_selection import cross_val_score, KFold\n",
    "\n",
    "from sklearn.utils.multiclass import type_of_target\n",
    "\n",
    "from sklearn import preprocessing\n",
    "\n",
    "import re"
   ]
  },
  {
   "cell_type": "code",
   "execution_count": 2,
   "metadata": {},
   "outputs": [],
   "source": [
    "def metric(y_true, y_pred):\n",
    "    \n",
    "    return np.sum(np.abs(y_true - y_pred)) / np.sum(y_pred) * 100"
   ]
  },
  {
   "cell_type": "code",
   "execution_count": 3,
   "metadata": {},
   "outputs": [],
   "source": [
    "df = pd.read_csv('E:\\\\Vakansy\\\\magnit\\\\data_regression_for_task.csv')\n",
    "df.dropna(inplace=True)"
   ]
  },
  {
   "cell_type": "code",
   "execution_count": 4,
   "metadata": {},
   "outputs": [
    {
     "data": {
      "text/plain": [
       "YEAR             0\n",
       "MONTH            0\n",
       "CONTRAGENT       0\n",
       "ARTICLE_CODE     0\n",
       "ARTICLE_NAME     0\n",
       "ARTICLE_GROUP    0\n",
       "SALES            0\n",
       "STORE_SALES      0\n",
       "dtype: int64"
      ]
     },
     "execution_count": 4,
     "metadata": {},
     "output_type": "execute_result"
    }
   ],
   "source": [
    "df.isna().sum()"
   ]
  },
  {
   "cell_type": "code",
   "execution_count": 5,
   "metadata": {},
   "outputs": [
    {
     "data": {
      "text/html": [
       "<div>\n",
       "<style scoped>\n",
       "    .dataframe tbody tr th:only-of-type {\n",
       "        vertical-align: middle;\n",
       "    }\n",
       "\n",
       "    .dataframe tbody tr th {\n",
       "        vertical-align: top;\n",
       "    }\n",
       "\n",
       "    .dataframe thead th {\n",
       "        text-align: right;\n",
       "    }\n",
       "</style>\n",
       "<table border=\"1\" class=\"dataframe\">\n",
       "  <thead>\n",
       "    <tr style=\"text-align: right;\">\n",
       "      <th></th>\n",
       "      <th>YEAR</th>\n",
       "      <th>MONTH</th>\n",
       "      <th>CONTRAGENT</th>\n",
       "      <th>ARTICLE_CODE</th>\n",
       "      <th>ARTICLE_NAME</th>\n",
       "      <th>ARTICLE_GROUP</th>\n",
       "      <th>SALES</th>\n",
       "      <th>STORE_SALES</th>\n",
       "    </tr>\n",
       "  </thead>\n",
       "  <tbody>\n",
       "    <tr>\n",
       "      <th>0</th>\n",
       "      <td>2017</td>\n",
       "      <td>4</td>\n",
       "      <td>ROYAL WINE CORP</td>\n",
       "      <td>100200</td>\n",
       "      <td>GAMLA CAB - 750ML</td>\n",
       "      <td>WINE</td>\n",
       "      <td>0.0</td>\n",
       "      <td>0.0</td>\n",
       "    </tr>\n",
       "    <tr>\n",
       "      <th>1</th>\n",
       "      <td>2017</td>\n",
       "      <td>4</td>\n",
       "      <td>SANTA MARGHERITA USA INC</td>\n",
       "      <td>100749</td>\n",
       "      <td>SANTA MARGHERITA P/GRIG ALTO - 375ML</td>\n",
       "      <td>WINE</td>\n",
       "      <td>0.0</td>\n",
       "      <td>0.0</td>\n",
       "    </tr>\n",
       "    <tr>\n",
       "      <th>2</th>\n",
       "      <td>2017</td>\n",
       "      <td>4</td>\n",
       "      <td>JIM BEAM BRANDS CO</td>\n",
       "      <td>10103</td>\n",
       "      <td>KNOB CREEK BOURBON 9YR - 100P - 375ML</td>\n",
       "      <td>LIQUOR</td>\n",
       "      <td>0.0</td>\n",
       "      <td>0.0</td>\n",
       "    </tr>\n",
       "    <tr>\n",
       "      <th>3</th>\n",
       "      <td>2017</td>\n",
       "      <td>4</td>\n",
       "      <td>HEAVEN HILL DISTILLERIES INC</td>\n",
       "      <td>10120</td>\n",
       "      <td>J W DANT BOURBON 100P - 1.75L</td>\n",
       "      <td>LIQUOR</td>\n",
       "      <td>0.0</td>\n",
       "      <td>0.0</td>\n",
       "    </tr>\n",
       "    <tr>\n",
       "      <th>4</th>\n",
       "      <td>2017</td>\n",
       "      <td>4</td>\n",
       "      <td>ROYAL WINE CORP</td>\n",
       "      <td>101664</td>\n",
       "      <td>RAMON CORDOVA RIOJA - 750ML</td>\n",
       "      <td>WINE</td>\n",
       "      <td>0.0</td>\n",
       "      <td>0.0</td>\n",
       "    </tr>\n",
       "    <tr>\n",
       "      <th>...</th>\n",
       "      <td>...</td>\n",
       "      <td>...</td>\n",
       "      <td>...</td>\n",
       "      <td>...</td>\n",
       "      <td>...</td>\n",
       "      <td>...</td>\n",
       "      <td>...</td>\n",
       "      <td>...</td>\n",
       "    </tr>\n",
       "    <tr>\n",
       "      <th>128348</th>\n",
       "      <td>2018</td>\n",
       "      <td>2</td>\n",
       "      <td>LEGENDS LTD</td>\n",
       "      <td>99753</td>\n",
       "      <td>DUTCHESS DE BOURGOGNE NR - 750ML</td>\n",
       "      <td>BEER</td>\n",
       "      <td>0.0</td>\n",
       "      <td>2.0</td>\n",
       "    </tr>\n",
       "    <tr>\n",
       "      <th>128349</th>\n",
       "      <td>2018</td>\n",
       "      <td>2</td>\n",
       "      <td>COASTAL BREWING COMPANY LLC</td>\n",
       "      <td>99813</td>\n",
       "      <td>DOMINION OAK BARREL STOUT 1/2K</td>\n",
       "      <td>KEGS</td>\n",
       "      <td>0.0</td>\n",
       "      <td>2.0</td>\n",
       "    </tr>\n",
       "    <tr>\n",
       "      <th>128350</th>\n",
       "      <td>2018</td>\n",
       "      <td>2</td>\n",
       "      <td>ANHEUSER BUSCH INC</td>\n",
       "      <td>9997</td>\n",
       "      <td>HOEGAARDEN 4/6NR - 12OZ</td>\n",
       "      <td>BEER</td>\n",
       "      <td>66460.0</td>\n",
       "      <td>212.0</td>\n",
       "    </tr>\n",
       "    <tr>\n",
       "      <th>128351</th>\n",
       "      <td>2018</td>\n",
       "      <td>2</td>\n",
       "      <td>COASTAL BREWING COMPANY LLC</td>\n",
       "      <td>99970</td>\n",
       "      <td>DOMINION OAK BARREL STOUT 4/6 NR - 12OZ</td>\n",
       "      <td>BEER</td>\n",
       "      <td>9080.0</td>\n",
       "      <td>35.0</td>\n",
       "    </tr>\n",
       "    <tr>\n",
       "      <th>128352</th>\n",
       "      <td>2018</td>\n",
       "      <td>2</td>\n",
       "      <td>BOSTON BEER CORPORATION</td>\n",
       "      <td>99988</td>\n",
       "      <td>SAM ADAMS COLD SNAP 1/6 KG</td>\n",
       "      <td>KEGS</td>\n",
       "      <td>0.0</td>\n",
       "      <td>32.0</td>\n",
       "    </tr>\n",
       "  </tbody>\n",
       "</table>\n",
       "<p>128330 rows × 8 columns</p>\n",
       "</div>"
      ],
      "text/plain": [
       "        YEAR  MONTH                    CONTRAGENT ARTICLE_CODE  \\\n",
       "0       2017      4               ROYAL WINE CORP       100200   \n",
       "1       2017      4      SANTA MARGHERITA USA INC       100749   \n",
       "2       2017      4            JIM BEAM BRANDS CO        10103   \n",
       "3       2017      4  HEAVEN HILL DISTILLERIES INC        10120   \n",
       "4       2017      4               ROYAL WINE CORP       101664   \n",
       "...      ...    ...                           ...          ...   \n",
       "128348  2018      2                   LEGENDS LTD        99753   \n",
       "128349  2018      2   COASTAL BREWING COMPANY LLC        99813   \n",
       "128350  2018      2            ANHEUSER BUSCH INC         9997   \n",
       "128351  2018      2   COASTAL BREWING COMPANY LLC        99970   \n",
       "128352  2018      2       BOSTON BEER CORPORATION        99988   \n",
       "\n",
       "                                   ARTICLE_NAME ARTICLE_GROUP    SALES  \\\n",
       "0                             GAMLA CAB - 750ML          WINE      0.0   \n",
       "1          SANTA MARGHERITA P/GRIG ALTO - 375ML          WINE      0.0   \n",
       "2         KNOB CREEK BOURBON 9YR - 100P - 375ML        LIQUOR      0.0   \n",
       "3                 J W DANT BOURBON 100P - 1.75L        LIQUOR      0.0   \n",
       "4                   RAMON CORDOVA RIOJA - 750ML          WINE      0.0   \n",
       "...                                         ...           ...      ...   \n",
       "128348         DUTCHESS DE BOURGOGNE NR - 750ML          BEER      0.0   \n",
       "128349           DOMINION OAK BARREL STOUT 1/2K          KEGS      0.0   \n",
       "128350                  HOEGAARDEN 4/6NR - 12OZ          BEER  66460.0   \n",
       "128351  DOMINION OAK BARREL STOUT 4/6 NR - 12OZ          BEER   9080.0   \n",
       "128352               SAM ADAMS COLD SNAP 1/6 KG          KEGS      0.0   \n",
       "\n",
       "        STORE_SALES  \n",
       "0               0.0  \n",
       "1               0.0  \n",
       "2               0.0  \n",
       "3               0.0  \n",
       "4               0.0  \n",
       "...             ...  \n",
       "128348          2.0  \n",
       "128349          2.0  \n",
       "128350        212.0  \n",
       "128351         35.0  \n",
       "128352         32.0  \n",
       "\n",
       "[128330 rows x 8 columns]"
      ]
     },
     "execution_count": 5,
     "metadata": {},
     "output_type": "execute_result"
    }
   ],
   "source": [
    "df#.head()"
   ]
  },
  {
   "cell_type": "code",
   "execution_count": 6,
   "metadata": {},
   "outputs": [
    {
     "data": {
      "text/plain": [
       "Index(['YEAR', 'MONTH', 'CONTRAGENT', 'ARTICLE_CODE', 'ARTICLE_NAME',\n",
       "       'ARTICLE_GROUP', 'SALES', 'STORE_SALES'],\n",
       "      dtype='object')"
      ]
     },
     "execution_count": 6,
     "metadata": {},
     "output_type": "execute_result"
    }
   ],
   "source": [
    "df.columns"
   ]
  },
  {
   "cell_type": "code",
   "execution_count": 7,
   "metadata": {},
   "outputs": [
    {
     "data": {
      "text/plain": [
       "(333, 23552, 23620, 8)"
      ]
     },
     "execution_count": 7,
     "metadata": {},
     "output_type": "execute_result"
    }
   ],
   "source": [
    "len(df['CONTRAGENT'].unique()), len(df['ARTICLE_CODE'].unique()), len(df['ARTICLE_NAME'].unique()), len(df['ARTICLE_GROUP'].unique())"
   ]
  },
  {
   "cell_type": "code",
   "execution_count": 8,
   "metadata": {},
   "outputs": [
    {
     "data": {
      "text/plain": [
       "array(['WINE', 'LIQUOR', 'BEER', 'STR_SUPPLIES', 'REF', 'NON-ALCOHOL',\n",
       "       'KEGS', 'DUNNAGE'], dtype=object)"
      ]
     },
     "execution_count": 8,
     "metadata": {},
     "output_type": "execute_result"
    }
   ],
   "source": [
    "df['ARTICLE_GROUP'].unique()"
   ]
  },
  {
   "cell_type": "code",
   "execution_count": 9,
   "metadata": {},
   "outputs": [
    {
     "data": {
      "text/plain": [
       "array([2017, 2018], dtype=int64)"
      ]
     },
     "execution_count": 9,
     "metadata": {},
     "output_type": "execute_result"
    }
   ],
   "source": [
    "df['YEAR'].unique()"
   ]
  },
  {
   "cell_type": "code",
   "execution_count": 10,
   "metadata": {},
   "outputs": [
    {
     "data": {
      "text/plain": [
       "count    1.283300e+05\n",
       "mean     6.564316e+03\n",
       "std      2.892762e+04\n",
       "min     -6.490000e+03\n",
       "25%      0.000000e+00\n",
       "50%      3.300000e+02\n",
       "75%      3.250000e+03\n",
       "max      1.616600e+06\n",
       "Name: SALES, dtype: float64"
      ]
     },
     "execution_count": 10,
     "metadata": {},
     "output_type": "execute_result"
    }
   ],
   "source": [
    "df['SALES'].describe()"
   ]
  },
  {
   "cell_type": "code",
   "execution_count": 11,
   "metadata": {},
   "outputs": [
    {
     "data": {
      "text/plain": [
       "count    128330.000000\n",
       "mean         22.681679\n",
       "std         239.574553\n",
       "min       -4996.000000\n",
       "25%           0.000000\n",
       "50%           1.000000\n",
       "75%           4.000000\n",
       "max       16271.750000\n",
       "Name: STORE_SALES, dtype: float64"
      ]
     },
     "execution_count": 11,
     "metadata": {},
     "output_type": "execute_result"
    }
   ],
   "source": [
    "df['STORE_SALES'].describe()"
   ]
  },
  {
   "cell_type": "code",
   "execution_count": 12,
   "metadata": {
    "scrolled": true
   },
   "outputs": [
    {
     "data": {
      "text/html": [
       "<div>\n",
       "<style scoped>\n",
       "    .dataframe tbody tr th:only-of-type {\n",
       "        vertical-align: middle;\n",
       "    }\n",
       "\n",
       "    .dataframe tbody tr th {\n",
       "        vertical-align: top;\n",
       "    }\n",
       "\n",
       "    .dataframe thead th {\n",
       "        text-align: right;\n",
       "    }\n",
       "</style>\n",
       "<table border=\"1\" class=\"dataframe\">\n",
       "  <thead>\n",
       "    <tr style=\"text-align: right;\">\n",
       "      <th></th>\n",
       "      <th>YEAR</th>\n",
       "      <th>MONTH</th>\n",
       "      <th>CONTRAGENT</th>\n",
       "      <th>ARTICLE_CODE</th>\n",
       "      <th>ARTICLE_NAME</th>\n",
       "      <th>ARTICLE_GROUP</th>\n",
       "      <th>SALES</th>\n",
       "      <th>STORE_SALES</th>\n",
       "      <th>(WINE,)</th>\n",
       "      <th>(LIQUOR,)</th>\n",
       "      <th>(BEER,)</th>\n",
       "      <th>(STR_SUPPLIES,)</th>\n",
       "      <th>(REF,)</th>\n",
       "      <th>(NON-ALCOHOL,)</th>\n",
       "      <th>(KEGS,)</th>\n",
       "      <th>(DUNNAGE,)</th>\n",
       "    </tr>\n",
       "  </thead>\n",
       "  <tbody>\n",
       "    <tr>\n",
       "      <th>0</th>\n",
       "      <td>2017.0</td>\n",
       "      <td>4.0</td>\n",
       "      <td>ROYAL WINE CORP</td>\n",
       "      <td>100200</td>\n",
       "      <td>GAMLA CAB - 750ML</td>\n",
       "      <td>WINE</td>\n",
       "      <td>0.0</td>\n",
       "      <td>0.0</td>\n",
       "      <td>0.0</td>\n",
       "      <td>0.0</td>\n",
       "      <td>0.0</td>\n",
       "      <td>0.0</td>\n",
       "      <td>0.0</td>\n",
       "      <td>0.0</td>\n",
       "      <td>0.0</td>\n",
       "      <td>1.0</td>\n",
       "    </tr>\n",
       "    <tr>\n",
       "      <th>1</th>\n",
       "      <td>2017.0</td>\n",
       "      <td>4.0</td>\n",
       "      <td>SANTA MARGHERITA USA INC</td>\n",
       "      <td>100749</td>\n",
       "      <td>SANTA MARGHERITA P/GRIG ALTO - 375ML</td>\n",
       "      <td>WINE</td>\n",
       "      <td>0.0</td>\n",
       "      <td>0.0</td>\n",
       "      <td>0.0</td>\n",
       "      <td>0.0</td>\n",
       "      <td>0.0</td>\n",
       "      <td>0.0</td>\n",
       "      <td>0.0</td>\n",
       "      <td>0.0</td>\n",
       "      <td>0.0</td>\n",
       "      <td>1.0</td>\n",
       "    </tr>\n",
       "    <tr>\n",
       "      <th>2</th>\n",
       "      <td>2017.0</td>\n",
       "      <td>4.0</td>\n",
       "      <td>JIM BEAM BRANDS CO</td>\n",
       "      <td>10103</td>\n",
       "      <td>KNOB CREEK BOURBON 9YR - 100P - 375ML</td>\n",
       "      <td>LIQUOR</td>\n",
       "      <td>0.0</td>\n",
       "      <td>0.0</td>\n",
       "      <td>0.0</td>\n",
       "      <td>0.0</td>\n",
       "      <td>0.0</td>\n",
       "      <td>1.0</td>\n",
       "      <td>0.0</td>\n",
       "      <td>0.0</td>\n",
       "      <td>0.0</td>\n",
       "      <td>0.0</td>\n",
       "    </tr>\n",
       "    <tr>\n",
       "      <th>3</th>\n",
       "      <td>2017.0</td>\n",
       "      <td>4.0</td>\n",
       "      <td>HEAVEN HILL DISTILLERIES INC</td>\n",
       "      <td>10120</td>\n",
       "      <td>J W DANT BOURBON 100P - 1.75L</td>\n",
       "      <td>LIQUOR</td>\n",
       "      <td>0.0</td>\n",
       "      <td>0.0</td>\n",
       "      <td>0.0</td>\n",
       "      <td>0.0</td>\n",
       "      <td>0.0</td>\n",
       "      <td>1.0</td>\n",
       "      <td>0.0</td>\n",
       "      <td>0.0</td>\n",
       "      <td>0.0</td>\n",
       "      <td>0.0</td>\n",
       "    </tr>\n",
       "    <tr>\n",
       "      <th>4</th>\n",
       "      <td>2017.0</td>\n",
       "      <td>4.0</td>\n",
       "      <td>ROYAL WINE CORP</td>\n",
       "      <td>101664</td>\n",
       "      <td>RAMON CORDOVA RIOJA - 750ML</td>\n",
       "      <td>WINE</td>\n",
       "      <td>0.0</td>\n",
       "      <td>0.0</td>\n",
       "      <td>0.0</td>\n",
       "      <td>0.0</td>\n",
       "      <td>0.0</td>\n",
       "      <td>0.0</td>\n",
       "      <td>0.0</td>\n",
       "      <td>0.0</td>\n",
       "      <td>0.0</td>\n",
       "      <td>1.0</td>\n",
       "    </tr>\n",
       "  </tbody>\n",
       "</table>\n",
       "</div>"
      ],
      "text/plain": [
       "     YEAR  MONTH                    CONTRAGENT ARTICLE_CODE  \\\n",
       "0  2017.0    4.0               ROYAL WINE CORP       100200   \n",
       "1  2017.0    4.0      SANTA MARGHERITA USA INC       100749   \n",
       "2  2017.0    4.0            JIM BEAM BRANDS CO        10103   \n",
       "3  2017.0    4.0  HEAVEN HILL DISTILLERIES INC        10120   \n",
       "4  2017.0    4.0               ROYAL WINE CORP       101664   \n",
       "\n",
       "                            ARTICLE_NAME ARTICLE_GROUP  SALES  STORE_SALES  \\\n",
       "0                      GAMLA CAB - 750ML          WINE    0.0          0.0   \n",
       "1   SANTA MARGHERITA P/GRIG ALTO - 375ML          WINE    0.0          0.0   \n",
       "2  KNOB CREEK BOURBON 9YR - 100P - 375ML        LIQUOR    0.0          0.0   \n",
       "3          J W DANT BOURBON 100P - 1.75L        LIQUOR    0.0          0.0   \n",
       "4            RAMON CORDOVA RIOJA - 750ML          WINE    0.0          0.0   \n",
       "\n",
       "   (WINE,)  (LIQUOR,)  (BEER,)  (STR_SUPPLIES,)  (REF,)  (NON-ALCOHOL,)  \\\n",
       "0      0.0        0.0      0.0              0.0     0.0             0.0   \n",
       "1      0.0        0.0      0.0              0.0     0.0             0.0   \n",
       "2      0.0        0.0      0.0              1.0     0.0             0.0   \n",
       "3      0.0        0.0      0.0              1.0     0.0             0.0   \n",
       "4      0.0        0.0      0.0              0.0     0.0             0.0   \n",
       "\n",
       "   (KEGS,)  (DUNNAGE,)  \n",
       "0      0.0         1.0  \n",
       "1      0.0         1.0  \n",
       "2      0.0         0.0  \n",
       "3      0.0         0.0  \n",
       "4      0.0         1.0  "
      ]
     },
     "execution_count": 12,
     "metadata": {},
     "output_type": "execute_result"
    }
   ],
   "source": [
    "ohe = OneHotEncoder(categories = \"auto\",sparse = False)\n",
    "df.dropna(inplace=True)\n",
    "tp=ohe.fit_transform(df[['ARTICLE_GROUP']])\n",
    "tp_col=pd.DataFrame(tp, columns=[df['ARTICLE_GROUP'].unique()])\n",
    "df = pd.concat([df,tp_col],axis = 1)\n",
    "df.head()"
   ]
  },
  {
   "cell_type": "code",
   "execution_count": 13,
   "metadata": {},
   "outputs": [
    {
     "data": {
      "text/plain": [
       "Index([           'YEAR',           'MONTH',      'CONTRAGENT',\n",
       "          'ARTICLE_CODE',    'ARTICLE_NAME',   'ARTICLE_GROUP',\n",
       "                 'SALES',     'STORE_SALES',         ('WINE',),\n",
       "             ('LIQUOR',),         ('BEER',), ('STR_SUPPLIES',),\n",
       "                ('REF',),  ('NON-ALCOHOL',),         ('KEGS',),\n",
       "            ('DUNNAGE',)],\n",
       "      dtype='object')"
      ]
     },
     "execution_count": 13,
     "metadata": {},
     "output_type": "execute_result"
    }
   ],
   "source": [
    "df.columns"
   ]
  },
  {
   "cell_type": "code",
   "execution_count": 14,
   "metadata": {},
   "outputs": [],
   "source": [
    "df.isna().sum()\n",
    "df.dropna(inplace=True)"
   ]
  },
  {
   "cell_type": "code",
   "execution_count": 15,
   "metadata": {
    "scrolled": true
   },
   "outputs": [
    {
     "name": "stderr",
     "output_type": "stream",
     "text": [
      "e:\\ProgramData\\Anaconda3\\lib\\site-packages\\numpy\\core\\_asarray.py:83: VisibleDeprecationWarning: Creating an ndarray from ragged nested sequences (which is a list-or-tuple of lists-or-tuples-or ndarrays with different lengths or shapes) is deprecated. If you meant to do this, you must specify 'dtype=object' when creating the ndarray\n",
      "  return array(a, dtype, copy=False, order=order)\n"
     ]
    }
   ],
   "source": [
    "xtrain, xtest, ytrain, ytest=train_test_split(df[[           'YEAR',           'MONTH',           'STORE_SALES',         ('WINE',),\n",
    "             ('LIQUOR',),         ('BEER',), ('STR_SUPPLIES',),\n",
    "                ('REF',),  ('NON-ALCOHOL',),         ('KEGS',),\n",
    "            ('DUNNAGE',)]], df['SALES'], test_size=0.15)"
   ]
  },
  {
   "cell_type": "code",
   "execution_count": 16,
   "metadata": {},
   "outputs": [
    {
     "name": "stdout",
     "output_type": "stream",
     "text": [
      "XGBRegressor(base_score=None, booster=None, colsample_bylevel=None,\n",
      "             colsample_bynode=None, colsample_bytree=None, gamma=None,\n",
      "             gpu_id=None, importance_type='gain', interaction_constraints=None,\n",
      "             learning_rate=None, max_delta_step=None, max_depth=None,\n",
      "             min_child_weight=None, missing=nan, monotone_constraints=None,\n",
      "             n_estimators=100, n_jobs=None, num_parallel_tree=None,\n",
      "             random_state=None, reg_alpha=None, reg_lambda=None,\n",
      "             scale_pos_weight=None, subsample=None, tree_method=None,\n",
      "             validate_parameters=None, verbosity=None)\n"
     ]
    }
   ],
   "source": [
    "xgbr = xgb.XGBRegressor() \n",
    "print(xgbr)"
   ]
  },
  {
   "cell_type": "code",
   "execution_count": 17,
   "metadata": {},
   "outputs": [],
   "source": [
    "n_estimators = [50, 100, 150, 200]\n",
    "max_depth = [2, 4, 6, 8]\n",
    "param_grid = dict(max_depth=max_depth, n_estimators=n_estimators)"
   ]
  },
  {
   "cell_type": "code",
   "execution_count": 18,
   "metadata": {},
   "outputs": [
    {
     "name": "stdout",
     "output_type": "stream",
     "text": [
      "Fitting 10 folds for each of 16 candidates, totalling 160 fits\n"
     ]
    },
    {
     "name": "stderr",
     "output_type": "stream",
     "text": [
      "[Parallel(n_jobs=-1)]: Using backend LokyBackend with 12 concurrent workers.\n",
      "[Parallel(n_jobs=-1)]: Done  26 tasks      | elapsed:   13.2s\n",
      "[Parallel(n_jobs=-1)]: Done 160 out of 160 | elapsed:  1.9min finished\n"
     ]
    }
   ],
   "source": [
    "kfold = KFold(n_splits=10, shuffle=True)\n",
    "grid_search = GridSearchCV(xgbr, param_grid, scoring='neg_mean_squared_error', n_jobs=-1, cv=kfold, verbose=1)\n",
    "result = grid_search.fit(xtrain, ytrain)\n"
   ]
  },
  {
   "cell_type": "code",
   "execution_count": 24,
   "metadata": {},
   "outputs": [
    {
     "name": "stdout",
     "output_type": "stream",
     "text": [
      "Best: -659320398.665076 using {'max_depth': 2, 'n_estimators': 50}\n"
     ]
    }
   ],
   "source": [
    "print(\"Best: %f using %s\" % (result.best_score_, result.best_params_))"
   ]
  },
  {
   "cell_type": "code",
   "execution_count": 28,
   "metadata": {},
   "outputs": [
    {
     "data": {
      "text/plain": [
       "XGBRegressor(base_score=0.5, booster='gbtree', colsample_bylevel=1,\n",
       "             colsample_bynode=1, colsample_bytree=1, gamma=0, gpu_id=-1,\n",
       "             importance_type='gain', interaction_constraints='',\n",
       "             learning_rate=0.300000012, max_delta_step=0, max_depth=2,\n",
       "             min_child_weight=1, missing=nan, monotone_constraints='()',\n",
       "             n_estimators=50, n_jobs=0, num_parallel_tree=1, random_state=0,\n",
       "             reg_alpha=0, reg_lambda=1, scale_pos_weight=1, subsample=1,\n",
       "             tree_method='exact', validate_parameters=1, verbosity=None)"
      ]
     },
     "execution_count": 28,
     "metadata": {},
     "output_type": "execute_result"
    }
   ],
   "source": [
    "xgbr = xgb.XGBRegressor(max_depth=2,n_estimators=50) \n",
    "xgbr.fit(xtrain, ytrain)\n"
   ]
  },
  {
   "cell_type": "code",
   "execution_count": 29,
   "metadata": {},
   "outputs": [
    {
     "data": {
      "image/png": "[encoded data removed]",
      "text/plain": [
       "<Figure size 1440x720 with 1 Axes>"
      ]
     },
     "metadata": {
      "needs_background": "light"
     },
     "output_type": "display_data"
    }
   ],
   "source": [
    "from xgboost import plot_importance, plot_tree\n",
    "_ = plot_importance(xgbr, height=0.9)"
   ]
  },
  {
   "cell_type": "code",
   "execution_count": 30,
   "metadata": {},
   "outputs": [
    {
     "name": "stderr",
     "output_type": "stream",
     "text": [
      "e:\\ProgramData\\Anaconda3\\lib\\site-packages\\ipykernel_launcher.py:6: RuntimeWarning: divide by zero encountered in true_divide\n",
      "  \n"
     ]
    }
   ],
   "source": [
    "from sklearn.metrics import mean_squared_error\n",
    "\n",
    "def mean_absolute_percentage_error(y_true, y_pred): \n",
    "    \"\"\"Calculates MAPE given y_true and y_pred\"\"\"\n",
    "    y_true, y_pred = np.array(y_true), np.array(y_pred)\n",
    "    return np.mean(np.abs((y_true - y_pred) / y_true)) * 100\n",
    "\n",
    "ypred = xgbr.predict(xtest)\n",
    "mse = mean_squared_error(ytest, ypred)\n",
    "metr=metric(ytest, ypred)\n",
    "mape=mean_absolute_percentage_error(ytest, ypred)\n",
    "#print(\"Training score: \", score)"
   ]
  },
  {
   "cell_type": "code",
   "execution_count": 31,
   "metadata": {},
   "outputs": [
    {
     "data": {
      "text/plain": [
       "(707198382.9451457, inf, 113.41241422282987)"
      ]
     },
     "execution_count": 31,
     "metadata": {},
     "output_type": "execute_result"
    }
   ],
   "source": [
    "mse, mape, metr"
   ]
  },
  {
   "cell_type": "markdown",
   "metadata": {},
   "source": [
    "# Модель со стандартизированными предикторами"
   ]
  },
  {
   "cell_type": "code",
   "execution_count": null,
   "metadata": {},
   "outputs": [],
   "source": [
    "df1 = preprocessing.scale(df[[           'YEAR',           'MONTH',           'STORE_SALES',         ('WINE',),\n",
    "             ('LIQUOR',),         ('BEER',), ('STR_SUPPLIES',),\n",
    "                ('REF',),  ('NON-ALCOHOL',),         ('KEGS',),\n",
    "            ('DUNNAGE',)]])"
   ]
  },
  {
   "cell_type": "code",
   "execution_count": 34,
   "metadata": {
    "scrolled": true
   },
   "outputs": [],
   "source": [
    "xtrain, xtest, ytrain, ytest=train_test_split(df1, df['SALES'], test_size=0.15)"
   ]
  },
  {
   "cell_type": "code",
   "execution_count": 35,
   "metadata": {},
   "outputs": [
    {
     "name": "stdout",
     "output_type": "stream",
     "text": [
      "XGBRegressor(base_score=None, booster=None, colsample_bylevel=None,\n",
      "             colsample_bynode=None, colsample_bytree=None, gamma=None,\n",
      "             gpu_id=None, importance_type='gain', interaction_constraints=None,\n",
      "             learning_rate=None, max_delta_step=None, max_depth=None,\n",
      "             min_child_weight=None, missing=nan, monotone_constraints=None,\n",
      "             n_estimators=100, n_jobs=None, num_parallel_tree=None,\n",
      "             random_state=None, reg_alpha=None, reg_lambda=None,\n",
      "             scale_pos_weight=None, subsample=None, tree_method=None,\n",
      "             validate_parameters=None, verbosity=None)\n"
     ]
    }
   ],
   "source": [
    "xgbr = xgb.XGBRegressor() \n",
    "print(xgbr)"
   ]
  },
  {
   "cell_type": "code",
   "execution_count": 36,
   "metadata": {},
   "outputs": [],
   "source": [
    "n_estimators = [50, 100, 150, 200]\n",
    "max_depth = [2, 4, 6, 8]\n",
    "param_grid = dict(max_depth=max_depth, n_estimators=n_estimators)"
   ]
  },
  {
   "cell_type": "code",
   "execution_count": 37,
   "metadata": {},
   "outputs": [
    {
     "name": "stdout",
     "output_type": "stream",
     "text": [
      "Fitting 10 folds for each of 16 candidates, totalling 160 fits\n"
     ]
    },
    {
     "name": "stderr",
     "output_type": "stream",
     "text": [
      "[Parallel(n_jobs=-1)]: Using backend LokyBackend with 12 concurrent workers.\n",
      "[Parallel(n_jobs=-1)]: Done  26 tasks      | elapsed:   13.2s\n",
      "[Parallel(n_jobs=-1)]: Done 160 out of 160 | elapsed:  1.9min finished\n"
     ]
    }
   ],
   "source": [
    "kfold = KFold(n_splits=10, shuffle=True)\n",
    "grid_search = GridSearchCV(xgbr, param_grid, scoring='neg_mean_squared_error', n_jobs=-1, cv=kfold, verbose=1)\n",
    "result = grid_search.fit(xtrain, ytrain)\n"
   ]
  },
  {
   "cell_type": "code",
   "execution_count": 38,
   "metadata": {},
   "outputs": [
    {
     "name": "stdout",
     "output_type": "stream",
     "text": [
      "Best: -636991492.983085 using {'max_depth': 2, 'n_estimators': 50}\n"
     ]
    }
   ],
   "source": [
    "print(\"Best: %f using %s\" % (result.best_score_, result.best_params_))"
   ]
  },
  {
   "cell_type": "code",
   "execution_count": 39,
   "metadata": {},
   "outputs": [
    {
     "data": {
      "text/plain": [
       "XGBRegressor(base_score=0.5, booster='gbtree', colsample_bylevel=1,\n",
       "             colsample_bynode=1, colsample_bytree=1, gamma=0, gpu_id=-1,\n",
       "             importance_type='gain', interaction_constraints='',\n",
       "             learning_rate=0.300000012, max_delta_step=0, max_depth=2,\n",
       "             min_child_weight=1, missing=nan, monotone_constraints='()',\n",
       "             n_estimators=50, n_jobs=0, num_parallel_tree=1, random_state=0,\n",
       "             reg_alpha=0, reg_lambda=1, scale_pos_weight=1, subsample=1,\n",
       "             tree_method='exact', validate_parameters=1, verbosity=None)"
      ]
     },
     "execution_count": 39,
     "metadata": {},
     "output_type": "execute_result"
    }
   ],
   "source": [
    "xgbr = xgb.XGBRegressor(max_depth=2,n_estimators=50) \n",
    "xgbr.fit(xtrain, ytrain)\n"
   ]
  },
  {
   "cell_type": "code",
   "execution_count": 40,
   "metadata": {},
   "outputs": [
    {
     "data": {
      "image/png": "[encoded data removed]",
      "text/plain": [
       "<Figure size 1440x720 with 1 Axes>"
      ]
     },
     "metadata": {
      "needs_background": "light"
     },
     "output_type": "display_data"
    }
   ],
   "source": [
    "from xgboost import plot_importance, plot_tree\n",
    "_ = plot_importance(xgbr, height=0.9)"
   ]
  },
  {
   "cell_type": "code",
   "execution_count": 41,
   "metadata": {},
   "outputs": [
    {
     "name": "stderr",
     "output_type": "stream",
     "text": [
      "e:\\ProgramData\\Anaconda3\\lib\\site-packages\\ipykernel_launcher.py:6: RuntimeWarning: divide by zero encountered in true_divide\n",
      "  \n"
     ]
    }
   ],
   "source": [
    "from sklearn.metrics import mean_squared_error\n",
    "\n",
    "def mean_absolute_percentage_error(y_true, y_pred): \n",
    "    \"\"\"Calculates MAPE given y_true and y_pred\"\"\"\n",
    "    y_true, y_pred = np.array(y_true), np.array(y_pred)\n",
    "    return np.mean(np.abs((y_true - y_pred) / y_true)) * 100\n",
    "\n",
    "ypred = xgbr.predict(xtest)\n",
    "mse = mean_squared_error(ytest, ypred)\n",
    "metr=metric(ytest, ypred)\n",
    "mape=mean_absolute_percentage_error(ytest, ypred)\n",
    "#print(\"Training score: \", score)"
   ]
  },
  {
   "cell_type": "code",
   "execution_count": 42,
   "metadata": {},
   "outputs": [
    {
     "data": {
      "text/plain": [
       "(643717177.9927584, inf, 116.62618409703629)"
      ]
     },
     "execution_count": 42,
     "metadata": {},
     "output_type": "execute_result"
    }
   ],
   "source": [
    "mse, mape, metr"
   ]
  },
  {
   "cell_type": "markdown",
   "metadata": {},
   "source": [
    "# Добавим переменных"
   ]
  },
  {
   "cell_type": "code",
   "execution_count": 43,
   "metadata": {},
   "outputs": [
    {
     "data": {
      "text/html": [
       "<div>\n",
       "<style scoped>\n",
       "    .dataframe tbody tr th:only-of-type {\n",
       "        vertical-align: middle;\n",
       "    }\n",
       "\n",
       "    .dataframe tbody tr th {\n",
       "        vertical-align: top;\n",
       "    }\n",
       "\n",
       "    .dataframe thead th {\n",
       "        text-align: right;\n",
       "    }\n",
       "</style>\n",
       "<table border=\"1\" class=\"dataframe\">\n",
       "  <thead>\n",
       "    <tr style=\"text-align: right;\">\n",
       "      <th></th>\n",
       "      <th>YEAR</th>\n",
       "      <th>MONTH</th>\n",
       "      <th>CONTRAGENT</th>\n",
       "      <th>ARTICLE_CODE</th>\n",
       "      <th>ARTICLE_NAME</th>\n",
       "      <th>ARTICLE_GROUP</th>\n",
       "      <th>SALES</th>\n",
       "      <th>STORE_SALES</th>\n",
       "      <th>(WINE,)</th>\n",
       "      <th>(LIQUOR,)</th>\n",
       "      <th>(BEER,)</th>\n",
       "      <th>(STR_SUPPLIES,)</th>\n",
       "      <th>(REF,)</th>\n",
       "      <th>(NON-ALCOHOL,)</th>\n",
       "      <th>(KEGS,)</th>\n",
       "      <th>(DUNNAGE,)</th>\n",
       "    </tr>\n",
       "  </thead>\n",
       "  <tbody>\n",
       "    <tr>\n",
       "      <th>0</th>\n",
       "      <td>2017.0</td>\n",
       "      <td>4.0</td>\n",
       "      <td>ROYAL WINE CORP</td>\n",
       "      <td>100200</td>\n",
       "      <td>GAMLA CAB - 750ML</td>\n",
       "      <td>WINE</td>\n",
       "      <td>0.0</td>\n",
       "      <td>0.0</td>\n",
       "      <td>0.0</td>\n",
       "      <td>0.0</td>\n",
       "      <td>0.0</td>\n",
       "      <td>0.0</td>\n",
       "      <td>0.0</td>\n",
       "      <td>0.0</td>\n",
       "      <td>0.0</td>\n",
       "      <td>1.0</td>\n",
       "    </tr>\n",
       "    <tr>\n",
       "      <th>1</th>\n",
       "      <td>2017.0</td>\n",
       "      <td>4.0</td>\n",
       "      <td>SANTA MARGHERITA USA INC</td>\n",
       "      <td>100749</td>\n",
       "      <td>SANTA MARGHERITA P/GRIG ALTO - 375ML</td>\n",
       "      <td>WINE</td>\n",
       "      <td>0.0</td>\n",
       "      <td>0.0</td>\n",
       "      <td>0.0</td>\n",
       "      <td>0.0</td>\n",
       "      <td>0.0</td>\n",
       "      <td>0.0</td>\n",
       "      <td>0.0</td>\n",
       "      <td>0.0</td>\n",
       "      <td>0.0</td>\n",
       "      <td>1.0</td>\n",
       "    </tr>\n",
       "    <tr>\n",
       "      <th>2</th>\n",
       "      <td>2017.0</td>\n",
       "      <td>4.0</td>\n",
       "      <td>JIM BEAM BRANDS CO</td>\n",
       "      <td>10103</td>\n",
       "      <td>KNOB CREEK BOURBON 9YR - 100P - 375ML</td>\n",
       "      <td>LIQUOR</td>\n",
       "      <td>0.0</td>\n",
       "      <td>0.0</td>\n",
       "      <td>0.0</td>\n",
       "      <td>0.0</td>\n",
       "      <td>0.0</td>\n",
       "      <td>1.0</td>\n",
       "      <td>0.0</td>\n",
       "      <td>0.0</td>\n",
       "      <td>0.0</td>\n",
       "      <td>0.0</td>\n",
       "    </tr>\n",
       "    <tr>\n",
       "      <th>3</th>\n",
       "      <td>2017.0</td>\n",
       "      <td>4.0</td>\n",
       "      <td>HEAVEN HILL DISTILLERIES INC</td>\n",
       "      <td>10120</td>\n",
       "      <td>J W DANT BOURBON 100P - 1.75L</td>\n",
       "      <td>LIQUOR</td>\n",
       "      <td>0.0</td>\n",
       "      <td>0.0</td>\n",
       "      <td>0.0</td>\n",
       "      <td>0.0</td>\n",
       "      <td>0.0</td>\n",
       "      <td>1.0</td>\n",
       "      <td>0.0</td>\n",
       "      <td>0.0</td>\n",
       "      <td>0.0</td>\n",
       "      <td>0.0</td>\n",
       "    </tr>\n",
       "    <tr>\n",
       "      <th>4</th>\n",
       "      <td>2017.0</td>\n",
       "      <td>4.0</td>\n",
       "      <td>ROYAL WINE CORP</td>\n",
       "      <td>101664</td>\n",
       "      <td>RAMON CORDOVA RIOJA - 750ML</td>\n",
       "      <td>WINE</td>\n",
       "      <td>0.0</td>\n",
       "      <td>0.0</td>\n",
       "      <td>0.0</td>\n",
       "      <td>0.0</td>\n",
       "      <td>0.0</td>\n",
       "      <td>0.0</td>\n",
       "      <td>0.0</td>\n",
       "      <td>0.0</td>\n",
       "      <td>0.0</td>\n",
       "      <td>1.0</td>\n",
       "    </tr>\n",
       "    <tr>\n",
       "      <th>...</th>\n",
       "      <td>...</td>\n",
       "      <td>...</td>\n",
       "      <td>...</td>\n",
       "      <td>...</td>\n",
       "      <td>...</td>\n",
       "      <td>...</td>\n",
       "      <td>...</td>\n",
       "      <td>...</td>\n",
       "      <td>...</td>\n",
       "      <td>...</td>\n",
       "      <td>...</td>\n",
       "      <td>...</td>\n",
       "      <td>...</td>\n",
       "      <td>...</td>\n",
       "      <td>...</td>\n",
       "      <td>...</td>\n",
       "    </tr>\n",
       "    <tr>\n",
       "      <th>128325</th>\n",
       "      <td>2018.0</td>\n",
       "      <td>2.0</td>\n",
       "      <td>LABATT USA OPERATING CO LLC</td>\n",
       "      <td>99333</td>\n",
       "      <td>MAGIC HAT #9 1/2K</td>\n",
       "      <td>KEGS</td>\n",
       "      <td>0.0</td>\n",
       "      <td>1.0</td>\n",
       "      <td>1.0</td>\n",
       "      <td>0.0</td>\n",
       "      <td>0.0</td>\n",
       "      <td>0.0</td>\n",
       "      <td>0.0</td>\n",
       "      <td>0.0</td>\n",
       "      <td>0.0</td>\n",
       "      <td>0.0</td>\n",
       "    </tr>\n",
       "    <tr>\n",
       "      <th>128326</th>\n",
       "      <td>2018.0</td>\n",
       "      <td>2.0</td>\n",
       "      <td>YUENGLING BREWERY</td>\n",
       "      <td>99350</td>\n",
       "      <td>YUENGLING LAGER 1/4K</td>\n",
       "      <td>KEGS</td>\n",
       "      <td>0.0</td>\n",
       "      <td>35.0</td>\n",
       "      <td>0.0</td>\n",
       "      <td>0.0</td>\n",
       "      <td>1.0</td>\n",
       "      <td>0.0</td>\n",
       "      <td>0.0</td>\n",
       "      <td>0.0</td>\n",
       "      <td>0.0</td>\n",
       "      <td>0.0</td>\n",
       "    </tr>\n",
       "    <tr>\n",
       "      <th>128327</th>\n",
       "      <td>2018.0</td>\n",
       "      <td>2.0</td>\n",
       "      <td>INTERBALT PRODUCTS CORP</td>\n",
       "      <td>99368</td>\n",
       "      <td>BALTIKA #8 NR 20/CS - 16.9OZ</td>\n",
       "      <td>BEER</td>\n",
       "      <td>0.0</td>\n",
       "      <td>1.0</td>\n",
       "      <td>1.0</td>\n",
       "      <td>0.0</td>\n",
       "      <td>0.0</td>\n",
       "      <td>0.0</td>\n",
       "      <td>0.0</td>\n",
       "      <td>0.0</td>\n",
       "      <td>0.0</td>\n",
       "      <td>0.0</td>\n",
       "    </tr>\n",
       "    <tr>\n",
       "      <th>128328</th>\n",
       "      <td>2018.0</td>\n",
       "      <td>2.0</td>\n",
       "      <td>HAMCO DC</td>\n",
       "      <td>9938</td>\n",
       "      <td>THERMAL REGISTER PAPER</td>\n",
       "      <td>STR_SUPPLIES</td>\n",
       "      <td>0.0</td>\n",
       "      <td>0.0</td>\n",
       "      <td>1.0</td>\n",
       "      <td>0.0</td>\n",
       "      <td>0.0</td>\n",
       "      <td>0.0</td>\n",
       "      <td>0.0</td>\n",
       "      <td>0.0</td>\n",
       "      <td>0.0</td>\n",
       "      <td>0.0</td>\n",
       "    </tr>\n",
       "    <tr>\n",
       "      <th>128329</th>\n",
       "      <td>2018.0</td>\n",
       "      <td>2.0</td>\n",
       "      <td>LEGENDS LTD</td>\n",
       "      <td>99554</td>\n",
       "      <td>MAUDITE 6/4 NR - 12OZ</td>\n",
       "      <td>BEER</td>\n",
       "      <td>1360.0</td>\n",
       "      <td>1.0</td>\n",
       "      <td>0.0</td>\n",
       "      <td>0.0</td>\n",
       "      <td>1.0</td>\n",
       "      <td>0.0</td>\n",
       "      <td>0.0</td>\n",
       "      <td>0.0</td>\n",
       "      <td>0.0</td>\n",
       "      <td>0.0</td>\n",
       "    </tr>\n",
       "  </tbody>\n",
       "</table>\n",
       "<p>128307 rows × 16 columns</p>\n",
       "</div>"
      ],
      "text/plain": [
       "          YEAR  MONTH                    CONTRAGENT ARTICLE_CODE  \\\n",
       "0       2017.0    4.0               ROYAL WINE CORP       100200   \n",
       "1       2017.0    4.0      SANTA MARGHERITA USA INC       100749   \n",
       "2       2017.0    4.0            JIM BEAM BRANDS CO        10103   \n",
       "3       2017.0    4.0  HEAVEN HILL DISTILLERIES INC        10120   \n",
       "4       2017.0    4.0               ROYAL WINE CORP       101664   \n",
       "...        ...    ...                           ...          ...   \n",
       "128325  2018.0    2.0   LABATT USA OPERATING CO LLC        99333   \n",
       "128326  2018.0    2.0             YUENGLING BREWERY        99350   \n",
       "128327  2018.0    2.0       INTERBALT PRODUCTS CORP        99368   \n",
       "128328  2018.0    2.0                      HAMCO DC         9938   \n",
       "128329  2018.0    2.0                   LEGENDS LTD        99554   \n",
       "\n",
       "                                 ARTICLE_NAME ARTICLE_GROUP   SALES  \\\n",
       "0                           GAMLA CAB - 750ML          WINE     0.0   \n",
       "1        SANTA MARGHERITA P/GRIG ALTO - 375ML          WINE     0.0   \n",
       "2       KNOB CREEK BOURBON 9YR - 100P - 375ML        LIQUOR     0.0   \n",
       "3               J W DANT BOURBON 100P - 1.75L        LIQUOR     0.0   \n",
       "4                 RAMON CORDOVA RIOJA - 750ML          WINE     0.0   \n",
       "...                                       ...           ...     ...   \n",
       "128325                      MAGIC HAT #9 1/2K          KEGS     0.0   \n",
       "128326                   YUENGLING LAGER 1/4K          KEGS     0.0   \n",
       "128327           BALTIKA #8 NR 20/CS - 16.9OZ          BEER     0.0   \n",
       "128328                 THERMAL REGISTER PAPER  STR_SUPPLIES     0.0   \n",
       "128329                  MAUDITE 6/4 NR - 12OZ          BEER  1360.0   \n",
       "\n",
       "        STORE_SALES  (WINE,)  (LIQUOR,)  (BEER,)  (STR_SUPPLIES,)  (REF,)  \\\n",
       "0               0.0      0.0        0.0      0.0              0.0     0.0   \n",
       "1               0.0      0.0        0.0      0.0              0.0     0.0   \n",
       "2               0.0      0.0        0.0      0.0              1.0     0.0   \n",
       "3               0.0      0.0        0.0      0.0              1.0     0.0   \n",
       "4               0.0      0.0        0.0      0.0              0.0     0.0   \n",
       "...             ...      ...        ...      ...              ...     ...   \n",
       "128325          1.0      1.0        0.0      0.0              0.0     0.0   \n",
       "128326         35.0      0.0        0.0      1.0              0.0     0.0   \n",
       "128327          1.0      1.0        0.0      0.0              0.0     0.0   \n",
       "128328          0.0      1.0        0.0      0.0              0.0     0.0   \n",
       "128329          1.0      0.0        0.0      1.0              0.0     0.0   \n",
       "\n",
       "        (NON-ALCOHOL,)  (KEGS,)  (DUNNAGE,)  \n",
       "0                  0.0      0.0         1.0  \n",
       "1                  0.0      0.0         1.0  \n",
       "2                  0.0      0.0         0.0  \n",
       "3                  0.0      0.0         0.0  \n",
       "4                  0.0      0.0         1.0  \n",
       "...                ...      ...         ...  \n",
       "128325             0.0      0.0         0.0  \n",
       "128326             0.0      0.0         0.0  \n",
       "128327             0.0      0.0         0.0  \n",
       "128328             0.0      0.0         0.0  \n",
       "128329             0.0      0.0         0.0  \n",
       "\n",
       "[128307 rows x 16 columns]"
      ]
     },
     "execution_count": 43,
     "metadata": {},
     "output_type": "execute_result"
    }
   ],
   "source": [
    "df#.head()"
   ]
  },
  {
   "cell_type": "code",
   "execution_count": 44,
   "metadata": {},
   "outputs": [
    {
     "data": {
      "text/html": [
       "<div>\n",
       "<style scoped>\n",
       "    .dataframe tbody tr th:only-of-type {\n",
       "        vertical-align: middle;\n",
       "    }\n",
       "\n",
       "    .dataframe tbody tr th {\n",
       "        vertical-align: top;\n",
       "    }\n",
       "\n",
       "    .dataframe thead th {\n",
       "        text-align: right;\n",
       "    }\n",
       "</style>\n",
       "<table border=\"1\" class=\"dataframe\">\n",
       "  <thead>\n",
       "    <tr style=\"text-align: right;\">\n",
       "      <th></th>\n",
       "      <th>YEAR</th>\n",
       "      <th>MONTH</th>\n",
       "      <th>CONTRAGENT</th>\n",
       "      <th>ARTICLE_CODE</th>\n",
       "      <th>ARTICLE_NAME</th>\n",
       "      <th>ARTICLE_GROUP</th>\n",
       "      <th>SALES</th>\n",
       "      <th>STORE_SALES</th>\n",
       "      <th>(WINE,)</th>\n",
       "      <th>(LIQUOR,)</th>\n",
       "      <th>...</th>\n",
       "      <th>(CHARLES JACQUIN ET CIE INC,)</th>\n",
       "      <th>(THE SANDY BOTTOM ENTERPRISES LLC,)</th>\n",
       "      <th>(SMITH-ANDERSON ENTERPRISES INC,)</th>\n",
       "      <th>(VINIFERA DISTRIBUTING OF MARYLAND INC,)</th>\n",
       "      <th>(PAMPA BEVERAGES LLC DBA TRANSNATIONAL SU,)</th>\n",
       "      <th>(DCD ENTERPRISES LLC,)</th>\n",
       "      <th>(BULLSHINE DISTILLERY LLC,)</th>\n",
       "      <th>(CASA CHIRICO LLC,)</th>\n",
       "      <th>(FREELANCE WINES LLC,)</th>\n",
       "      <th>(BLACK ANKLE VINEYARDS LLC,)</th>\n",
       "    </tr>\n",
       "  </thead>\n",
       "  <tbody>\n",
       "    <tr>\n",
       "      <th>0</th>\n",
       "      <td>2017.0</td>\n",
       "      <td>4.0</td>\n",
       "      <td>ROYAL WINE CORP</td>\n",
       "      <td>100200</td>\n",
       "      <td>GAMLA CAB - 750ML</td>\n",
       "      <td>WINE</td>\n",
       "      <td>0.0</td>\n",
       "      <td>0.0</td>\n",
       "      <td>0.0</td>\n",
       "      <td>0.0</td>\n",
       "      <td>...</td>\n",
       "      <td>0.0</td>\n",
       "      <td>0.0</td>\n",
       "      <td>0.0</td>\n",
       "      <td>0.0</td>\n",
       "      <td>0.0</td>\n",
       "      <td>0.0</td>\n",
       "      <td>0.0</td>\n",
       "      <td>0.0</td>\n",
       "      <td>0.0</td>\n",
       "      <td>0.0</td>\n",
       "    </tr>\n",
       "    <tr>\n",
       "      <th>1</th>\n",
       "      <td>2017.0</td>\n",
       "      <td>4.0</td>\n",
       "      <td>SANTA MARGHERITA USA INC</td>\n",
       "      <td>100749</td>\n",
       "      <td>SANTA MARGHERITA P/GRIG ALTO - 375ML</td>\n",
       "      <td>WINE</td>\n",
       "      <td>0.0</td>\n",
       "      <td>0.0</td>\n",
       "      <td>0.0</td>\n",
       "      <td>0.0</td>\n",
       "      <td>...</td>\n",
       "      <td>0.0</td>\n",
       "      <td>0.0</td>\n",
       "      <td>0.0</td>\n",
       "      <td>0.0</td>\n",
       "      <td>0.0</td>\n",
       "      <td>0.0</td>\n",
       "      <td>0.0</td>\n",
       "      <td>0.0</td>\n",
       "      <td>0.0</td>\n",
       "      <td>0.0</td>\n",
       "    </tr>\n",
       "    <tr>\n",
       "      <th>2</th>\n",
       "      <td>2017.0</td>\n",
       "      <td>4.0</td>\n",
       "      <td>JIM BEAM BRANDS CO</td>\n",
       "      <td>10103</td>\n",
       "      <td>KNOB CREEK BOURBON 9YR - 100P - 375ML</td>\n",
       "      <td>LIQUOR</td>\n",
       "      <td>0.0</td>\n",
       "      <td>0.0</td>\n",
       "      <td>0.0</td>\n",
       "      <td>0.0</td>\n",
       "      <td>...</td>\n",
       "      <td>0.0</td>\n",
       "      <td>0.0</td>\n",
       "      <td>0.0</td>\n",
       "      <td>0.0</td>\n",
       "      <td>0.0</td>\n",
       "      <td>0.0</td>\n",
       "      <td>0.0</td>\n",
       "      <td>0.0</td>\n",
       "      <td>0.0</td>\n",
       "      <td>0.0</td>\n",
       "    </tr>\n",
       "    <tr>\n",
       "      <th>3</th>\n",
       "      <td>2017.0</td>\n",
       "      <td>4.0</td>\n",
       "      <td>HEAVEN HILL DISTILLERIES INC</td>\n",
       "      <td>10120</td>\n",
       "      <td>J W DANT BOURBON 100P - 1.75L</td>\n",
       "      <td>LIQUOR</td>\n",
       "      <td>0.0</td>\n",
       "      <td>0.0</td>\n",
       "      <td>0.0</td>\n",
       "      <td>0.0</td>\n",
       "      <td>...</td>\n",
       "      <td>0.0</td>\n",
       "      <td>0.0</td>\n",
       "      <td>0.0</td>\n",
       "      <td>0.0</td>\n",
       "      <td>0.0</td>\n",
       "      <td>0.0</td>\n",
       "      <td>0.0</td>\n",
       "      <td>0.0</td>\n",
       "      <td>0.0</td>\n",
       "      <td>0.0</td>\n",
       "    </tr>\n",
       "    <tr>\n",
       "      <th>4</th>\n",
       "      <td>2017.0</td>\n",
       "      <td>4.0</td>\n",
       "      <td>ROYAL WINE CORP</td>\n",
       "      <td>101664</td>\n",
       "      <td>RAMON CORDOVA RIOJA - 750ML</td>\n",
       "      <td>WINE</td>\n",
       "      <td>0.0</td>\n",
       "      <td>0.0</td>\n",
       "      <td>0.0</td>\n",
       "      <td>0.0</td>\n",
       "      <td>...</td>\n",
       "      <td>0.0</td>\n",
       "      <td>0.0</td>\n",
       "      <td>0.0</td>\n",
       "      <td>0.0</td>\n",
       "      <td>0.0</td>\n",
       "      <td>0.0</td>\n",
       "      <td>0.0</td>\n",
       "      <td>0.0</td>\n",
       "      <td>0.0</td>\n",
       "      <td>0.0</td>\n",
       "    </tr>\n",
       "  </tbody>\n",
       "</table>\n",
       "<p>5 rows × 349 columns</p>\n",
       "</div>"
      ],
      "text/plain": [
       "     YEAR  MONTH                    CONTRAGENT ARTICLE_CODE  \\\n",
       "0  2017.0    4.0               ROYAL WINE CORP       100200   \n",
       "1  2017.0    4.0      SANTA MARGHERITA USA INC       100749   \n",
       "2  2017.0    4.0            JIM BEAM BRANDS CO        10103   \n",
       "3  2017.0    4.0  HEAVEN HILL DISTILLERIES INC        10120   \n",
       "4  2017.0    4.0               ROYAL WINE CORP       101664   \n",
       "\n",
       "                            ARTICLE_NAME ARTICLE_GROUP  SALES  STORE_SALES  \\\n",
       "0                      GAMLA CAB - 750ML          WINE    0.0          0.0   \n",
       "1   SANTA MARGHERITA P/GRIG ALTO - 375ML          WINE    0.0          0.0   \n",
       "2  KNOB CREEK BOURBON 9YR - 100P - 375ML        LIQUOR    0.0          0.0   \n",
       "3          J W DANT BOURBON 100P - 1.75L        LIQUOR    0.0          0.0   \n",
       "4            RAMON CORDOVA RIOJA - 750ML          WINE    0.0          0.0   \n",
       "\n",
       "   (WINE,)  (LIQUOR,)  ...  (CHARLES JACQUIN ET CIE INC,)  \\\n",
       "0      0.0        0.0  ...                            0.0   \n",
       "1      0.0        0.0  ...                            0.0   \n",
       "2      0.0        0.0  ...                            0.0   \n",
       "3      0.0        0.0  ...                            0.0   \n",
       "4      0.0        0.0  ...                            0.0   \n",
       "\n",
       "   (THE SANDY BOTTOM ENTERPRISES LLC,)  (SMITH-ANDERSON ENTERPRISES INC,)  \\\n",
       "0                                  0.0                                0.0   \n",
       "1                                  0.0                                0.0   \n",
       "2                                  0.0                                0.0   \n",
       "3                                  0.0                                0.0   \n",
       "4                                  0.0                                0.0   \n",
       "\n",
       "   (VINIFERA DISTRIBUTING OF MARYLAND INC,)  \\\n",
       "0                                       0.0   \n",
       "1                                       0.0   \n",
       "2                                       0.0   \n",
       "3                                       0.0   \n",
       "4                                       0.0   \n",
       "\n",
       "   (PAMPA BEVERAGES LLC DBA TRANSNATIONAL SU,)  (DCD ENTERPRISES LLC,)  \\\n",
       "0                                          0.0                     0.0   \n",
       "1                                          0.0                     0.0   \n",
       "2                                          0.0                     0.0   \n",
       "3                                          0.0                     0.0   \n",
       "4                                          0.0                     0.0   \n",
       "\n",
       "   (BULLSHINE DISTILLERY LLC,)  (CASA CHIRICO LLC,)  (FREELANCE WINES LLC,)  \\\n",
       "0                          0.0                  0.0                     0.0   \n",
       "1                          0.0                  0.0                     0.0   \n",
       "2                          0.0                  0.0                     0.0   \n",
       "3                          0.0                  0.0                     0.0   \n",
       "4                          0.0                  0.0                     0.0   \n",
       "\n",
       "   (BLACK ANKLE VINEYARDS LLC,)  \n",
       "0                           0.0  \n",
       "1                           0.0  \n",
       "2                           0.0  \n",
       "3                           0.0  \n",
       "4                           0.0  \n",
       "\n",
       "[5 rows x 349 columns]"
      ]
     },
     "execution_count": 44,
     "metadata": {},
     "output_type": "execute_result"
    }
   ],
   "source": [
    "ohe = OneHotEncoder(categories = \"auto\",sparse = False)\n",
    "df.dropna(inplace=True)\n",
    "tp=ohe.fit_transform(df[['CONTRAGENT']])\n",
    "tp_col=pd.DataFrame(tp, columns=[df['CONTRAGENT'].unique()])\n",
    "df = pd.concat([df,tp_col],axis = 1)\n",
    "df.head()"
   ]
  },
  {
   "cell_type": "code",
   "execution_count": 53,
   "metadata": {},
   "outputs": [
    {
     "data": {
      "text/plain": [
       "['750ML']"
      ]
     },
     "execution_count": 53,
     "metadata": {},
     "output_type": "execute_result"
    }
   ],
   "source": [
    "re.findall(r'\\d{3}', 'GAMLA CAB - 750ML')"
   ]
  },
  {
   "cell_type": "code",
   "execution_count": 55,
   "metadata": {},
   "outputs": [
    {
     "data": {
      "text/plain": [
       "' 750ML'"
      ]
     },
     "execution_count": 55,
     "metadata": {},
     "output_type": "execute_result"
    }
   ],
   "source": [
    "re.split(r'-', 'GAMLA CAB - 750ML')[-1]"
   ]
  },
  {
   "cell_type": "code",
   "execution_count": 59,
   "metadata": {},
   "outputs": [
    {
     "data": {
      "text/plain": [
       "0                             GAMLA CAB - 750ML\n",
       "1          SANTA MARGHERITA P/GRIG ALTO - 375ML\n",
       "2         KNOB CREEK BOURBON 9YR - 100P - 375ML\n",
       "3                 J W DANT BOURBON 100P - 1.75L\n",
       "4                   RAMON CORDOVA RIOJA - 750ML\n",
       "                          ...                  \n",
       "128325                        MAGIC HAT #9 1/2K\n",
       "128326                     YUENGLING LAGER 1/4K\n",
       "128327             BALTIKA #8 NR 20/CS - 16.9OZ\n",
       "128328                   THERMAL REGISTER PAPER\n",
       "128329                    MAUDITE 6/4 NR - 12OZ\n",
       "Name: ARTICLE_NAME, Length: 128330, dtype: object"
      ]
     },
     "execution_count": 59,
     "metadata": {},
     "output_type": "execute_result"
    }
   ],
   "source": [
    "df['ARTICLE_NAME']"
   ]
  },
  {
   "cell_type": "code",
   "execution_count": 75,
   "metadata": {},
   "outputs": [],
   "source": [
    "#df['test']=df['ARTICLE_NAME'].apply(lambda x: re.split(r'-', x)[-1])\n",
    "df.drop(columns='test', inplace=True)"
   ]
  },
  {
   "cell_type": "code",
   "execution_count": 84,
   "metadata": {},
   "outputs": [],
   "source": [
    "df.isna().sum()\n",
    "df.dropna(inplace=True)"
   ]
  },
  {
   "cell_type": "code",
   "execution_count": 85,
   "metadata": {
    "scrolled": true
   },
   "outputs": [
    {
     "data": {
      "text/plain": [
       "Index([                                       'YEAR',\n",
       "                                             'MONTH',\n",
       "                                        'CONTRAGENT',\n",
       "                                      'ARTICLE_CODE',\n",
       "                                      'ARTICLE_NAME',\n",
       "                                     'ARTICLE_GROUP',\n",
       "                                             'SALES',\n",
       "                                       'STORE_SALES',\n",
       "                                           ('WINE',),\n",
       "                                         ('LIQUOR',),\n",
       "       ...\n",
       "                     ('CHARLES JACQUIN ET CIE INC',),\n",
       "               ('THE SANDY BOTTOM ENTERPRISES LLC',),\n",
       "                 ('SMITH-ANDERSON ENTERPRISES INC',),\n",
       "          ('VINIFERA DISTRIBUTING OF MARYLAND INC',),\n",
       "       ('PAMPA BEVERAGES LLC DBA TRANSNATIONAL SU',),\n",
       "                            ('DCD ENTERPRISES LLC',),\n",
       "                       ('BULLSHINE DISTILLERY LLC',),\n",
       "                               ('CASA CHIRICO LLC',),\n",
       "                            ('FREELANCE WINES LLC',),\n",
       "                      ('BLACK ANKLE VINEYARDS LLC',)],\n",
       "      dtype='object', length=349)"
      ]
     },
     "execution_count": 85,
     "metadata": {},
     "output_type": "execute_result"
    }
   ],
   "source": [
    "x=df.columns\n",
    "x"
   ]
  },
  {
   "cell_type": "code",
   "execution_count": 133,
   "metadata": {},
   "outputs": [],
   "source": [
    "x=list(x)\n",
    "x1=[z for z in x if z not in ['CONTRAGENT', 'ARTICLE_CODE', 'ARTICLE_NAME', 'ARTICLE_GROUP', 'SALES']]\n"
   ]
  },
  {
   "cell_type": "code",
   "execution_count": 134,
   "metadata": {
    "scrolled": true
   },
   "outputs": [
    {
     "name": "stderr",
     "output_type": "stream",
     "text": [
      "e:\\ProgramData\\Anaconda3\\lib\\site-packages\\numpy\\core\\_asarray.py:83: VisibleDeprecationWarning: Creating an ndarray from ragged nested sequences (which is a list-or-tuple of lists-or-tuples-or ndarrays with different lengths or shapes) is deprecated. If you meant to do this, you must specify 'dtype=object' when creating the ndarray\n",
      "  return array(a, dtype, copy=False, order=order)\n"
     ]
    }
   ],
   "source": [
    "xtrain, xtest, ytrain, ytest=train_test_split(df[x1], df['SALES'], test_size=0.15)"
   ]
  },
  {
   "cell_type": "code",
   "execution_count": 135,
   "metadata": {},
   "outputs": [
    {
     "name": "stdout",
     "output_type": "stream",
     "text": [
      "XGBRegressor(base_score=None, booster=None, colsample_bylevel=None,\n",
      "             colsample_bynode=None, colsample_bytree=None, gamma=None,\n",
      "             gpu_id=None, importance_type='gain', interaction_constraints=None,\n",
      "             learning_rate=None, max_delta_step=None, max_depth=None,\n",
      "             min_child_weight=None, missing=nan, monotone_constraints=None,\n",
      "             n_estimators=100, n_jobs=None, num_parallel_tree=None,\n",
      "             random_state=None, reg_alpha=None, reg_lambda=None,\n",
      "             scale_pos_weight=None, subsample=None, tree_method=None,\n",
      "             validate_parameters=None, verbosity=None)\n"
     ]
    }
   ],
   "source": [
    "xgbr = xgb.XGBRegressor() \n",
    "print(xgbr)"
   ]
  },
  {
   "cell_type": "code",
   "execution_count": 90,
   "metadata": {},
   "outputs": [],
   "source": [
    "n_estimators = [50, 100, 150, 200]\n",
    "max_depth = [2, 4, 6, 8]\n",
    "param_grid = dict(max_depth=max_depth, n_estimators=n_estimators)"
   ]
  },
  {
   "cell_type": "code",
   "execution_count": 128,
   "metadata": {
    "collapsed": true
   },
   "outputs": [
    {
     "name": "stdout",
     "output_type": "stream",
     "text": [
      "Fitting 10 folds for each of 144 candidates, totalling 1440 fits\n"
     ]
    },
    {
     "name": "stderr",
     "output_type": "stream",
     "text": [
      "[Parallel(n_jobs=-1)]: Using backend LokyBackend with 12 concurrent workers.\n",
      "[Parallel(n_jobs=-1)]: Done  26 tasks      | elapsed:    1.1s\n",
      "[Parallel(n_jobs=-1)]: Done 176 tasks      | elapsed:    4.5s\n",
      "[Parallel(n_jobs=-1)]: Done 426 tasks      | elapsed:   10.2s\n",
      "[Parallel(n_jobs=-1)]: Done 776 tasks      | elapsed:   18.3s\n",
      "[Parallel(n_jobs=-1)]: Done 1226 tasks      | elapsed:   28.3s\n",
      "[Parallel(n_jobs=-1)]: Done 1440 out of 1440 | elapsed:   33.2s finished\n"
     ]
    },
    {
     "ename": "ValueError",
     "evalue": "DataFrame.dtypes for data must be int, float or bool.\n                Did not expect the data types in fields CONTRAGENT, ARTICLE_GROUP",
     "output_type": "error",
     "traceback": [
      "\u001b[1;31m---------------------------------------------------------------------------\u001b[0m",
      "\u001b[1;31mValueError\u001b[0m                                Traceback (most recent call last)",
      "\u001b[1;32m<ipython-input-128-ad99c1a2eb39>\u001b[0m in \u001b[0;36m<module>\u001b[1;34m\u001b[0m\n\u001b[0;32m      1\u001b[0m \u001b[0mkfold\u001b[0m \u001b[1;33m=\u001b[0m \u001b[0mKFold\u001b[0m\u001b[1;33m(\u001b[0m\u001b[0mn_splits\u001b[0m\u001b[1;33m=\u001b[0m\u001b[1;36m10\u001b[0m\u001b[1;33m,\u001b[0m \u001b[0mshuffle\u001b[0m\u001b[1;33m=\u001b[0m\u001b[1;32mTrue\u001b[0m\u001b[1;33m)\u001b[0m\u001b[1;33m\u001b[0m\u001b[1;33m\u001b[0m\u001b[0m\n\u001b[0;32m      2\u001b[0m \u001b[0mgrid_search\u001b[0m \u001b[1;33m=\u001b[0m \u001b[0mGridSearchCV\u001b[0m\u001b[1;33m(\u001b[0m\u001b[0mxgbr\u001b[0m\u001b[1;33m,\u001b[0m \u001b[0mparam_grid\u001b[0m\u001b[1;33m,\u001b[0m \u001b[0mscoring\u001b[0m\u001b[1;33m=\u001b[0m\u001b[1;34m'neg_mean_squared_error'\u001b[0m\u001b[1;33m,\u001b[0m \u001b[0mn_jobs\u001b[0m\u001b[1;33m=\u001b[0m\u001b[1;33m-\u001b[0m\u001b[1;36m1\u001b[0m\u001b[1;33m,\u001b[0m \u001b[0mcv\u001b[0m\u001b[1;33m=\u001b[0m\u001b[0mkfold\u001b[0m\u001b[1;33m,\u001b[0m \u001b[0mverbose\u001b[0m\u001b[1;33m=\u001b[0m\u001b[1;36m1\u001b[0m\u001b[1;33m)\u001b[0m\u001b[1;33m\u001b[0m\u001b[1;33m\u001b[0m\u001b[0m\n\u001b[1;32m----> 3\u001b[1;33m \u001b[0mresult\u001b[0m \u001b[1;33m=\u001b[0m \u001b[0mgrid_search\u001b[0m\u001b[1;33m.\u001b[0m\u001b[0mfit\u001b[0m\u001b[1;33m(\u001b[0m\u001b[0mxtrain\u001b[0m\u001b[1;33m,\u001b[0m \u001b[0mytrain\u001b[0m\u001b[1;33m)\u001b[0m\u001b[1;33m\u001b[0m\u001b[1;33m\u001b[0m\u001b[0m\n\u001b[0m",
      "\u001b[1;32me:\\ProgramData\\Anaconda3\\lib\\site-packages\\sklearn\\utils\\validation.py\u001b[0m in \u001b[0;36minner_f\u001b[1;34m(*args, **kwargs)\u001b[0m\n\u001b[0;32m     70\u001b[0m                           FutureWarning)\n\u001b[0;32m     71\u001b[0m         \u001b[0mkwargs\u001b[0m\u001b[1;33m.\u001b[0m\u001b[0mupdate\u001b[0m\u001b[1;33m(\u001b[0m\u001b[1;33m{\u001b[0m\u001b[0mk\u001b[0m\u001b[1;33m:\u001b[0m \u001b[0marg\u001b[0m \u001b[1;32mfor\u001b[0m \u001b[0mk\u001b[0m\u001b[1;33m,\u001b[0m \u001b[0marg\u001b[0m \u001b[1;32min\u001b[0m \u001b[0mzip\u001b[0m\u001b[1;33m(\u001b[0m\u001b[0msig\u001b[0m\u001b[1;33m.\u001b[0m\u001b[0mparameters\u001b[0m\u001b[1;33m,\u001b[0m \u001b[0margs\u001b[0m\u001b[1;33m)\u001b[0m\u001b[1;33m}\u001b[0m\u001b[1;33m)\u001b[0m\u001b[1;33m\u001b[0m\u001b[1;33m\u001b[0m\u001b[0m\n\u001b[1;32m---> 72\u001b[1;33m         \u001b[1;32mreturn\u001b[0m \u001b[0mf\u001b[0m\u001b[1;33m(\u001b[0m\u001b[1;33m**\u001b[0m\u001b[0mkwargs\u001b[0m\u001b[1;33m)\u001b[0m\u001b[1;33m\u001b[0m\u001b[1;33m\u001b[0m\u001b[0m\n\u001b[0m\u001b[0;32m     73\u001b[0m     \u001b[1;32mreturn\u001b[0m \u001b[0minner_f\u001b[0m\u001b[1;33m\u001b[0m\u001b[1;33m\u001b[0m\u001b[0m\n\u001b[0;32m     74\u001b[0m \u001b[1;33m\u001b[0m\u001b[0m\n",
      "\u001b[1;32me:\\ProgramData\\Anaconda3\\lib\\site-packages\\sklearn\\model_selection\\_search.py\u001b[0m in \u001b[0;36mfit\u001b[1;34m(self, X, y, groups, **fit_params)\u001b[0m\n\u001b[0;32m    763\u001b[0m             \u001b[0mrefit_start_time\u001b[0m \u001b[1;33m=\u001b[0m \u001b[0mtime\u001b[0m\u001b[1;33m.\u001b[0m\u001b[0mtime\u001b[0m\u001b[1;33m(\u001b[0m\u001b[1;33m)\u001b[0m\u001b[1;33m\u001b[0m\u001b[1;33m\u001b[0m\u001b[0m\n\u001b[0;32m    764\u001b[0m             \u001b[1;32mif\u001b[0m \u001b[0my\u001b[0m \u001b[1;32mis\u001b[0m \u001b[1;32mnot\u001b[0m \u001b[1;32mNone\u001b[0m\u001b[1;33m:\u001b[0m\u001b[1;33m\u001b[0m\u001b[1;33m\u001b[0m\u001b[0m\n\u001b[1;32m--> 765\u001b[1;33m                 \u001b[0mself\u001b[0m\u001b[1;33m.\u001b[0m\u001b[0mbest_estimator_\u001b[0m\u001b[1;33m.\u001b[0m\u001b[0mfit\u001b[0m\u001b[1;33m(\u001b[0m\u001b[0mX\u001b[0m\u001b[1;33m,\u001b[0m \u001b[0my\u001b[0m\u001b[1;33m,\u001b[0m \u001b[1;33m**\u001b[0m\u001b[0mfit_params\u001b[0m\u001b[1;33m)\u001b[0m\u001b[1;33m\u001b[0m\u001b[1;33m\u001b[0m\u001b[0m\n\u001b[0m\u001b[0;32m    766\u001b[0m             \u001b[1;32melse\u001b[0m\u001b[1;33m:\u001b[0m\u001b[1;33m\u001b[0m\u001b[1;33m\u001b[0m\u001b[0m\n\u001b[0;32m    767\u001b[0m                 \u001b[0mself\u001b[0m\u001b[1;33m.\u001b[0m\u001b[0mbest_estimator_\u001b[0m\u001b[1;33m.\u001b[0m\u001b[0mfit\u001b[0m\u001b[1;33m(\u001b[0m\u001b[0mX\u001b[0m\u001b[1;33m,\u001b[0m \u001b[1;33m**\u001b[0m\u001b[0mfit_params\u001b[0m\u001b[1;33m)\u001b[0m\u001b[1;33m\u001b[0m\u001b[1;33m\u001b[0m\u001b[0m\n",
      "\u001b[1;32me:\\ProgramData\\Anaconda3\\lib\\site-packages\\xgboost\\sklearn.py\u001b[0m in \u001b[0;36mfit\u001b[1;34m(self, X, y, sample_weight, base_margin, eval_set, eval_metric, early_stopping_rounds, verbose, xgb_model, sample_weight_eval_set, callbacks)\u001b[0m\n\u001b[0;32m    505\u001b[0m                                 \u001b[0mbase_margin\u001b[0m\u001b[1;33m=\u001b[0m\u001b[0mbase_margin\u001b[0m\u001b[1;33m,\u001b[0m\u001b[1;33m\u001b[0m\u001b[1;33m\u001b[0m\u001b[0m\n\u001b[0;32m    506\u001b[0m                                 \u001b[0mmissing\u001b[0m\u001b[1;33m=\u001b[0m\u001b[0mself\u001b[0m\u001b[1;33m.\u001b[0m\u001b[0mmissing\u001b[0m\u001b[1;33m,\u001b[0m\u001b[1;33m\u001b[0m\u001b[1;33m\u001b[0m\u001b[0m\n\u001b[1;32m--> 507\u001b[1;33m                                 nthread=self.n_jobs)\n\u001b[0m\u001b[0;32m    508\u001b[0m \u001b[1;33m\u001b[0m\u001b[0m\n\u001b[0;32m    509\u001b[0m         \u001b[0mevals_result\u001b[0m \u001b[1;33m=\u001b[0m \u001b[1;33m{\u001b[0m\u001b[1;33m}\u001b[0m\u001b[1;33m\u001b[0m\u001b[1;33m\u001b[0m\u001b[0m\n",
      "\u001b[1;32me:\\ProgramData\\Anaconda3\\lib\\site-packages\\xgboost\\core.py\u001b[0m in \u001b[0;36m__init__\u001b[1;34m(self, data, label, weight, base_margin, missing, silent, feature_names, feature_types, nthread)\u001b[0m\n\u001b[0;32m    436\u001b[0m             \u001b[0mthreads\u001b[0m\u001b[1;33m=\u001b[0m\u001b[0mself\u001b[0m\u001b[1;33m.\u001b[0m\u001b[0mnthread\u001b[0m\u001b[1;33m,\u001b[0m\u001b[1;33m\u001b[0m\u001b[1;33m\u001b[0m\u001b[0m\n\u001b[0;32m    437\u001b[0m             \u001b[0mfeature_names\u001b[0m\u001b[1;33m=\u001b[0m\u001b[0mfeature_names\u001b[0m\u001b[1;33m,\u001b[0m\u001b[1;33m\u001b[0m\u001b[1;33m\u001b[0m\u001b[0m\n\u001b[1;32m--> 438\u001b[1;33m             feature_types=feature_types)\n\u001b[0m\u001b[0;32m    439\u001b[0m         \u001b[1;32massert\u001b[0m \u001b[0mhandle\u001b[0m \u001b[1;32mis\u001b[0m \u001b[1;32mnot\u001b[0m \u001b[1;32mNone\u001b[0m\u001b[1;33m\u001b[0m\u001b[1;33m\u001b[0m\u001b[0m\n\u001b[0;32m    440\u001b[0m         \u001b[0mself\u001b[0m\u001b[1;33m.\u001b[0m\u001b[0mhandle\u001b[0m \u001b[1;33m=\u001b[0m \u001b[0mhandle\u001b[0m\u001b[1;33m\u001b[0m\u001b[1;33m\u001b[0m\u001b[0m\n",
      "\u001b[1;32me:\\ProgramData\\Anaconda3\\lib\\site-packages\\xgboost\\data.py\u001b[0m in \u001b[0;36mdispatch_data_backend\u001b[1;34m(data, missing, threads, feature_names, feature_types)\u001b[0m\n\u001b[0;32m    502\u001b[0m     \u001b[1;32mif\u001b[0m \u001b[0m_is_pandas_df\u001b[0m\u001b[1;33m(\u001b[0m\u001b[0mdata\u001b[0m\u001b[1;33m)\u001b[0m\u001b[1;33m:\u001b[0m\u001b[1;33m\u001b[0m\u001b[1;33m\u001b[0m\u001b[0m\n\u001b[0;32m    503\u001b[0m         return _from_pandas_df(data, missing, threads,\n\u001b[1;32m--> 504\u001b[1;33m                                feature_names, feature_types)\n\u001b[0m\u001b[0;32m    505\u001b[0m     \u001b[1;32mif\u001b[0m \u001b[0m_is_pandas_series\u001b[0m\u001b[1;33m(\u001b[0m\u001b[0mdata\u001b[0m\u001b[1;33m)\u001b[0m\u001b[1;33m:\u001b[0m\u001b[1;33m\u001b[0m\u001b[1;33m\u001b[0m\u001b[0m\n\u001b[0;32m    506\u001b[0m         return _from_pandas_series(data, missing, threads, feature_names,\n",
      "\u001b[1;32me:\\ProgramData\\Anaconda3\\lib\\site-packages\\xgboost\\data.py\u001b[0m in \u001b[0;36m_from_pandas_df\u001b[1;34m(data, missing, nthread, feature_names, feature_types)\u001b[0m\n\u001b[0;32m    217\u001b[0m \u001b[1;32mdef\u001b[0m \u001b[0m_from_pandas_df\u001b[0m\u001b[1;33m(\u001b[0m\u001b[0mdata\u001b[0m\u001b[1;33m,\u001b[0m \u001b[0mmissing\u001b[0m\u001b[1;33m,\u001b[0m \u001b[0mnthread\u001b[0m\u001b[1;33m,\u001b[0m \u001b[0mfeature_names\u001b[0m\u001b[1;33m,\u001b[0m \u001b[0mfeature_types\u001b[0m\u001b[1;33m)\u001b[0m\u001b[1;33m:\u001b[0m\u001b[1;33m\u001b[0m\u001b[1;33m\u001b[0m\u001b[0m\n\u001b[0;32m    218\u001b[0m     data, feature_names, feature_types = _transform_pandas_df(\n\u001b[1;32m--> 219\u001b[1;33m         data, feature_names, feature_types)\n\u001b[0m\u001b[0;32m    220\u001b[0m     return _from_numpy_array(data, missing, nthread, feature_names,\n\u001b[0;32m    221\u001b[0m                              feature_types)\n",
      "\u001b[1;32me:\\ProgramData\\Anaconda3\\lib\\site-packages\\xgboost\\data.py\u001b[0m in \u001b[0;36m_transform_pandas_df\u001b[1;34m(data, feature_names, feature_types, meta, meta_type)\u001b[0m\n\u001b[0;32m    183\u001b[0m         msg = \"\"\"DataFrame.dtypes for data must be int, float or bool.\n\u001b[0;32m    184\u001b[0m                 Did not expect the data types in fields \"\"\"\n\u001b[1;32m--> 185\u001b[1;33m         \u001b[1;32mraise\u001b[0m \u001b[0mValueError\u001b[0m\u001b[1;33m(\u001b[0m\u001b[0mmsg\u001b[0m \u001b[1;33m+\u001b[0m \u001b[1;34m', '\u001b[0m\u001b[1;33m.\u001b[0m\u001b[0mjoin\u001b[0m\u001b[1;33m(\u001b[0m\u001b[0mbad_fields\u001b[0m\u001b[1;33m)\u001b[0m\u001b[1;33m)\u001b[0m\u001b[1;33m\u001b[0m\u001b[1;33m\u001b[0m\u001b[0m\n\u001b[0m\u001b[0;32m    186\u001b[0m \u001b[1;33m\u001b[0m\u001b[0m\n\u001b[0;32m    187\u001b[0m     \u001b[1;32mif\u001b[0m \u001b[0mfeature_names\u001b[0m \u001b[1;32mis\u001b[0m \u001b[1;32mNone\u001b[0m \u001b[1;32mand\u001b[0m \u001b[0mmeta\u001b[0m \u001b[1;32mis\u001b[0m \u001b[1;32mNone\u001b[0m\u001b[1;33m:\u001b[0m\u001b[1;33m\u001b[0m\u001b[1;33m\u001b[0m\u001b[0m\n",
      "\u001b[1;31mValueError\u001b[0m: DataFrame.dtypes for data must be int, float or bool.\n                Did not expect the data types in fields CONTRAGENT, ARTICLE_GROUP"
     ]
    }
   ],
   "source": [
    "kfold = KFold(n_splits=10, shuffle=True)\n",
    "grid_search = GridSearchCV(xgbr, param_grid, scoring='neg_mean_squared_error', n_jobs=-1, cv=kfold, verbose=1)\n",
    "result = grid_search.fit(xtrain, ytrain)\n"
   ]
  },
  {
   "cell_type": "code",
   "execution_count": null,
   "metadata": {},
   "outputs": [],
   "source": [
    "print(\"Best: %f using %s\" % (result.best_score_, result.best_params_))"
   ]
  },
  {
   "cell_type": "code",
   "execution_count": 136,
   "metadata": {},
   "outputs": [
    {
     "data": {
      "text/plain": [
       "XGBRegressor(base_score=0.5, booster='gbtree', colsample_bylevel=1,\n",
       "             colsample_bynode=1, colsample_bytree=1, gamma=0, gpu_id=-1,\n",
       "             importance_type='gain', interaction_constraints='',\n",
       "             learning_rate=0.300000012, max_delta_step=0, max_depth=2,\n",
       "             min_child_weight=1, missing=nan, monotone_constraints='()',\n",
       "             n_estimators=50, n_jobs=0, num_parallel_tree=1, random_state=0,\n",
       "             reg_alpha=0, reg_lambda=1, scale_pos_weight=1, subsample=1,\n",
       "             tree_method='exact', validate_parameters=1, verbosity=None)"
      ]
     },
     "execution_count": 136,
     "metadata": {},
     "output_type": "execute_result"
    }
   ],
   "source": [
    "xgbr = xgb.XGBRegressor(max_depth=2,n_estimators=50) \n",
    "xgbr.fit(xtrain, ytrain)\n"
   ]
  },
  {
   "cell_type": "code",
   "execution_count": 137,
   "metadata": {},
   "outputs": [
    {
     "data": {
      "image/png": "[encoded data removed]",
      "text/plain": [
       "<Figure size 1440x720 with 1 Axes>"
      ]
     },
     "metadata": {
      "needs_background": "light"
     },
     "output_type": "display_data"
    }
   ],
   "source": [
    "from xgboost import plot_importance, plot_tree\n",
    "_ = plot_importance(xgbr, height=0.9)"
   ]
  },
  {
   "cell_type": "code",
   "execution_count": 138,
   "metadata": {},
   "outputs": [
    {
     "name": "stderr",
     "output_type": "stream",
     "text": [
      "e:\\ProgramData\\Anaconda3\\lib\\site-packages\\ipykernel_launcher.py:6: RuntimeWarning: divide by zero encountered in true_divide\n",
      "  \n"
     ]
    }
   ],
   "source": [
    "from sklearn.metrics import mean_squared_error\n",
    "\n",
    "def mean_absolute_percentage_error(y_true, y_pred): \n",
    "    \"\"\"Calculates MAPE given y_true and y_pred\"\"\"\n",
    "    y_true, y_pred = np.array(y_true), np.array(y_pred)\n",
    "    return np.mean(np.abs((y_true - y_pred) / y_true)) * 100\n",
    "\n",
    "ypred = xgbr.predict(xtest)\n",
    "mse = mean_squared_error(ytest, ypred)\n",
    "metr=metric(ytest, ypred)\n",
    "mape=mean_absolute_percentage_error(ytest, ypred)\n",
    "#print(\"Training score: \", score)"
   ]
  },
  {
   "cell_type": "code",
   "execution_count": 139,
   "metadata": {},
   "outputs": [
    {
     "data": {
      "text/plain": [
       "(476317843.4629175, inf, 110.38530884023245)"
      ]
     },
     "execution_count": 139,
     "metadata": {},
     "output_type": "execute_result"
    }
   ],
   "source": [
    "mse, mape, metr"
   ]
  },
  {
   "cell_type": "markdown",
   "metadata": {},
   "source": [
    "# Попробуем ускорить это все"
   ]
  },
  {
   "cell_type": "code",
   "execution_count": 97,
   "metadata": {},
   "outputs": [
    {
     "data": {
      "text/html": [
       "<div>\n",
       "<style scoped>\n",
       "    .dataframe tbody tr th:only-of-type {\n",
       "        vertical-align: middle;\n",
       "    }\n",
       "\n",
       "    .dataframe tbody tr th {\n",
       "        vertical-align: top;\n",
       "    }\n",
       "\n",
       "    .dataframe thead th {\n",
       "        text-align: right;\n",
       "    }\n",
       "</style>\n",
       "<table border=\"1\" class=\"dataframe\">\n",
       "  <thead>\n",
       "    <tr style=\"text-align: right;\">\n",
       "      <th></th>\n",
       "      <th>YEAR</th>\n",
       "      <th>MONTH</th>\n",
       "      <th>CONTRAGENT</th>\n",
       "      <th>ARTICLE_CODE</th>\n",
       "      <th>ARTICLE_NAME</th>\n",
       "      <th>ARTICLE_GROUP</th>\n",
       "      <th>SALES</th>\n",
       "      <th>STORE_SALES</th>\n",
       "      <th>(WINE,)</th>\n",
       "      <th>(LIQUOR,)</th>\n",
       "      <th>...</th>\n",
       "      <th>(CHARLES JACQUIN ET CIE INC,)</th>\n",
       "      <th>(THE SANDY BOTTOM ENTERPRISES LLC,)</th>\n",
       "      <th>(SMITH-ANDERSON ENTERPRISES INC,)</th>\n",
       "      <th>(VINIFERA DISTRIBUTING OF MARYLAND INC,)</th>\n",
       "      <th>(PAMPA BEVERAGES LLC DBA TRANSNATIONAL SU,)</th>\n",
       "      <th>(DCD ENTERPRISES LLC,)</th>\n",
       "      <th>(BULLSHINE DISTILLERY LLC,)</th>\n",
       "      <th>(CASA CHIRICO LLC,)</th>\n",
       "      <th>(FREELANCE WINES LLC,)</th>\n",
       "      <th>(BLACK ANKLE VINEYARDS LLC,)</th>\n",
       "    </tr>\n",
       "  </thead>\n",
       "  <tbody>\n",
       "    <tr>\n",
       "      <th>0</th>\n",
       "      <td>2017.0</td>\n",
       "      <td>4.0</td>\n",
       "      <td>ROYAL WINE CORP</td>\n",
       "      <td>100200</td>\n",
       "      <td>GAMLA CAB - 750ML</td>\n",
       "      <td>WINE</td>\n",
       "      <td>0.0</td>\n",
       "      <td>0.0</td>\n",
       "      <td>0.0</td>\n",
       "      <td>0.0</td>\n",
       "      <td>...</td>\n",
       "      <td>0.0</td>\n",
       "      <td>0.0</td>\n",
       "      <td>0.0</td>\n",
       "      <td>0.0</td>\n",
       "      <td>0.0</td>\n",
       "      <td>0.0</td>\n",
       "      <td>0.0</td>\n",
       "      <td>0.0</td>\n",
       "      <td>0.0</td>\n",
       "      <td>0.0</td>\n",
       "    </tr>\n",
       "    <tr>\n",
       "      <th>1</th>\n",
       "      <td>2017.0</td>\n",
       "      <td>4.0</td>\n",
       "      <td>SANTA MARGHERITA USA INC</td>\n",
       "      <td>100749</td>\n",
       "      <td>SANTA MARGHERITA P/GRIG ALTO - 375ML</td>\n",
       "      <td>WINE</td>\n",
       "      <td>0.0</td>\n",
       "      <td>0.0</td>\n",
       "      <td>0.0</td>\n",
       "      <td>0.0</td>\n",
       "      <td>...</td>\n",
       "      <td>0.0</td>\n",
       "      <td>0.0</td>\n",
       "      <td>0.0</td>\n",
       "      <td>0.0</td>\n",
       "      <td>0.0</td>\n",
       "      <td>0.0</td>\n",
       "      <td>0.0</td>\n",
       "      <td>0.0</td>\n",
       "      <td>0.0</td>\n",
       "      <td>0.0</td>\n",
       "    </tr>\n",
       "    <tr>\n",
       "      <th>2</th>\n",
       "      <td>2017.0</td>\n",
       "      <td>4.0</td>\n",
       "      <td>JIM BEAM BRANDS CO</td>\n",
       "      <td>10103</td>\n",
       "      <td>KNOB CREEK BOURBON 9YR - 100P - 375ML</td>\n",
       "      <td>LIQUOR</td>\n",
       "      <td>0.0</td>\n",
       "      <td>0.0</td>\n",
       "      <td>0.0</td>\n",
       "      <td>0.0</td>\n",
       "      <td>...</td>\n",
       "      <td>0.0</td>\n",
       "      <td>0.0</td>\n",
       "      <td>0.0</td>\n",
       "      <td>0.0</td>\n",
       "      <td>0.0</td>\n",
       "      <td>0.0</td>\n",
       "      <td>0.0</td>\n",
       "      <td>0.0</td>\n",
       "      <td>0.0</td>\n",
       "      <td>0.0</td>\n",
       "    </tr>\n",
       "    <tr>\n",
       "      <th>3</th>\n",
       "      <td>2017.0</td>\n",
       "      <td>4.0</td>\n",
       "      <td>HEAVEN HILL DISTILLERIES INC</td>\n",
       "      <td>10120</td>\n",
       "      <td>J W DANT BOURBON 100P - 1.75L</td>\n",
       "      <td>LIQUOR</td>\n",
       "      <td>0.0</td>\n",
       "      <td>0.0</td>\n",
       "      <td>0.0</td>\n",
       "      <td>0.0</td>\n",
       "      <td>...</td>\n",
       "      <td>0.0</td>\n",
       "      <td>0.0</td>\n",
       "      <td>0.0</td>\n",
       "      <td>0.0</td>\n",
       "      <td>0.0</td>\n",
       "      <td>0.0</td>\n",
       "      <td>0.0</td>\n",
       "      <td>0.0</td>\n",
       "      <td>0.0</td>\n",
       "      <td>0.0</td>\n",
       "    </tr>\n",
       "    <tr>\n",
       "      <th>4</th>\n",
       "      <td>2017.0</td>\n",
       "      <td>4.0</td>\n",
       "      <td>ROYAL WINE CORP</td>\n",
       "      <td>101664</td>\n",
       "      <td>RAMON CORDOVA RIOJA - 750ML</td>\n",
       "      <td>WINE</td>\n",
       "      <td>0.0</td>\n",
       "      <td>0.0</td>\n",
       "      <td>0.0</td>\n",
       "      <td>0.0</td>\n",
       "      <td>...</td>\n",
       "      <td>0.0</td>\n",
       "      <td>0.0</td>\n",
       "      <td>0.0</td>\n",
       "      <td>0.0</td>\n",
       "      <td>0.0</td>\n",
       "      <td>0.0</td>\n",
       "      <td>0.0</td>\n",
       "      <td>0.0</td>\n",
       "      <td>0.0</td>\n",
       "      <td>0.0</td>\n",
       "    </tr>\n",
       "  </tbody>\n",
       "</table>\n",
       "<p>5 rows × 349 columns</p>\n",
       "</div>"
      ],
      "text/plain": [
       "     YEAR  MONTH                    CONTRAGENT ARTICLE_CODE  \\\n",
       "0  2017.0    4.0               ROYAL WINE CORP       100200   \n",
       "1  2017.0    4.0      SANTA MARGHERITA USA INC       100749   \n",
       "2  2017.0    4.0            JIM BEAM BRANDS CO        10103   \n",
       "3  2017.0    4.0  HEAVEN HILL DISTILLERIES INC        10120   \n",
       "4  2017.0    4.0               ROYAL WINE CORP       101664   \n",
       "\n",
       "                            ARTICLE_NAME ARTICLE_GROUP  SALES  STORE_SALES  \\\n",
       "0                      GAMLA CAB - 750ML          WINE    0.0          0.0   \n",
       "1   SANTA MARGHERITA P/GRIG ALTO - 375ML          WINE    0.0          0.0   \n",
       "2  KNOB CREEK BOURBON 9YR - 100P - 375ML        LIQUOR    0.0          0.0   \n",
       "3          J W DANT BOURBON 100P - 1.75L        LIQUOR    0.0          0.0   \n",
       "4            RAMON CORDOVA RIOJA - 750ML          WINE    0.0          0.0   \n",
       "\n",
       "   (WINE,)  (LIQUOR,)  ...  (CHARLES JACQUIN ET CIE INC,)  \\\n",
       "0      0.0        0.0  ...                            0.0   \n",
       "1      0.0        0.0  ...                            0.0   \n",
       "2      0.0        0.0  ...                            0.0   \n",
       "3      0.0        0.0  ...                            0.0   \n",
       "4      0.0        0.0  ...                            0.0   \n",
       "\n",
       "   (THE SANDY BOTTOM ENTERPRISES LLC,)  (SMITH-ANDERSON ENTERPRISES INC,)  \\\n",
       "0                                  0.0                                0.0   \n",
       "1                                  0.0                                0.0   \n",
       "2                                  0.0                                0.0   \n",
       "3                                  0.0                                0.0   \n",
       "4                                  0.0                                0.0   \n",
       "\n",
       "   (VINIFERA DISTRIBUTING OF MARYLAND INC,)  \\\n",
       "0                                       0.0   \n",
       "1                                       0.0   \n",
       "2                                       0.0   \n",
       "3                                       0.0   \n",
       "4                                       0.0   \n",
       "\n",
       "   (PAMPA BEVERAGES LLC DBA TRANSNATIONAL SU,)  (DCD ENTERPRISES LLC,)  \\\n",
       "0                                          0.0                     0.0   \n",
       "1                                          0.0                     0.0   \n",
       "2                                          0.0                     0.0   \n",
       "3                                          0.0                     0.0   \n",
       "4                                          0.0                     0.0   \n",
       "\n",
       "   (BULLSHINE DISTILLERY LLC,)  (CASA CHIRICO LLC,)  (FREELANCE WINES LLC,)  \\\n",
       "0                          0.0                  0.0                     0.0   \n",
       "1                          0.0                  0.0                     0.0   \n",
       "2                          0.0                  0.0                     0.0   \n",
       "3                          0.0                  0.0                     0.0   \n",
       "4                          0.0                  0.0                     0.0   \n",
       "\n",
       "   (BLACK ANKLE VINEYARDS LLC,)  \n",
       "0                           0.0  \n",
       "1                           0.0  \n",
       "2                           0.0  \n",
       "3                           0.0  \n",
       "4                           0.0  \n",
       "\n",
       "[5 rows x 349 columns]"
      ]
     },
     "execution_count": 97,
     "metadata": {},
     "output_type": "execute_result"
    }
   ],
   "source": [
    "df.head()"
   ]
  },
  {
   "cell_type": "code",
   "execution_count": 115,
   "metadata": {},
   "outputs": [],
   "source": [
    "from catboost import Pool, CatBoostRegressor\n",
    "import catboost as cb\n",
    "\n",
    "cbb = cb.CatBoostRegressor(eval_metric=\"MAPE\", depth=10, iterations= 500, l2_leaf_reg= 9, learning_rate= 0.15,\n",
    "                          cat_features=['CONTRAGENT', 'ARTICLE_GROUP'])\n",
    "#clf = cbb()\n",
    "#cbb.fit(df[['YEAR', 'MONTH', 'CONTRAGENT', 'ARTICLE_GROUP', 'STORE_SALES']],df['SALES'])\n",
    "clf=cb.CatBoostRegressor(cat_features=['CONTRAGENT', 'ARTICLE_GROUP'])"
   ]
  },
  {
   "cell_type": "code",
   "execution_count": 140,
   "metadata": {
    "scrolled": true
   },
   "outputs": [
    {
     "name": "stdout",
     "output_type": "stream",
     "text": [
      "0:\tlearn: 2360.1810398\ttotal: 103ms\tremaining: 51.6s\n",
      "1:\tlearn: 2208.0510636\ttotal: 201ms\tremaining: 50.1s\n",
      "2:\tlearn: 2066.4279858\ttotal: 288ms\tremaining: 47.7s\n",
      "3:\tlearn: 1941.6936137\ttotal: 378ms\tremaining: 46.9s\n",
      "4:\tlearn: 1847.3468545\ttotal: 481ms\tremaining: 47.7s\n",
      "5:\tlearn: 1775.1816129\ttotal: 535ms\tremaining: 44.1s\n",
      "6:\tlearn: 1702.7504600\ttotal: 628ms\tremaining: 44.2s\n",
      "7:\tlearn: 1626.4387170\ttotal: 693ms\tremaining: 42.6s\n",
      "8:\tlearn: 1560.7638620\ttotal: 770ms\tremaining: 42s\n",
      "9:\tlearn: 1501.2692470\ttotal: 831ms\tremaining: 40.7s\n",
      "10:\tlearn: 1406.3349585\ttotal: 875ms\tremaining: 38.9s\n",
      "11:\tlearn: 1315.6078272\ttotal: 951ms\tremaining: 38.7s\n",
      "12:\tlearn: 1237.4703532\ttotal: 1.02s\tremaining: 38.2s\n",
      "13:\tlearn: 1180.4753271\ttotal: 1.09s\tremaining: 37.7s\n",
      "14:\tlearn: 1129.1580014\ttotal: 1.17s\tremaining: 37.7s\n",
      "15:\tlearn: 1089.1930673\ttotal: 1.24s\tremaining: 37.5s\n",
      "16:\tlearn: 1050.7096106\ttotal: 1.31s\tremaining: 37.2s\n",
      "17:\tlearn: 1012.9008670\ttotal: 1.38s\tremaining: 36.9s\n",
      "18:\tlearn: 988.7304983\ttotal: 1.44s\tremaining: 36.6s\n",
      "19:\tlearn: 967.9481511\ttotal: 1.49s\tremaining: 35.9s\n",
      "20:\tlearn: 949.8481596\ttotal: 1.53s\tremaining: 34.9s\n",
      "21:\tlearn: 931.8688067\ttotal: 1.61s\tremaining: 35s\n",
      "22:\tlearn: 920.4978895\ttotal: 1.66s\tremaining: 34.5s\n",
      "23:\tlearn: 913.8692120\ttotal: 1.75s\tremaining: 34.6s\n",
      "24:\tlearn: 909.7612545\ttotal: 1.83s\tremaining: 34.7s\n",
      "25:\tlearn: 902.3196823\ttotal: 1.91s\tremaining: 34.7s\n",
      "26:\tlearn: 898.9842705\ttotal: 1.96s\tremaining: 34.3s\n",
      "27:\tlearn: 896.8790334\ttotal: 1.99s\tremaining: 33.6s\n",
      "28:\tlearn: 891.7699968\ttotal: 2.1s\tremaining: 34.1s\n",
      "29:\tlearn: 890.8411018\ttotal: 2.18s\tremaining: 34.1s\n",
      "30:\tlearn: 889.9717602\ttotal: 2.26s\tremaining: 34.2s\n",
      "31:\tlearn: 885.4474531\ttotal: 2.31s\tremaining: 33.7s\n",
      "32:\tlearn: 884.7226564\ttotal: 2.38s\tremaining: 33.7s\n",
      "33:\tlearn: 884.3620414\ttotal: 2.42s\tremaining: 33.2s\n",
      "34:\tlearn: 871.6128957\ttotal: 2.5s\tremaining: 33.3s\n",
      "35:\tlearn: 870.6465444\ttotal: 2.58s\tremaining: 33.2s\n",
      "36:\tlearn: 869.8860156\ttotal: 2.63s\tremaining: 32.9s\n",
      "37:\tlearn: 860.5292591\ttotal: 2.7s\tremaining: 32.9s\n",
      "38:\tlearn: 861.2466705\ttotal: 2.78s\tremaining: 32.8s\n",
      "39:\tlearn: 856.6265771\ttotal: 2.86s\tremaining: 32.8s\n",
      "40:\tlearn: 855.6496921\ttotal: 2.89s\tremaining: 32.3s\n",
      "41:\tlearn: 855.4869820\ttotal: 2.91s\tremaining: 31.8s\n",
      "42:\tlearn: 854.8538971\ttotal: 2.97s\tremaining: 31.5s\n",
      "43:\tlearn: 856.1733118\ttotal: 3.03s\tremaining: 31.4s\n",
      "44:\tlearn: 855.6003817\ttotal: 3.11s\tremaining: 31.4s\n",
      "45:\tlearn: 855.7713203\ttotal: 3.14s\tremaining: 31s\n",
      "46:\tlearn: 847.1348122\ttotal: 3.23s\tremaining: 31.1s\n",
      "47:\tlearn: 847.1875177\ttotal: 3.24s\tremaining: 30.5s\n",
      "48:\tlearn: 844.4831985\ttotal: 3.31s\tremaining: 30.5s\n",
      "49:\tlearn: 844.6548518\ttotal: 3.34s\tremaining: 30s\n",
      "50:\tlearn: 844.5501978\ttotal: 3.39s\tremaining: 29.9s\n",
      "51:\tlearn: 841.1641140\ttotal: 3.47s\tremaining: 29.9s\n",
      "52:\tlearn: 836.1125871\ttotal: 3.52s\tremaining: 29.7s\n",
      "53:\tlearn: 836.3922392\ttotal: 3.58s\tremaining: 29.6s\n",
      "54:\tlearn: 826.8019406\ttotal: 3.64s\tremaining: 29.5s\n",
      "55:\tlearn: 827.3943204\ttotal: 3.7s\tremaining: 29.4s\n",
      "56:\tlearn: 826.8464004\ttotal: 3.78s\tremaining: 29.4s\n",
      "57:\tlearn: 827.4383199\ttotal: 3.84s\tremaining: 29.2s\n",
      "58:\tlearn: 827.2858968\ttotal: 3.87s\tremaining: 28.9s\n",
      "59:\tlearn: 826.7221089\ttotal: 3.94s\tremaining: 28.9s\n",
      "60:\tlearn: 826.5357554\ttotal: 4s\tremaining: 28.8s\n",
      "61:\tlearn: 827.0612997\ttotal: 4.05s\tremaining: 28.6s\n",
      "62:\tlearn: 826.0583739\ttotal: 4.11s\tremaining: 28.5s\n",
      "63:\tlearn: 825.2580221\ttotal: 4.17s\tremaining: 28.4s\n",
      "64:\tlearn: 825.5172265\ttotal: 4.21s\tremaining: 28.2s\n",
      "65:\tlearn: 825.0794458\ttotal: 4.24s\tremaining: 27.9s\n",
      "66:\tlearn: 825.8644912\ttotal: 4.28s\tremaining: 27.6s\n",
      "67:\tlearn: 823.7502345\ttotal: 4.36s\tremaining: 27.7s\n",
      "68:\tlearn: 823.2268946\ttotal: 4.4s\tremaining: 27.5s\n",
      "69:\tlearn: 820.7713983\ttotal: 4.47s\tremaining: 27.5s\n",
      "70:\tlearn: 820.5931207\ttotal: 4.52s\tremaining: 27.3s\n",
      "71:\tlearn: 820.8606971\ttotal: 4.55s\tremaining: 27.1s\n",
      "72:\tlearn: 818.8816638\ttotal: 4.61s\tremaining: 27s\n",
      "73:\tlearn: 819.7531572\ttotal: 4.68s\tremaining: 27s\n",
      "74:\tlearn: 820.2579790\ttotal: 4.73s\tremaining: 26.8s\n",
      "75:\tlearn: 816.4658031\ttotal: 4.8s\tremaining: 26.8s\n",
      "76:\tlearn: 816.0468519\ttotal: 4.87s\tremaining: 26.7s\n",
      "77:\tlearn: 814.2656075\ttotal: 4.95s\tremaining: 26.8s\n",
      "78:\tlearn: 812.2968437\ttotal: 5.01s\tremaining: 26.7s\n",
      "79:\tlearn: 811.7852730\ttotal: 5.09s\tremaining: 26.7s\n",
      "80:\tlearn: 811.5660705\ttotal: 5.15s\tremaining: 26.6s\n",
      "81:\tlearn: 811.8482451\ttotal: 5.19s\tremaining: 26.5s\n",
      "82:\tlearn: 810.1905645\ttotal: 5.27s\tremaining: 26.5s\n",
      "83:\tlearn: 809.8890953\ttotal: 5.34s\tremaining: 26.5s\n",
      "84:\tlearn: 809.8912081\ttotal: 5.42s\tremaining: 26.5s\n",
      "85:\tlearn: 809.7297031\ttotal: 5.47s\tremaining: 26.3s\n",
      "86:\tlearn: 808.1670453\ttotal: 5.54s\tremaining: 26.3s\n",
      "87:\tlearn: 806.7826202\ttotal: 5.59s\tremaining: 26.2s\n",
      "88:\tlearn: 804.0263596\ttotal: 5.66s\tremaining: 26.1s\n",
      "89:\tlearn: 803.6930099\ttotal: 5.72s\tremaining: 26.1s\n",
      "90:\tlearn: 804.0535858\ttotal: 5.78s\tremaining: 26s\n",
      "91:\tlearn: 802.9134974\ttotal: 5.85s\tremaining: 26s\n",
      "92:\tlearn: 803.3419100\ttotal: 5.9s\tremaining: 25.8s\n",
      "93:\tlearn: 798.1600116\ttotal: 5.96s\tremaining: 25.8s\n",
      "94:\tlearn: 798.2545665\ttotal: 6.04s\tremaining: 25.7s\n",
      "95:\tlearn: 798.4452955\ttotal: 6.06s\tremaining: 25.5s\n",
      "96:\tlearn: 798.7944456\ttotal: 6.1s\tremaining: 25.4s\n",
      "97:\tlearn: 798.1134012\ttotal: 6.19s\tremaining: 25.4s\n",
      "98:\tlearn: 797.9543219\ttotal: 6.26s\tremaining: 25.4s\n",
      "99:\tlearn: 795.9260791\ttotal: 6.3s\tremaining: 25.2s\n",
      "100:\tlearn: 794.7451349\ttotal: 6.38s\tremaining: 25.2s\n",
      "101:\tlearn: 794.8184238\ttotal: 6.43s\tremaining: 25.1s\n",
      "102:\tlearn: 791.0576042\ttotal: 6.5s\tremaining: 25s\n",
      "103:\tlearn: 789.2299932\ttotal: 6.55s\tremaining: 24.9s\n",
      "104:\tlearn: 789.0197330\ttotal: 6.63s\tremaining: 24.9s\n",
      "105:\tlearn: 788.6699461\ttotal: 6.68s\tremaining: 24.8s\n",
      "106:\tlearn: 788.3827546\ttotal: 6.71s\tremaining: 24.6s\n",
      "107:\tlearn: 788.6110441\ttotal: 6.8s\tremaining: 24.7s\n",
      "108:\tlearn: 788.3935254\ttotal: 6.84s\tremaining: 24.6s\n",
      "109:\tlearn: 788.6151880\ttotal: 6.93s\tremaining: 24.6s\n",
      "110:\tlearn: 787.4509763\ttotal: 7.01s\tremaining: 24.6s\n",
      "111:\tlearn: 787.1720083\ttotal: 7.06s\tremaining: 24.4s\n",
      "112:\tlearn: 785.4790685\ttotal: 7.13s\tremaining: 24.4s\n",
      "113:\tlearn: 785.3616677\ttotal: 7.21s\tremaining: 24.4s\n",
      "114:\tlearn: 780.7902254\ttotal: 7.27s\tremaining: 24.3s\n",
      "115:\tlearn: 780.6483780\ttotal: 7.33s\tremaining: 24.3s\n",
      "116:\tlearn: 779.8173546\ttotal: 7.4s\tremaining: 24.2s\n",
      "117:\tlearn: 779.7215446\ttotal: 7.43s\tremaining: 24.1s\n",
      "118:\tlearn: 779.1577362\ttotal: 7.5s\tremaining: 24s\n",
      "119:\tlearn: 779.1720029\ttotal: 7.52s\tremaining: 23.8s\n",
      "120:\tlearn: 778.6624837\ttotal: 7.61s\tremaining: 23.8s\n",
      "121:\tlearn: 778.6585543\ttotal: 7.64s\tremaining: 23.7s\n",
      "122:\tlearn: 777.9156060\ttotal: 7.73s\tremaining: 23.7s\n",
      "123:\tlearn: 778.2490977\ttotal: 7.81s\tremaining: 23.7s\n",
      "124:\tlearn: 773.7858178\ttotal: 7.87s\tremaining: 23.6s\n",
      "125:\tlearn: 773.7631699\ttotal: 7.96s\tremaining: 23.6s\n",
      "126:\tlearn: 773.1140388\ttotal: 7.98s\tremaining: 23.4s\n",
      "127:\tlearn: 773.1300134\ttotal: 8.01s\tremaining: 23.3s\n",
      "128:\tlearn: 772.5553583\ttotal: 8.04s\tremaining: 23.1s\n",
      "129:\tlearn: 772.0448570\ttotal: 8.07s\tremaining: 23s\n",
      "130:\tlearn: 771.6608103\ttotal: 8.1s\tremaining: 22.8s\n",
      "131:\tlearn: 771.7556355\ttotal: 8.12s\tremaining: 22.6s\n",
      "132:\tlearn: 771.9449201\ttotal: 8.15s\tremaining: 22.5s\n",
      "133:\tlearn: 772.0153192\ttotal: 8.18s\tremaining: 22.3s\n",
      "134:\tlearn: 759.5390684\ttotal: 8.28s\tremaining: 22.4s\n",
      "135:\tlearn: 756.9088343\ttotal: 8.35s\tremaining: 22.3s\n",
      "136:\tlearn: 757.2914651\ttotal: 8.38s\tremaining: 22.2s\n",
      "137:\tlearn: 757.7134704\ttotal: 8.42s\tremaining: 22.1s\n",
      "138:\tlearn: 754.2936315\ttotal: 8.47s\tremaining: 22s\n",
      "139:\tlearn: 754.5979009\ttotal: 8.5s\tremaining: 21.9s\n",
      "140:\tlearn: 754.2182347\ttotal: 8.53s\tremaining: 21.7s\n",
      "141:\tlearn: 754.3816725\ttotal: 8.59s\tremaining: 21.7s\n",
      "142:\tlearn: 754.6463299\ttotal: 8.62s\tremaining: 21.5s\n",
      "143:\tlearn: 754.7778218\ttotal: 8.65s\tremaining: 21.4s\n",
      "144:\tlearn: 754.1224254\ttotal: 8.73s\tremaining: 21.4s\n",
      "145:\tlearn: 754.0659944\ttotal: 8.82s\tremaining: 21.4s\n",
      "146:\tlearn: 753.9642676\ttotal: 8.91s\tremaining: 21.4s\n",
      "147:\tlearn: 753.6340262\ttotal: 8.95s\tremaining: 21.3s\n",
      "148:\tlearn: 754.0195141\ttotal: 9.04s\tremaining: 21.3s\n",
      "149:\tlearn: 754.1504893\ttotal: 9.11s\tremaining: 21.3s\n",
      "150:\tlearn: 753.2203131\ttotal: 9.17s\tremaining: 21.2s\n",
      "151:\tlearn: 752.9662399\ttotal: 9.2s\tremaining: 21.1s\n",
      "152:\tlearn: 752.0672406\ttotal: 9.28s\tremaining: 21s\n",
      "153:\tlearn: 735.3645344\ttotal: 9.34s\tremaining: 21s\n",
      "154:\tlearn: 735.2780344\ttotal: 9.42s\tremaining: 21s\n",
      "155:\tlearn: 735.2112883\ttotal: 9.51s\tremaining: 21s\n",
      "156:\tlearn: 734.8203332\ttotal: 9.55s\tremaining: 20.9s\n",
      "157:\tlearn: 734.9318948\ttotal: 9.61s\tremaining: 20.8s\n"
     ]
    },
    {
     "name": "stdout",
     "output_type": "stream",
     "text": [
      "158:\tlearn: 734.6531746\ttotal: 9.64s\tremaining: 20.7s\n",
      "159:\tlearn: 732.4257251\ttotal: 9.7s\tremaining: 20.6s\n",
      "160:\tlearn: 732.7003965\ttotal: 9.76s\tremaining: 20.6s\n",
      "161:\tlearn: 732.4709230\ttotal: 9.8s\tremaining: 20.4s\n",
      "162:\tlearn: 732.2824259\ttotal: 9.82s\tremaining: 20.3s\n",
      "163:\tlearn: 730.4829261\ttotal: 9.9s\tremaining: 20.3s\n",
      "164:\tlearn: 730.2869193\ttotal: 9.95s\tremaining: 20.2s\n",
      "165:\tlearn: 730.6163721\ttotal: 9.98s\tremaining: 20.1s\n",
      "166:\tlearn: 730.9534597\ttotal: 10s\tremaining: 20s\n",
      "167:\tlearn: 729.8188959\ttotal: 10.1s\tremaining: 19.9s\n",
      "168:\tlearn: 729.5698254\ttotal: 10.1s\tremaining: 19.9s\n",
      "169:\tlearn: 729.5475843\ttotal: 10.2s\tremaining: 19.8s\n",
      "170:\tlearn: 728.8834142\ttotal: 10.3s\tremaining: 19.8s\n",
      "171:\tlearn: 728.6254668\ttotal: 10.3s\tremaining: 19.7s\n",
      "172:\tlearn: 728.7990553\ttotal: 10.4s\tremaining: 19.6s\n",
      "173:\tlearn: 728.7502167\ttotal: 10.4s\tremaining: 19.6s\n",
      "174:\tlearn: 728.5282802\ttotal: 10.5s\tremaining: 19.4s\n",
      "175:\tlearn: 726.7538979\ttotal: 10.5s\tremaining: 19.4s\n",
      "176:\tlearn: 726.5279052\ttotal: 10.6s\tremaining: 19.4s\n",
      "177:\tlearn: 726.6968445\ttotal: 10.7s\tremaining: 19.3s\n",
      "178:\tlearn: 726.0440117\ttotal: 10.7s\tremaining: 19.2s\n",
      "179:\tlearn: 716.6148423\ttotal: 10.8s\tremaining: 19.2s\n",
      "180:\tlearn: 716.6832281\ttotal: 10.8s\tremaining: 19.1s\n",
      "181:\tlearn: 716.6902332\ttotal: 10.9s\tremaining: 19s\n",
      "182:\tlearn: 716.6997338\ttotal: 10.9s\tremaining: 18.9s\n",
      "183:\tlearn: 714.9530093\ttotal: 11s\tremaining: 18.9s\n",
      "184:\tlearn: 714.9324481\ttotal: 11s\tremaining: 18.8s\n",
      "185:\tlearn: 715.3046989\ttotal: 11.1s\tremaining: 18.7s\n",
      "186:\tlearn: 714.8872795\ttotal: 11.2s\tremaining: 18.7s\n",
      "187:\tlearn: 714.7953589\ttotal: 11.2s\tremaining: 18.6s\n",
      "188:\tlearn: 715.0579764\ttotal: 11.3s\tremaining: 18.6s\n",
      "189:\tlearn: 714.7089546\ttotal: 11.4s\tremaining: 18.5s\n",
      "190:\tlearn: 714.9625736\ttotal: 11.4s\tremaining: 18.4s\n",
      "191:\tlearn: 715.1642724\ttotal: 11.4s\tremaining: 18.4s\n",
      "192:\tlearn: 715.3379507\ttotal: 11.5s\tremaining: 18.2s\n",
      "193:\tlearn: 715.4858267\ttotal: 11.5s\tremaining: 18.1s\n",
      "194:\tlearn: 715.3114449\ttotal: 11.6s\tremaining: 18.1s\n",
      "195:\tlearn: 713.3889277\ttotal: 11.7s\tremaining: 18.1s\n",
      "196:\tlearn: 713.0216458\ttotal: 11.7s\tremaining: 18s\n",
      "197:\tlearn: 712.7694994\ttotal: 11.8s\tremaining: 18s\n",
      "198:\tlearn: 713.0220199\ttotal: 11.8s\tremaining: 17.9s\n",
      "199:\tlearn: 712.3454845\ttotal: 11.8s\tremaining: 17.8s\n",
      "200:\tlearn: 711.4230027\ttotal: 11.9s\tremaining: 17.8s\n",
      "201:\tlearn: 710.7402639\ttotal: 12s\tremaining: 17.7s\n",
      "202:\tlearn: 709.2653144\ttotal: 12.1s\tremaining: 17.7s\n",
      "203:\tlearn: 709.1413481\ttotal: 12.2s\tremaining: 17.7s\n",
      "204:\tlearn: 708.7365586\ttotal: 12.3s\tremaining: 17.6s\n",
      "205:\tlearn: 708.6045074\ttotal: 12.3s\tremaining: 17.6s\n",
      "206:\tlearn: 704.2780171\ttotal: 12.4s\tremaining: 17.6s\n",
      "207:\tlearn: 704.6381332\ttotal: 12.5s\tremaining: 17.5s\n",
      "208:\tlearn: 704.1365618\ttotal: 12.6s\tremaining: 17.5s\n",
      "209:\tlearn: 702.3180919\ttotal: 12.6s\tremaining: 17.5s\n",
      "210:\tlearn: 700.8268318\ttotal: 12.7s\tremaining: 17.4s\n",
      "211:\tlearn: 694.8900316\ttotal: 12.7s\tremaining: 17.3s\n",
      "212:\tlearn: 694.9793168\ttotal: 12.8s\tremaining: 17.2s\n",
      "213:\tlearn: 694.4939615\ttotal: 12.9s\tremaining: 17.2s\n",
      "214:\tlearn: 694.7349979\ttotal: 12.9s\tremaining: 17.1s\n",
      "215:\tlearn: 695.2234461\ttotal: 13s\tremaining: 17.1s\n",
      "216:\tlearn: 694.6037534\ttotal: 13.1s\tremaining: 17s\n",
      "217:\tlearn: 694.5209209\ttotal: 13.1s\tremaining: 17s\n",
      "218:\tlearn: 694.7997481\ttotal: 13.2s\tremaining: 16.9s\n",
      "219:\tlearn: 694.9780332\ttotal: 13.2s\tremaining: 16.8s\n",
      "220:\tlearn: 694.9172619\ttotal: 13.3s\tremaining: 16.8s\n",
      "221:\tlearn: 695.1108010\ttotal: 13.4s\tremaining: 16.7s\n",
      "222:\tlearn: 695.0642741\ttotal: 13.4s\tremaining: 16.6s\n",
      "223:\tlearn: 694.9643528\ttotal: 13.5s\tremaining: 16.6s\n",
      "224:\tlearn: 695.0367468\ttotal: 13.5s\tremaining: 16.5s\n",
      "225:\tlearn: 695.2172323\ttotal: 13.5s\tremaining: 16.4s\n",
      "226:\tlearn: 695.5033192\ttotal: 13.6s\tremaining: 16.3s\n",
      "227:\tlearn: 695.6016545\ttotal: 13.6s\tremaining: 16.2s\n",
      "228:\tlearn: 693.5007713\ttotal: 13.7s\tremaining: 16.2s\n",
      "229:\tlearn: 693.5610571\ttotal: 13.7s\tremaining: 16.1s\n",
      "230:\tlearn: 692.1165380\ttotal: 13.8s\tremaining: 16s\n",
      "231:\tlearn: 692.3058254\ttotal: 13.9s\tremaining: 16s\n",
      "232:\tlearn: 692.3007786\ttotal: 13.9s\tremaining: 15.9s\n",
      "233:\tlearn: 692.2191760\ttotal: 14s\tremaining: 15.9s\n",
      "234:\tlearn: 690.3489666\ttotal: 14.1s\tremaining: 15.9s\n",
      "235:\tlearn: 690.7383087\ttotal: 14.2s\tremaining: 15.9s\n",
      "236:\tlearn: 691.0720071\ttotal: 14.3s\tremaining: 15.8s\n",
      "237:\tlearn: 690.9700445\ttotal: 14.3s\tremaining: 15.8s\n",
      "238:\tlearn: 691.2582157\ttotal: 14.4s\tremaining: 15.7s\n",
      "239:\tlearn: 691.5036102\ttotal: 14.4s\tremaining: 15.6s\n",
      "240:\tlearn: 691.7129064\ttotal: 14.4s\tremaining: 15.5s\n",
      "241:\tlearn: 691.7314699\ttotal: 14.5s\tremaining: 15.4s\n",
      "242:\tlearn: 690.3764235\ttotal: 14.6s\tremaining: 15.4s\n",
      "243:\tlearn: 689.6080262\ttotal: 14.6s\tremaining: 15.4s\n",
      "244:\tlearn: 689.3348008\ttotal: 14.7s\tremaining: 15.3s\n",
      "245:\tlearn: 689.2151469\ttotal: 14.8s\tremaining: 15.3s\n",
      "246:\tlearn: 689.4912346\ttotal: 14.8s\tremaining: 15.2s\n",
      "247:\tlearn: 689.4008877\ttotal: 14.9s\tremaining: 15.1s\n",
      "248:\tlearn: 688.6092772\ttotal: 14.9s\tremaining: 15.1s\n",
      "249:\tlearn: 688.5993428\ttotal: 15s\tremaining: 15s\n",
      "250:\tlearn: 688.5464479\ttotal: 15.1s\tremaining: 14.9s\n",
      "251:\tlearn: 687.4828182\ttotal: 15.2s\tremaining: 14.9s\n",
      "252:\tlearn: 687.2966016\ttotal: 15.2s\tremaining: 14.9s\n",
      "253:\tlearn: 687.1464392\ttotal: 15.3s\tremaining: 14.8s\n",
      "254:\tlearn: 687.1812536\ttotal: 15.3s\tremaining: 14.7s\n",
      "255:\tlearn: 686.4210437\ttotal: 15.4s\tremaining: 14.7s\n",
      "256:\tlearn: 684.8849133\ttotal: 15.5s\tremaining: 14.6s\n",
      "257:\tlearn: 684.7926691\ttotal: 15.6s\tremaining: 14.6s\n",
      "258:\tlearn: 684.5972109\ttotal: 15.6s\tremaining: 14.5s\n",
      "259:\tlearn: 684.5415638\ttotal: 15.7s\tremaining: 14.5s\n",
      "260:\tlearn: 684.1743221\ttotal: 15.8s\tremaining: 14.4s\n",
      "261:\tlearn: 682.5306529\ttotal: 15.8s\tremaining: 14.4s\n",
      "262:\tlearn: 682.5023634\ttotal: 15.9s\tremaining: 14.3s\n",
      "263:\tlearn: 682.4812951\ttotal: 15.9s\tremaining: 14.2s\n",
      "264:\tlearn: 682.4658833\ttotal: 15.9s\tremaining: 14.1s\n",
      "265:\tlearn: 682.0803732\ttotal: 16s\tremaining: 14.1s\n",
      "266:\tlearn: 681.9108120\ttotal: 16s\tremaining: 14s\n",
      "267:\tlearn: 681.1600549\ttotal: 16.1s\tremaining: 13.9s\n",
      "268:\tlearn: 680.7430945\ttotal: 16.2s\tremaining: 13.9s\n",
      "269:\tlearn: 680.5847577\ttotal: 16.2s\tremaining: 13.8s\n",
      "270:\tlearn: 678.3893661\ttotal: 16.3s\tremaining: 13.7s\n",
      "271:\tlearn: 678.0071683\ttotal: 16.3s\tremaining: 13.7s\n",
      "272:\tlearn: 678.1476901\ttotal: 16.4s\tremaining: 13.7s\n",
      "273:\tlearn: 678.1287231\ttotal: 16.5s\tremaining: 13.6s\n",
      "274:\tlearn: 676.9347583\ttotal: 16.6s\tremaining: 13.6s\n",
      "275:\tlearn: 677.0703927\ttotal: 16.7s\tremaining: 13.6s\n",
      "276:\tlearn: 676.7988375\ttotal: 16.8s\tremaining: 13.5s\n",
      "277:\tlearn: 677.0780188\ttotal: 16.8s\tremaining: 13.5s\n",
      "278:\tlearn: 677.1320505\ttotal: 16.9s\tremaining: 13.4s\n",
      "279:\tlearn: 676.9208278\ttotal: 16.9s\tremaining: 13.3s\n",
      "280:\tlearn: 676.6460842\ttotal: 17s\tremaining: 13.3s\n",
      "281:\tlearn: 676.6825541\ttotal: 17.1s\tremaining: 13.2s\n",
      "282:\tlearn: 675.8639613\ttotal: 17.1s\tremaining: 13.1s\n",
      "283:\tlearn: 675.6613311\ttotal: 17.2s\tremaining: 13.1s\n",
      "284:\tlearn: 673.9435529\ttotal: 17.3s\tremaining: 13s\n",
      "285:\tlearn: 673.8565496\ttotal: 17.3s\tremaining: 13s\n",
      "286:\tlearn: 673.4809080\ttotal: 17.4s\tremaining: 12.9s\n",
      "287:\tlearn: 673.1535202\ttotal: 17.4s\tremaining: 12.8s\n",
      "288:\tlearn: 673.1662794\ttotal: 17.5s\tremaining: 12.8s\n",
      "289:\tlearn: 673.0747500\ttotal: 17.5s\tremaining: 12.7s\n",
      "290:\tlearn: 673.1443413\ttotal: 17.6s\tremaining: 12.7s\n",
      "291:\tlearn: 672.6699737\ttotal: 17.7s\tremaining: 12.6s\n",
      "292:\tlearn: 671.3888819\ttotal: 17.8s\tremaining: 12.6s\n",
      "293:\tlearn: 670.9925409\ttotal: 17.8s\tremaining: 12.5s\n",
      "294:\tlearn: 670.8640667\ttotal: 17.9s\tremaining: 12.5s\n",
      "295:\tlearn: 664.6030347\ttotal: 18s\tremaining: 12.4s\n",
      "296:\tlearn: 664.6192114\ttotal: 18.1s\tremaining: 12.3s\n",
      "297:\tlearn: 664.5225797\ttotal: 18.1s\tremaining: 12.3s\n",
      "298:\tlearn: 663.0806314\ttotal: 18.1s\tremaining: 12.2s\n",
      "299:\tlearn: 662.7364316\ttotal: 18.2s\tremaining: 12.2s\n",
      "300:\tlearn: 662.4748625\ttotal: 18.3s\tremaining: 12.1s\n",
      "301:\tlearn: 661.3679165\ttotal: 18.4s\tremaining: 12s\n",
      "302:\tlearn: 661.1784557\ttotal: 18.4s\tremaining: 12s\n",
      "303:\tlearn: 661.2845092\ttotal: 18.4s\tremaining: 11.9s\n",
      "304:\tlearn: 660.1639020\ttotal: 18.5s\tremaining: 11.8s\n",
      "305:\tlearn: 659.6690877\ttotal: 18.5s\tremaining: 11.8s\n",
      "306:\tlearn: 657.8892983\ttotal: 18.6s\tremaining: 11.7s\n",
      "307:\tlearn: 657.6855032\ttotal: 18.7s\tremaining: 11.6s\n",
      "308:\tlearn: 657.7768434\ttotal: 18.8s\tremaining: 11.6s\n",
      "309:\tlearn: 657.8647259\ttotal: 18.8s\tremaining: 11.5s\n",
      "310:\tlearn: 657.5352337\ttotal: 18.9s\tremaining: 11.5s\n",
      "311:\tlearn: 656.7545569\ttotal: 18.9s\tremaining: 11.4s\n"
     ]
    },
    {
     "name": "stdout",
     "output_type": "stream",
     "text": [
      "312:\tlearn: 656.5515820\ttotal: 19s\tremaining: 11.3s\n",
      "313:\tlearn: 656.5617255\ttotal: 19.1s\tremaining: 11.3s\n",
      "314:\tlearn: 656.3670566\ttotal: 19.1s\tremaining: 11.2s\n",
      "315:\tlearn: 654.6532738\ttotal: 19.2s\tremaining: 11.2s\n",
      "316:\tlearn: 654.9612745\ttotal: 19.3s\tremaining: 11.1s\n",
      "317:\tlearn: 655.0511295\ttotal: 19.3s\tremaining: 11.1s\n",
      "318:\tlearn: 654.5139029\ttotal: 19.4s\tremaining: 11s\n",
      "319:\tlearn: 654.7081550\ttotal: 19.4s\tremaining: 10.9s\n",
      "320:\tlearn: 654.7684858\ttotal: 19.5s\tremaining: 10.9s\n",
      "321:\tlearn: 654.9376028\ttotal: 19.5s\tremaining: 10.8s\n",
      "322:\tlearn: 654.6853422\ttotal: 19.6s\tremaining: 10.7s\n",
      "323:\tlearn: 654.8492006\ttotal: 19.6s\tremaining: 10.7s\n",
      "324:\tlearn: 654.9890852\ttotal: 19.6s\tremaining: 10.6s\n",
      "325:\tlearn: 654.7175536\ttotal: 19.7s\tremaining: 10.5s\n",
      "326:\tlearn: 650.3609701\ttotal: 19.8s\tremaining: 10.5s\n",
      "327:\tlearn: 650.2927097\ttotal: 19.8s\tremaining: 10.4s\n",
      "328:\tlearn: 650.2609387\ttotal: 19.9s\tremaining: 10.3s\n",
      "329:\tlearn: 650.0797107\ttotal: 20s\tremaining: 10.3s\n",
      "330:\tlearn: 650.0225007\ttotal: 20.1s\tremaining: 10.2s\n",
      "331:\tlearn: 649.5488732\ttotal: 20.1s\tremaining: 10.2s\n",
      "332:\tlearn: 649.1634633\ttotal: 20.2s\tremaining: 10.1s\n",
      "333:\tlearn: 648.2076469\ttotal: 20.3s\tremaining: 10.1s\n",
      "334:\tlearn: 648.2407929\ttotal: 20.4s\tremaining: 10s\n",
      "335:\tlearn: 648.0576934\ttotal: 20.4s\tremaining: 9.97s\n",
      "336:\tlearn: 647.2359553\ttotal: 20.5s\tremaining: 9.91s\n",
      "337:\tlearn: 647.1403061\ttotal: 20.6s\tremaining: 9.87s\n",
      "338:\tlearn: 646.3678257\ttotal: 20.7s\tremaining: 9.82s\n",
      "339:\tlearn: 646.2273166\ttotal: 20.8s\tremaining: 9.77s\n",
      "340:\tlearn: 645.8841670\ttotal: 20.8s\tremaining: 9.71s\n",
      "341:\tlearn: 645.7649259\ttotal: 20.9s\tremaining: 9.66s\n",
      "342:\tlearn: 645.5459545\ttotal: 20.9s\tremaining: 9.58s\n",
      "343:\tlearn: 643.7473744\ttotal: 21s\tremaining: 9.51s\n",
      "344:\tlearn: 643.6803581\ttotal: 21.1s\tremaining: 9.46s\n",
      "345:\tlearn: 643.0843883\ttotal: 21.1s\tremaining: 9.39s\n",
      "346:\tlearn: 642.6767967\ttotal: 21.2s\tremaining: 9.33s\n",
      "347:\tlearn: 642.0959978\ttotal: 21.2s\tremaining: 9.28s\n",
      "348:\tlearn: 641.5236938\ttotal: 21.3s\tremaining: 9.2s\n",
      "349:\tlearn: 641.1579544\ttotal: 21.3s\tremaining: 9.14s\n",
      "350:\tlearn: 640.8332877\ttotal: 21.4s\tremaining: 9.09s\n",
      "351:\tlearn: 640.7859653\ttotal: 21.5s\tremaining: 9.03s\n",
      "352:\tlearn: 640.7262189\ttotal: 21.6s\tremaining: 8.98s\n",
      "353:\tlearn: 640.7002064\ttotal: 21.6s\tremaining: 8.91s\n",
      "354:\tlearn: 640.6621048\ttotal: 21.6s\tremaining: 8.83s\n",
      "355:\tlearn: 640.4155275\ttotal: 21.7s\tremaining: 8.77s\n",
      "356:\tlearn: 640.4283742\ttotal: 21.7s\tremaining: 8.69s\n",
      "357:\tlearn: 640.0758614\ttotal: 21.7s\tremaining: 8.62s\n",
      "358:\tlearn: 639.9624440\ttotal: 21.8s\tremaining: 8.56s\n",
      "359:\tlearn: 639.7369090\ttotal: 21.9s\tremaining: 8.51s\n",
      "360:\tlearn: 638.4980188\ttotal: 21.9s\tremaining: 8.45s\n",
      "361:\tlearn: 638.0219324\ttotal: 22s\tremaining: 8.4s\n",
      "362:\tlearn: 638.0444237\ttotal: 22.1s\tremaining: 8.34s\n",
      "363:\tlearn: 637.6323574\ttotal: 22.2s\tremaining: 8.28s\n",
      "364:\tlearn: 637.3504695\ttotal: 22.2s\tremaining: 8.22s\n",
      "365:\tlearn: 637.2619714\ttotal: 22.3s\tremaining: 8.17s\n",
      "366:\tlearn: 637.8407307\ttotal: 22.4s\tremaining: 8.12s\n",
      "367:\tlearn: 637.6916376\ttotal: 22.5s\tremaining: 8.06s\n",
      "368:\tlearn: 637.6810494\ttotal: 22.5s\tremaining: 8s\n",
      "369:\tlearn: 637.6003886\ttotal: 22.6s\tremaining: 7.95s\n",
      "370:\tlearn: 637.0146290\ttotal: 22.7s\tremaining: 7.89s\n",
      "371:\tlearn: 636.9865226\ttotal: 22.8s\tremaining: 7.83s\n",
      "372:\tlearn: 635.0619361\ttotal: 22.8s\tremaining: 7.77s\n",
      "373:\tlearn: 634.6754373\ttotal: 22.9s\tremaining: 7.71s\n",
      "374:\tlearn: 634.6697446\ttotal: 23s\tremaining: 7.65s\n",
      "375:\tlearn: 634.8529497\ttotal: 23s\tremaining: 7.59s\n",
      "376:\tlearn: 634.1359613\ttotal: 23.1s\tremaining: 7.53s\n",
      "377:\tlearn: 633.8368456\ttotal: 23.1s\tremaining: 7.46s\n",
      "378:\tlearn: 633.9900758\ttotal: 23.2s\tremaining: 7.41s\n",
      "379:\tlearn: 634.1983658\ttotal: 23.3s\tremaining: 7.35s\n",
      "380:\tlearn: 634.1067773\ttotal: 23.3s\tremaining: 7.29s\n",
      "381:\tlearn: 634.2594259\ttotal: 23.4s\tremaining: 7.22s\n",
      "382:\tlearn: 633.9698819\ttotal: 23.4s\tremaining: 7.15s\n",
      "383:\tlearn: 633.9435221\ttotal: 23.4s\tremaining: 7.08s\n",
      "384:\tlearn: 634.1985313\ttotal: 23.5s\tremaining: 7.01s\n",
      "385:\tlearn: 633.8597573\ttotal: 23.5s\tremaining: 6.94s\n",
      "386:\tlearn: 633.2686515\ttotal: 23.6s\tremaining: 6.88s\n",
      "387:\tlearn: 633.3528542\ttotal: 23.7s\tremaining: 6.83s\n",
      "388:\tlearn: 633.5847282\ttotal: 23.8s\tremaining: 6.78s\n",
      "389:\tlearn: 633.3700562\ttotal: 23.9s\tremaining: 6.73s\n",
      "390:\tlearn: 633.2500456\ttotal: 24s\tremaining: 6.68s\n",
      "391:\tlearn: 633.4223732\ttotal: 24s\tremaining: 6.61s\n",
      "392:\tlearn: 633.5716689\ttotal: 24s\tremaining: 6.54s\n",
      "393:\tlearn: 633.2048978\ttotal: 24.1s\tremaining: 6.49s\n",
      "394:\tlearn: 633.3199390\ttotal: 24.1s\tremaining: 6.42s\n",
      "395:\tlearn: 632.6119041\ttotal: 24.2s\tremaining: 6.36s\n",
      "396:\tlearn: 632.7310095\ttotal: 24.2s\tremaining: 6.29s\n",
      "397:\tlearn: 632.7518441\ttotal: 24.3s\tremaining: 6.23s\n",
      "398:\tlearn: 632.8699533\ttotal: 24.3s\tremaining: 6.16s\n",
      "399:\tlearn: 632.9700792\ttotal: 24.4s\tremaining: 6.09s\n",
      "400:\tlearn: 633.0543676\ttotal: 24.4s\tremaining: 6.02s\n",
      "401:\tlearn: 632.9350149\ttotal: 24.5s\tremaining: 5.97s\n",
      "402:\tlearn: 633.0161408\ttotal: 24.5s\tremaining: 5.9s\n",
      "403:\tlearn: 633.0753886\ttotal: 24.6s\tremaining: 5.84s\n",
      "404:\tlearn: 633.1196255\ttotal: 24.6s\tremaining: 5.77s\n",
      "405:\tlearn: 632.9797566\ttotal: 24.7s\tremaining: 5.71s\n",
      "406:\tlearn: 632.8140367\ttotal: 24.7s\tremaining: 5.65s\n",
      "407:\tlearn: 632.8622581\ttotal: 24.8s\tremaining: 5.58s\n",
      "408:\tlearn: 632.9160388\ttotal: 24.8s\tremaining: 5.51s\n",
      "409:\tlearn: 632.8181267\ttotal: 24.8s\tremaining: 5.45s\n",
      "410:\tlearn: 632.7369839\ttotal: 24.8s\tremaining: 5.38s\n",
      "411:\tlearn: 632.5459180\ttotal: 24.9s\tremaining: 5.32s\n",
      "412:\tlearn: 632.4991773\ttotal: 24.9s\tremaining: 5.25s\n",
      "413:\tlearn: 631.3721429\ttotal: 25s\tremaining: 5.2s\n",
      "414:\tlearn: 631.3377992\ttotal: 25.1s\tremaining: 5.13s\n",
      "415:\tlearn: 631.3090183\ttotal: 25.1s\tremaining: 5.07s\n",
      "416:\tlearn: 631.1783859\ttotal: 25.2s\tremaining: 5.01s\n",
      "417:\tlearn: 631.1068765\ttotal: 25.2s\tremaining: 4.94s\n",
      "418:\tlearn: 631.2005332\ttotal: 25.2s\tremaining: 4.88s\n",
      "419:\tlearn: 631.3059986\ttotal: 25.3s\tremaining: 4.81s\n",
      "420:\tlearn: 631.3283231\ttotal: 25.3s\tremaining: 4.75s\n",
      "421:\tlearn: 631.3688032\ttotal: 25.4s\tremaining: 4.69s\n",
      "422:\tlearn: 631.4453692\ttotal: 25.4s\tremaining: 4.62s\n",
      "423:\tlearn: 631.2692267\ttotal: 25.5s\tremaining: 4.57s\n",
      "424:\tlearn: 631.5783294\ttotal: 25.5s\tremaining: 4.51s\n",
      "425:\tlearn: 631.5891855\ttotal: 25.6s\tremaining: 4.45s\n",
      "426:\tlearn: 631.5988178\ttotal: 25.7s\tremaining: 4.38s\n",
      "427:\tlearn: 631.5887672\ttotal: 25.7s\tremaining: 4.33s\n",
      "428:\tlearn: 631.6017589\ttotal: 25.8s\tremaining: 4.26s\n",
      "429:\tlearn: 631.6379159\ttotal: 25.8s\tremaining: 4.21s\n",
      "430:\tlearn: 631.4373127\ttotal: 25.9s\tremaining: 4.15s\n",
      "431:\tlearn: 630.9902545\ttotal: 26s\tremaining: 4.09s\n",
      "432:\tlearn: 630.4367808\ttotal: 26.1s\tremaining: 4.04s\n",
      "433:\tlearn: 630.5249378\ttotal: 26.1s\tremaining: 3.97s\n",
      "434:\tlearn: 630.6017680\ttotal: 26.2s\tremaining: 3.91s\n",
      "435:\tlearn: 630.4413258\ttotal: 26.2s\tremaining: 3.85s\n",
      "436:\tlearn: 630.4994947\ttotal: 26.3s\tremaining: 3.79s\n",
      "437:\tlearn: 630.5556946\ttotal: 26.3s\tremaining: 3.73s\n",
      "438:\tlearn: 630.1916365\ttotal: 26.4s\tremaining: 3.67s\n",
      "439:\tlearn: 630.0926076\ttotal: 26.5s\tremaining: 3.61s\n",
      "440:\tlearn: 630.1848894\ttotal: 26.5s\tremaining: 3.55s\n",
      "441:\tlearn: 630.1775370\ttotal: 26.6s\tremaining: 3.5s\n",
      "442:\tlearn: 630.1320876\ttotal: 26.7s\tremaining: 3.43s\n",
      "443:\tlearn: 629.8881016\ttotal: 26.7s\tremaining: 3.37s\n",
      "444:\tlearn: 629.4936286\ttotal: 26.8s\tremaining: 3.31s\n",
      "445:\tlearn: 629.1658095\ttotal: 26.9s\tremaining: 3.25s\n",
      "446:\tlearn: 629.2028318\ttotal: 26.9s\tremaining: 3.19s\n",
      "447:\tlearn: 629.1742329\ttotal: 27s\tremaining: 3.13s\n",
      "448:\tlearn: 629.2034507\ttotal: 27s\tremaining: 3.07s\n",
      "449:\tlearn: 629.2279871\ttotal: 27.1s\tremaining: 3.01s\n",
      "450:\tlearn: 629.1549424\ttotal: 27.1s\tremaining: 2.95s\n",
      "451:\tlearn: 628.9604337\ttotal: 27.2s\tremaining: 2.88s\n",
      "452:\tlearn: 628.9543015\ttotal: 27.2s\tremaining: 2.82s\n",
      "453:\tlearn: 628.9230379\ttotal: 27.3s\tremaining: 2.76s\n",
      "454:\tlearn: 628.1797536\ttotal: 27.4s\tremaining: 2.71s\n",
      "455:\tlearn: 628.1897265\ttotal: 27.4s\tremaining: 2.64s\n",
      "456:\tlearn: 627.9242832\ttotal: 27.5s\tremaining: 2.58s\n",
      "457:\tlearn: 628.0374876\ttotal: 27.6s\tremaining: 2.53s\n",
      "458:\tlearn: 628.0147822\ttotal: 27.6s\tremaining: 2.46s\n",
      "459:\tlearn: 627.9951846\ttotal: 27.6s\tremaining: 2.4s\n",
      "460:\tlearn: 627.9782595\ttotal: 27.6s\tremaining: 2.34s\n",
      "461:\tlearn: 627.3664612\ttotal: 27.7s\tremaining: 2.28s\n",
      "462:\tlearn: 627.3091653\ttotal: 27.8s\tremaining: 2.22s\n",
      "463:\tlearn: 627.3027807\ttotal: 27.9s\tremaining: 2.16s\n",
      "464:\tlearn: 627.2701192\ttotal: 28s\tremaining: 2.1s\n"
     ]
    },
    {
     "name": "stdout",
     "output_type": "stream",
     "text": [
      "465:\tlearn: 627.0010481\ttotal: 28s\tremaining: 2.05s\n",
      "466:\tlearn: 626.9710004\ttotal: 28.1s\tremaining: 1.98s\n",
      "467:\tlearn: 626.9300080\ttotal: 28.1s\tremaining: 1.92s\n",
      "468:\tlearn: 626.7167995\ttotal: 28.2s\tremaining: 1.86s\n",
      "469:\tlearn: 626.6994749\ttotal: 28.2s\tremaining: 1.8s\n",
      "470:\tlearn: 626.5458361\ttotal: 28.3s\tremaining: 1.74s\n",
      "471:\tlearn: 626.5477952\ttotal: 28.3s\tremaining: 1.68s\n",
      "472:\tlearn: 626.0414769\ttotal: 28.4s\tremaining: 1.62s\n",
      "473:\tlearn: 626.0779185\ttotal: 28.4s\tremaining: 1.56s\n",
      "474:\tlearn: 626.0950386\ttotal: 28.5s\tremaining: 1.5s\n",
      "475:\tlearn: 626.1097937\ttotal: 28.5s\tremaining: 1.44s\n",
      "476:\tlearn: 626.1265307\ttotal: 28.5s\tremaining: 1.38s\n",
      "477:\tlearn: 626.0665227\ttotal: 28.6s\tremaining: 1.32s\n",
      "478:\tlearn: 626.1438598\ttotal: 28.7s\tremaining: 1.26s\n",
      "479:\tlearn: 625.9077912\ttotal: 28.8s\tremaining: 1.2s\n",
      "480:\tlearn: 625.8276764\ttotal: 28.8s\tremaining: 1.14s\n",
      "481:\tlearn: 625.9427751\ttotal: 28.9s\tremaining: 1.08s\n",
      "482:\tlearn: 626.0408788\ttotal: 29s\tremaining: 1.02s\n",
      "483:\tlearn: 625.6128292\ttotal: 29s\tremaining: 959ms\n",
      "484:\tlearn: 625.4490758\ttotal: 29.1s\tremaining: 898ms\n",
      "485:\tlearn: 625.2811786\ttotal: 29.1s\tremaining: 839ms\n",
      "486:\tlearn: 624.8533975\ttotal: 29.2s\tremaining: 779ms\n",
      "487:\tlearn: 623.1816639\ttotal: 29.3s\tremaining: 720ms\n",
      "488:\tlearn: 622.8369934\ttotal: 29.3s\tremaining: 660ms\n",
      "489:\tlearn: 622.7719412\ttotal: 29.4s\tremaining: 600ms\n",
      "490:\tlearn: 622.7304533\ttotal: 29.5s\tremaining: 540ms\n",
      "491:\tlearn: 622.4947027\ttotal: 29.5s\tremaining: 480ms\n",
      "492:\tlearn: 621.8387771\ttotal: 29.6s\tremaining: 420ms\n",
      "493:\tlearn: 621.8122806\ttotal: 29.6s\tremaining: 360ms\n",
      "494:\tlearn: 621.8116563\ttotal: 29.7s\tremaining: 300ms\n",
      "495:\tlearn: 621.7836077\ttotal: 29.8s\tremaining: 240ms\n",
      "496:\tlearn: 621.5635545\ttotal: 29.8s\tremaining: 180ms\n",
      "497:\tlearn: 621.5228273\ttotal: 29.9s\tremaining: 120ms\n",
      "498:\tlearn: 621.7166037\ttotal: 29.9s\tremaining: 60ms\n",
      "499:\tlearn: 621.8864101\ttotal: 30s\tremaining: 0us\n"
     ]
    },
    {
     "data": {
      "text/plain": [
       "<catboost.core.CatBoostRegressor at 0x21a857f10c8>"
      ]
     },
     "execution_count": 140,
     "metadata": {},
     "output_type": "execute_result"
    }
   ],
   "source": [
    "cbb.fit(df[['YEAR', 'MONTH', 'CONTRAGENT', 'ARTICLE_GROUP', 'STORE_SALES']],df['SALES'])"
   ]
  },
  {
   "cell_type": "code",
   "execution_count": 142,
   "metadata": {},
   "outputs": [],
   "source": [
    "xtrain, xtest, ytrain, ytest=train_test_split(df[['YEAR', 'MONTH', 'CONTRAGENT', 'ARTICLE_GROUP', 'STORE_SALES']]\n",
    "                                              , df['SALES'], test_size=0.15)"
   ]
  },
  {
   "cell_type": "code",
   "execution_count": 125,
   "metadata": {},
   "outputs": [],
   "source": [
    "n_estimators = [50, 100, 150, 200]\n",
    "max_depth = [2, 4, 6, 8]\n",
    "l2_leaf_reg=[x for x in range(9, 18)]\n",
    "param_grid = dict(depth=max_depth, iterations=n_estimators, l2_leaf_reg=l2_leaf_reg)"
   ]
  },
  {
   "cell_type": "code",
   "execution_count": 126,
   "metadata": {},
   "outputs": [
    {
     "name": "stdout",
     "output_type": "stream",
     "text": [
      "Fitting 10 folds for each of 144 candidates, totalling 1440 fits\n"
     ]
    },
    {
     "name": "stderr",
     "output_type": "stream",
     "text": [
      "[Parallel(n_jobs=-1)]: Using backend LokyBackend with 12 concurrent workers.\n",
      "[Parallel(n_jobs=-1)]: Done  26 tasks      | elapsed:    8.4s\n",
      "[Parallel(n_jobs=-1)]: Done 176 tasks      | elapsed:  1.3min\n",
      "[Parallel(n_jobs=-1)]: Done 426 tasks      | elapsed:  5.0min\n",
      "[Parallel(n_jobs=-1)]: Done 776 tasks      | elapsed: 12.3min\n",
      "[Parallel(n_jobs=-1)]: Done 1226 tasks      | elapsed: 23.8min\n",
      "[Parallel(n_jobs=-1)]: Done 1440 out of 1440 | elapsed: 34.3min finished\n"
     ]
    },
    {
     "name": "stdout",
     "output_type": "stream",
     "text": [
      "0:\tlearn: 29204.0684808\ttotal: 77.3ms\tremaining: 15.4s\n",
      "1:\tlearn: 28937.4044232\ttotal: 150ms\tremaining: 14.9s\n",
      "2:\tlearn: 28686.0568595\ttotal: 235ms\tremaining: 15.4s\n",
      "3:\tlearn: 28447.3465781\ttotal: 308ms\tremaining: 15.1s\n",
      "4:\tlearn: 28216.0088787\ttotal: 380ms\tremaining: 14.8s\n",
      "5:\tlearn: 28002.6675105\ttotal: 446ms\tremaining: 14.4s\n",
      "6:\tlearn: 27795.2188626\ttotal: 498ms\tremaining: 13.7s\n",
      "7:\tlearn: 27595.0580797\ttotal: 565ms\tremaining: 13.6s\n",
      "8:\tlearn: 27398.9402092\ttotal: 639ms\tremaining: 13.6s\n",
      "9:\tlearn: 27215.6942715\ttotal: 720ms\tremaining: 13.7s\n",
      "10:\tlearn: 27035.6837916\ttotal: 790ms\tremaining: 13.6s\n",
      "11:\tlearn: 26868.9719234\ttotal: 859ms\tremaining: 13.5s\n",
      "12:\tlearn: 26708.3084695\ttotal: 925ms\tremaining: 13.3s\n",
      "13:\tlearn: 26550.6597876\ttotal: 994ms\tremaining: 13.2s\n",
      "14:\tlearn: 26398.8447175\ttotal: 1.07s\tremaining: 13.3s\n",
      "15:\tlearn: 26265.7097419\ttotal: 1.14s\tremaining: 13.1s\n",
      "16:\tlearn: 26129.8620564\ttotal: 1.19s\tremaining: 12.8s\n",
      "17:\tlearn: 26009.8929118\ttotal: 1.26s\tremaining: 12.8s\n",
      "18:\tlearn: 25886.2659396\ttotal: 1.32s\tremaining: 12.6s\n",
      "19:\tlearn: 25768.9799995\ttotal: 1.4s\tremaining: 12.6s\n",
      "20:\tlearn: 25652.5250116\ttotal: 1.45s\tremaining: 12.4s\n",
      "21:\tlearn: 25545.1475009\ttotal: 1.52s\tremaining: 12.3s\n",
      "22:\tlearn: 25435.5264993\ttotal: 1.58s\tremaining: 12.2s\n",
      "23:\tlearn: 25336.9765815\ttotal: 1.65s\tremaining: 12.1s\n",
      "24:\tlearn: 25236.0762657\ttotal: 1.72s\tremaining: 12s\n",
      "25:\tlearn: 25136.6533782\ttotal: 1.77s\tremaining: 11.9s\n",
      "26:\tlearn: 25040.8859767\ttotal: 1.82s\tremaining: 11.7s\n",
      "27:\tlearn: 24952.6224179\ttotal: 1.87s\tremaining: 11.5s\n",
      "28:\tlearn: 24875.3119751\ttotal: 1.91s\tremaining: 11.3s\n",
      "29:\tlearn: 24784.6064570\ttotal: 1.98s\tremaining: 11.2s\n",
      "30:\tlearn: 24697.8044468\ttotal: 2.02s\tremaining: 11s\n",
      "31:\tlearn: 24613.3611647\ttotal: 2.07s\tremaining: 10.9s\n",
      "32:\tlearn: 24544.0287034\ttotal: 2.13s\tremaining: 10.8s\n",
      "33:\tlearn: 24483.3925081\ttotal: 2.17s\tremaining: 10.6s\n",
      "34:\tlearn: 24407.2781479\ttotal: 2.22s\tremaining: 10.5s\n",
      "35:\tlearn: 24338.3212786\ttotal: 2.27s\tremaining: 10.3s\n",
      "36:\tlearn: 24274.5469840\ttotal: 2.32s\tremaining: 10.2s\n",
      "37:\tlearn: 24218.6889147\ttotal: 2.37s\tremaining: 10.1s\n",
      "38:\tlearn: 24161.7452049\ttotal: 2.42s\tremaining: 9.99s\n",
      "39:\tlearn: 24099.4723691\ttotal: 2.47s\tremaining: 9.9s\n",
      "40:\tlearn: 24041.0641294\ttotal: 2.53s\tremaining: 9.81s\n",
      "41:\tlearn: 23980.1979062\ttotal: 2.59s\tremaining: 9.74s\n",
      "42:\tlearn: 23924.6158298\ttotal: 2.63s\tremaining: 9.61s\n",
      "43:\tlearn: 23880.4804543\ttotal: 2.68s\tremaining: 9.51s\n",
      "44:\tlearn: 23838.3084867\ttotal: 2.72s\tremaining: 9.38s\n",
      "45:\tlearn: 23804.5618832\ttotal: 2.77s\tremaining: 9.28s\n",
      "46:\tlearn: 23768.4044077\ttotal: 2.83s\tremaining: 9.22s\n",
      "47:\tlearn: 23724.1526689\ttotal: 2.9s\tremaining: 9.2s\n",
      "48:\tlearn: 23672.9118630\ttotal: 2.96s\tremaining: 9.14s\n",
      "49:\tlearn: 23631.9136658\ttotal: 3.02s\tremaining: 9.05s\n",
      "50:\tlearn: 23586.0448521\ttotal: 3.08s\tremaining: 9s\n",
      "51:\tlearn: 23547.8369176\ttotal: 3.12s\tremaining: 8.89s\n",
      "52:\tlearn: 23512.7820246\ttotal: 3.19s\tremaining: 8.84s\n",
      "53:\tlearn: 23489.5836448\ttotal: 3.25s\tremaining: 8.79s\n",
      "54:\tlearn: 23449.2481370\ttotal: 3.28s\tremaining: 8.66s\n",
      "55:\tlearn: 23414.8367895\ttotal: 3.34s\tremaining: 8.6s\n",
      "56:\tlearn: 23390.5277457\ttotal: 3.4s\tremaining: 8.54s\n",
      "57:\tlearn: 23356.6414358\ttotal: 3.46s\tremaining: 8.46s\n",
      "58:\tlearn: 23325.8659771\ttotal: 3.52s\tremaining: 8.42s\n",
      "59:\tlearn: 23306.8889556\ttotal: 3.55s\tremaining: 8.29s\n",
      "60:\tlearn: 23287.1194687\ttotal: 3.62s\tremaining: 8.25s\n",
      "61:\tlearn: 23266.3525187\ttotal: 3.67s\tremaining: 8.17s\n",
      "62:\tlearn: 23246.6124362\ttotal: 3.74s\tremaining: 8.12s\n",
      "63:\tlearn: 23219.9245712\ttotal: 3.8s\tremaining: 8.07s\n",
      "64:\tlearn: 23197.7335096\ttotal: 3.86s\tremaining: 8.02s\n",
      "65:\tlearn: 23185.1968199\ttotal: 3.91s\tremaining: 7.94s\n",
      "66:\tlearn: 23159.8227274\ttotal: 3.97s\tremaining: 7.88s\n",
      "67:\tlearn: 23149.8169048\ttotal: 4.03s\tremaining: 7.82s\n",
      "68:\tlearn: 23123.8219984\ttotal: 4.11s\tremaining: 7.79s\n",
      "69:\tlearn: 23104.1244533\ttotal: 4.16s\tremaining: 7.72s\n",
      "70:\tlearn: 23086.7166697\ttotal: 4.2s\tremaining: 7.63s\n",
      "71:\tlearn: 23076.1407452\ttotal: 4.26s\tremaining: 7.57s\n",
      "72:\tlearn: 23061.5900086\ttotal: 4.31s\tremaining: 7.5s\n",
      "73:\tlearn: 23051.1382801\ttotal: 4.37s\tremaining: 7.44s\n",
      "74:\tlearn: 23029.2101656\ttotal: 4.42s\tremaining: 7.37s\n",
      "75:\tlearn: 23007.1448515\ttotal: 4.46s\tremaining: 7.27s\n",
      "76:\tlearn: 22992.7916572\ttotal: 4.51s\tremaining: 7.2s\n",
      "77:\tlearn: 22975.9395665\ttotal: 4.56s\tremaining: 7.13s\n",
      "78:\tlearn: 22958.2365153\ttotal: 4.61s\tremaining: 7.06s\n",
      "79:\tlearn: 22947.8394813\ttotal: 4.65s\tremaining: 6.97s\n",
      "80:\tlearn: 22929.9273840\ttotal: 4.71s\tremaining: 6.93s\n",
      "81:\tlearn: 22913.0083044\ttotal: 4.76s\tremaining: 6.85s\n",
      "82:\tlearn: 22897.7621986\ttotal: 4.82s\tremaining: 6.79s\n",
      "83:\tlearn: 22886.0124322\ttotal: 4.88s\tremaining: 6.74s\n",
      "84:\tlearn: 22878.0830093\ttotal: 4.91s\tremaining: 6.64s\n",
      "85:\tlearn: 22856.8000422\ttotal: 4.97s\tremaining: 6.59s\n",
      "86:\tlearn: 22845.7537494\ttotal: 5.03s\tremaining: 6.54s\n",
      "87:\tlearn: 22834.4177907\ttotal: 5.08s\tremaining: 6.46s\n",
      "88:\tlearn: 22823.6392991\ttotal: 5.13s\tremaining: 6.4s\n",
      "89:\tlearn: 22816.6409117\ttotal: 5.17s\tremaining: 6.32s\n",
      "90:\tlearn: 22803.5811031\ttotal: 5.22s\tremaining: 6.25s\n",
      "91:\tlearn: 22787.8422105\ttotal: 5.28s\tremaining: 6.2s\n",
      "92:\tlearn: 22775.8357498\ttotal: 5.33s\tremaining: 6.13s\n",
      "93:\tlearn: 22770.4090111\ttotal: 5.37s\tremaining: 6.05s\n",
      "94:\tlearn: 22764.5173371\ttotal: 5.44s\tremaining: 6.01s\n",
      "95:\tlearn: 22757.4120489\ttotal: 5.5s\tremaining: 5.96s\n",
      "96:\tlearn: 22752.1674388\ttotal: 5.56s\tremaining: 5.9s\n",
      "97:\tlearn: 22745.1123558\ttotal: 5.6s\tremaining: 5.83s\n",
      "98:\tlearn: 22739.7888305\ttotal: 5.63s\tremaining: 5.74s\n",
      "99:\tlearn: 22731.1838584\ttotal: 5.69s\tremaining: 5.69s\n",
      "100:\tlearn: 22712.7673924\ttotal: 5.73s\tremaining: 5.62s\n",
      "101:\tlearn: 22707.3443471\ttotal: 5.76s\tremaining: 5.54s\n",
      "102:\tlearn: 22695.0308380\ttotal: 5.84s\tremaining: 5.5s\n",
      "103:\tlearn: 22683.6585755\ttotal: 5.9s\tremaining: 5.44s\n",
      "104:\tlearn: 22676.2530023\ttotal: 5.96s\tremaining: 5.4s\n",
      "105:\tlearn: 22669.8690328\ttotal: 6s\tremaining: 5.32s\n",
      "106:\tlearn: 22657.2527547\ttotal: 6.06s\tremaining: 5.27s\n",
      "107:\tlearn: 22647.0701516\ttotal: 6.11s\tremaining: 5.2s\n",
      "108:\tlearn: 22634.0016576\ttotal: 6.16s\tremaining: 5.14s\n",
      "109:\tlearn: 22625.2778831\ttotal: 6.19s\tremaining: 5.06s\n",
      "110:\tlearn: 22619.0475721\ttotal: 6.24s\tremaining: 5s\n",
      "111:\tlearn: 22613.6719873\ttotal: 6.3s\tremaining: 4.95s\n",
      "112:\tlearn: 22607.5834525\ttotal: 6.32s\tremaining: 4.87s\n",
      "113:\tlearn: 22598.3750695\ttotal: 6.37s\tremaining: 4.81s\n",
      "114:\tlearn: 22588.1917465\ttotal: 6.43s\tremaining: 4.75s\n",
      "115:\tlearn: 22582.7029005\ttotal: 6.49s\tremaining: 4.7s\n",
      "116:\tlearn: 22578.3080665\ttotal: 6.53s\tremaining: 4.63s\n",
      "117:\tlearn: 22571.4331670\ttotal: 6.58s\tremaining: 4.57s\n",
      "118:\tlearn: 22567.6384475\ttotal: 6.64s\tremaining: 4.52s\n",
      "119:\tlearn: 22563.9384263\ttotal: 6.66s\tremaining: 4.44s\n",
      "120:\tlearn: 22556.3834187\ttotal: 6.73s\tremaining: 4.39s\n",
      "121:\tlearn: 22552.9114514\ttotal: 6.75s\tremaining: 4.31s\n",
      "122:\tlearn: 22547.3200009\ttotal: 6.79s\tremaining: 4.25s\n",
      "123:\tlearn: 22536.1909910\ttotal: 6.85s\tremaining: 4.2s\n",
      "124:\tlearn: 22517.3152297\ttotal: 6.92s\tremaining: 4.15s\n",
      "125:\tlearn: 22510.9074365\ttotal: 6.97s\tremaining: 4.09s\n",
      "126:\tlearn: 22501.9330891\ttotal: 7.03s\tremaining: 4.04s\n",
      "127:\tlearn: 22496.3178596\ttotal: 7.06s\tremaining: 3.97s\n",
      "128:\tlearn: 22485.7349053\ttotal: 7.09s\tremaining: 3.9s\n",
      "129:\tlearn: 22471.4547718\ttotal: 7.15s\tremaining: 3.85s\n",
      "130:\tlearn: 22468.8082039\ttotal: 7.19s\tremaining: 3.79s\n",
      "131:\tlearn: 22434.5075054\ttotal: 7.27s\tremaining: 3.74s\n",
      "132:\tlearn: 22424.0859693\ttotal: 7.33s\tremaining: 3.69s\n",
      "133:\tlearn: 22399.0098272\ttotal: 7.4s\tremaining: 3.65s\n",
      "134:\tlearn: 22389.0221687\ttotal: 7.46s\tremaining: 3.59s\n",
      "135:\tlearn: 22380.6279008\ttotal: 7.53s\tremaining: 3.54s\n",
      "136:\tlearn: 22373.2133689\ttotal: 7.58s\tremaining: 3.48s\n",
      "137:\tlearn: 22370.2874506\ttotal: 7.66s\tremaining: 3.44s\n",
      "138:\tlearn: 22364.9652176\ttotal: 7.71s\tremaining: 3.38s\n",
      "139:\tlearn: 22359.3139329\ttotal: 7.77s\tremaining: 3.33s\n",
      "140:\tlearn: 22355.5358822\ttotal: 7.81s\tremaining: 3.27s\n",
      "141:\tlearn: 22345.7765071\ttotal: 7.88s\tremaining: 3.22s\n",
      "142:\tlearn: 22329.1840168\ttotal: 7.93s\tremaining: 3.16s\n",
      "143:\tlearn: 22317.5268853\ttotal: 8.01s\tremaining: 3.12s\n",
      "144:\tlearn: 22315.3859963\ttotal: 8.08s\tremaining: 3.06s\n",
      "145:\tlearn: 22312.9746648\ttotal: 8.09s\tremaining: 2.99s\n",
      "146:\tlearn: 22307.1927089\ttotal: 8.18s\tremaining: 2.95s\n",
      "147:\tlearn: 22298.8486137\ttotal: 8.23s\tremaining: 2.89s\n",
      "148:\tlearn: 22295.1060398\ttotal: 8.28s\tremaining: 2.83s\n",
      "149:\tlearn: 22278.8711752\ttotal: 8.34s\tremaining: 2.78s\n",
      "150:\tlearn: 22265.7733716\ttotal: 8.4s\tremaining: 2.73s\n"
     ]
    },
    {
     "name": "stdout",
     "output_type": "stream",
     "text": [
      "151:\tlearn: 22244.3459998\ttotal: 8.45s\tremaining: 2.67s\n",
      "152:\tlearn: 22222.6700790\ttotal: 8.49s\tremaining: 2.61s\n",
      "153:\tlearn: 22220.0370206\ttotal: 8.56s\tremaining: 2.56s\n",
      "154:\tlearn: 22213.2027914\ttotal: 8.61s\tremaining: 2.5s\n",
      "155:\tlearn: 22196.0452107\ttotal: 8.64s\tremaining: 2.44s\n",
      "156:\tlearn: 22169.3861728\ttotal: 8.69s\tremaining: 2.38s\n",
      "157:\tlearn: 22162.1002695\ttotal: 8.73s\tremaining: 2.32s\n",
      "158:\tlearn: 22153.4040615\ttotal: 8.79s\tremaining: 2.27s\n",
      "159:\tlearn: 22151.0455963\ttotal: 8.81s\tremaining: 2.2s\n",
      "160:\tlearn: 22139.4789773\ttotal: 8.86s\tremaining: 2.15s\n",
      "161:\tlearn: 22136.2054868\ttotal: 8.91s\tremaining: 2.09s\n",
      "162:\tlearn: 22132.8288624\ttotal: 8.96s\tremaining: 2.03s\n",
      "163:\tlearn: 22128.6086917\ttotal: 9.01s\tremaining: 1.98s\n",
      "164:\tlearn: 22111.5062383\ttotal: 9.05s\tremaining: 1.92s\n",
      "165:\tlearn: 22092.4323113\ttotal: 9.12s\tremaining: 1.87s\n",
      "166:\tlearn: 22090.2211163\ttotal: 9.16s\tremaining: 1.81s\n",
      "167:\tlearn: 22081.9168572\ttotal: 9.21s\tremaining: 1.75s\n",
      "168:\tlearn: 22075.2025134\ttotal: 9.26s\tremaining: 1.7s\n",
      "169:\tlearn: 22069.3455856\ttotal: 9.33s\tremaining: 1.65s\n",
      "170:\tlearn: 22064.5394427\ttotal: 9.38s\tremaining: 1.59s\n",
      "171:\tlearn: 22044.0957387\ttotal: 9.43s\tremaining: 1.53s\n",
      "172:\tlearn: 22039.6666764\ttotal: 9.47s\tremaining: 1.48s\n",
      "173:\tlearn: 22032.0066371\ttotal: 9.52s\tremaining: 1.42s\n",
      "174:\tlearn: 22028.3781399\ttotal: 9.58s\tremaining: 1.37s\n",
      "175:\tlearn: 22022.3879957\ttotal: 9.63s\tremaining: 1.31s\n",
      "176:\tlearn: 22018.4239482\ttotal: 9.67s\tremaining: 1.26s\n",
      "177:\tlearn: 22013.9483750\ttotal: 9.72s\tremaining: 1.2s\n",
      "178:\tlearn: 22002.3159284\ttotal: 9.78s\tremaining: 1.15s\n",
      "179:\tlearn: 21996.5547630\ttotal: 9.84s\tremaining: 1.09s\n",
      "180:\tlearn: 21993.1025613\ttotal: 9.89s\tremaining: 1.04s\n",
      "181:\tlearn: 21982.1063638\ttotal: 9.93s\tremaining: 982ms\n",
      "182:\tlearn: 21979.1887989\ttotal: 9.97s\tremaining: 926ms\n",
      "183:\tlearn: 21976.2792630\ttotal: 10s\tremaining: 872ms\n",
      "184:\tlearn: 21972.7886525\ttotal: 10.1s\tremaining: 818ms\n",
      "185:\tlearn: 21970.7938874\ttotal: 10.1s\tremaining: 762ms\n",
      "186:\tlearn: 21964.0157417\ttotal: 10.2s\tremaining: 708ms\n",
      "187:\tlearn: 21951.3439706\ttotal: 10.2s\tremaining: 654ms\n",
      "188:\tlearn: 21924.2745418\ttotal: 10.3s\tremaining: 598ms\n",
      "189:\tlearn: 21919.4512469\ttotal: 10.3s\tremaining: 543ms\n",
      "190:\tlearn: 21916.0569905\ttotal: 10.3s\tremaining: 488ms\n",
      "191:\tlearn: 21889.4279031\ttotal: 10.4s\tremaining: 434ms\n",
      "192:\tlearn: 21880.1981085\ttotal: 10.5s\tremaining: 380ms\n",
      "193:\tlearn: 21878.3262508\ttotal: 10.5s\tremaining: 324ms\n",
      "194:\tlearn: 21851.2941557\ttotal: 10.5s\tremaining: 270ms\n",
      "195:\tlearn: 21839.2435879\ttotal: 10.6s\tremaining: 216ms\n",
      "196:\tlearn: 21835.5290137\ttotal: 10.7s\tremaining: 162ms\n",
      "197:\tlearn: 21827.9364130\ttotal: 10.7s\tremaining: 108ms\n",
      "198:\tlearn: 21818.2740847\ttotal: 10.8s\tremaining: 54ms\n",
      "199:\tlearn: 21815.7310223\ttotal: 10.8s\tremaining: 0us\n"
     ]
    }
   ],
   "source": [
    "kfold = KFold(n_splits=10, shuffle=True)\n",
    "grid_search = GridSearchCV(clf, param_grid, scoring='neg_mean_squared_error', n_jobs=-1, cv=kfold, verbose=1)\n",
    "result = grid_search.fit(xtrain, ytrain)\n"
   ]
  },
  {
   "cell_type": "code",
   "execution_count": 127,
   "metadata": {},
   "outputs": [
    {
     "name": "stdout",
     "output_type": "stream",
     "text": [
      "Best: -535736094.131707 using {'depth': 8, 'iterations': 200, 'l2_leaf_reg': 10}\n"
     ]
    }
   ],
   "source": [
    "print(\"Best: %f using %s\" % (result.best_score_, result.best_params_))"
   ]
  },
  {
   "cell_type": "code",
   "execution_count": 129,
   "metadata": {
    "collapsed": true
   },
   "outputs": [
    {
     "name": "stdout",
     "output_type": "stream",
     "text": [
      "0:\tlearn: 2371.8888931\ttotal: 82.9ms\tremaining: 16.5s\n",
      "1:\tlearn: 2227.8591782\ttotal: 165ms\tremaining: 16.3s\n",
      "2:\tlearn: 2106.6049348\ttotal: 241ms\tremaining: 15.8s\n",
      "3:\tlearn: 1990.4694573\ttotal: 324ms\tremaining: 15.9s\n",
      "4:\tlearn: 1919.9785631\ttotal: 403ms\tremaining: 15.7s\n",
      "5:\tlearn: 1831.5686971\ttotal: 467ms\tremaining: 15.1s\n",
      "6:\tlearn: 1759.9912884\ttotal: 545ms\tremaining: 15s\n",
      "7:\tlearn: 1623.8036039\ttotal: 615ms\tremaining: 14.8s\n",
      "8:\tlearn: 1514.7921149\ttotal: 676ms\tremaining: 14.4s\n",
      "9:\tlearn: 1414.9356778\ttotal: 736ms\tremaining: 14s\n",
      "10:\tlearn: 1332.9374825\ttotal: 790ms\tremaining: 13.6s\n",
      "11:\tlearn: 1269.8378388\ttotal: 836ms\tremaining: 13.1s\n",
      "12:\tlearn: 1215.9617918\ttotal: 882ms\tremaining: 12.7s\n",
      "13:\tlearn: 1159.2673766\ttotal: 923ms\tremaining: 12.3s\n",
      "14:\tlearn: 1111.8843780\ttotal: 993ms\tremaining: 12.3s\n",
      "15:\tlearn: 1071.1024977\ttotal: 1.04s\tremaining: 12s\n",
      "16:\tlearn: 1040.1066994\ttotal: 1.1s\tremaining: 11.8s\n",
      "17:\tlearn: 1012.2900970\ttotal: 1.14s\tremaining: 11.5s\n",
      "18:\tlearn: 991.1478818\ttotal: 1.19s\tremaining: 11.3s\n",
      "19:\tlearn: 973.0867619\ttotal: 1.24s\tremaining: 11.1s\n",
      "20:\tlearn: 954.5759881\ttotal: 1.29s\tremaining: 11s\n",
      "21:\tlearn: 940.7688525\ttotal: 1.33s\tremaining: 10.8s\n",
      "22:\tlearn: 933.8800700\ttotal: 1.38s\tremaining: 10.6s\n",
      "23:\tlearn: 924.1233669\ttotal: 1.45s\tremaining: 10.6s\n",
      "24:\tlearn: 923.6691482\ttotal: 1.48s\tremaining: 10.4s\n",
      "25:\tlearn: 916.7819521\ttotal: 1.54s\tremaining: 10.3s\n",
      "26:\tlearn: 903.6317768\ttotal: 1.58s\tremaining: 10.1s\n",
      "27:\tlearn: 894.5539827\ttotal: 1.67s\tremaining: 10.2s\n",
      "28:\tlearn: 891.0620313\ttotal: 1.72s\tremaining: 10.2s\n",
      "29:\tlearn: 879.8322273\ttotal: 1.78s\tremaining: 10.1s\n",
      "30:\tlearn: 877.1122191\ttotal: 1.81s\tremaining: 9.85s\n",
      "31:\tlearn: 876.8934127\ttotal: 1.85s\tremaining: 9.71s\n",
      "32:\tlearn: 870.8919196\ttotal: 1.91s\tremaining: 9.68s\n",
      "33:\tlearn: 872.0507238\ttotal: 1.95s\tremaining: 9.53s\n",
      "34:\tlearn: 871.0323887\ttotal: 2.02s\tremaining: 9.5s\n",
      "35:\tlearn: 870.0126434\ttotal: 2.06s\tremaining: 9.41s\n",
      "36:\tlearn: 871.3712904\ttotal: 2.08s\tremaining: 9.19s\n",
      "37:\tlearn: 870.1656668\ttotal: 2.1s\tremaining: 8.97s\n",
      "38:\tlearn: 867.0232300\ttotal: 2.17s\tremaining: 8.96s\n",
      "39:\tlearn: 867.8522002\ttotal: 2.21s\tremaining: 8.84s\n",
      "40:\tlearn: 865.7447900\ttotal: 2.28s\tremaining: 8.85s\n",
      "41:\tlearn: 865.5370881\ttotal: 2.33s\tremaining: 8.76s\n",
      "42:\tlearn: 865.1832756\ttotal: 2.39s\tremaining: 8.71s\n",
      "43:\tlearn: 865.6489789\ttotal: 2.41s\tremaining: 8.56s\n",
      "44:\tlearn: 867.1542222\ttotal: 2.46s\tremaining: 8.46s\n",
      "45:\tlearn: 863.9134011\ttotal: 2.5s\tremaining: 8.38s\n",
      "46:\tlearn: 865.2510790\ttotal: 2.56s\tremaining: 8.34s\n",
      "47:\tlearn: 863.9294461\ttotal: 2.62s\tremaining: 8.28s\n",
      "48:\tlearn: 857.5797432\ttotal: 2.68s\tremaining: 8.25s\n",
      "49:\tlearn: 857.7628480\ttotal: 2.69s\tremaining: 8.09s\n",
      "50:\tlearn: 856.0731401\ttotal: 2.74s\tremaining: 8s\n",
      "51:\tlearn: 856.1388309\ttotal: 2.78s\tremaining: 7.91s\n",
      "52:\tlearn: 856.0403124\ttotal: 2.81s\tremaining: 7.8s\n",
      "53:\tlearn: 852.3963178\ttotal: 2.85s\tremaining: 7.7s\n",
      "54:\tlearn: 852.2187046\ttotal: 2.88s\tremaining: 7.6s\n",
      "55:\tlearn: 851.3091034\ttotal: 2.93s\tremaining: 7.54s\n",
      "56:\tlearn: 851.9036074\ttotal: 2.96s\tremaining: 7.42s\n",
      "57:\tlearn: 850.7258147\ttotal: 3.01s\tremaining: 7.38s\n",
      "58:\tlearn: 849.3093345\ttotal: 3.05s\tremaining: 7.29s\n",
      "59:\tlearn: 848.8187930\ttotal: 3.1s\tremaining: 7.24s\n",
      "60:\tlearn: 848.1434452\ttotal: 3.16s\tremaining: 7.2s\n",
      "61:\tlearn: 848.3197071\ttotal: 3.2s\tremaining: 7.12s\n",
      "62:\tlearn: 847.4827587\ttotal: 3.25s\tremaining: 7.06s\n",
      "63:\tlearn: 845.7656904\ttotal: 3.28s\tremaining: 6.98s\n",
      "64:\tlearn: 845.8267631\ttotal: 3.33s\tremaining: 6.92s\n",
      "65:\tlearn: 844.4064114\ttotal: 3.4s\tremaining: 6.9s\n",
      "66:\tlearn: 843.6906006\ttotal: 3.46s\tremaining: 6.87s\n",
      "67:\tlearn: 829.7084441\ttotal: 3.52s\tremaining: 6.84s\n",
      "68:\tlearn: 829.6445935\ttotal: 3.56s\tremaining: 6.75s\n",
      "69:\tlearn: 828.4208445\ttotal: 3.58s\tremaining: 6.64s\n",
      "70:\tlearn: 824.9699842\ttotal: 3.62s\tremaining: 6.57s\n",
      "71:\tlearn: 825.0611410\ttotal: 3.68s\tremaining: 6.54s\n",
      "72:\tlearn: 820.4429597\ttotal: 3.74s\tremaining: 6.5s\n",
      "73:\tlearn: 819.6117137\ttotal: 3.76s\tremaining: 6.4s\n",
      "74:\tlearn: 817.8039573\ttotal: 3.82s\tremaining: 6.36s\n",
      "75:\tlearn: 818.0029156\ttotal: 3.84s\tremaining: 6.26s\n",
      "76:\tlearn: 817.2684398\ttotal: 3.88s\tremaining: 6.21s\n",
      "77:\tlearn: 817.5379865\ttotal: 3.91s\tremaining: 6.11s\n",
      "78:\tlearn: 816.9130749\ttotal: 3.96s\tremaining: 6.07s\n",
      "79:\tlearn: 816.7134281\ttotal: 4s\tremaining: 6s\n",
      "80:\tlearn: 815.1813459\ttotal: 4.02s\tremaining: 5.91s\n",
      "81:\tlearn: 815.5198595\ttotal: 4.08s\tremaining: 5.86s\n",
      "82:\tlearn: 815.2456293\ttotal: 4.11s\tremaining: 5.79s\n",
      "83:\tlearn: 814.8056983\ttotal: 4.15s\tremaining: 5.73s\n",
      "84:\tlearn: 814.0512062\ttotal: 4.21s\tremaining: 5.69s\n",
      "85:\tlearn: 811.7217479\ttotal: 4.27s\tremaining: 5.67s\n",
      "86:\tlearn: 812.0843266\ttotal: 4.33s\tremaining: 5.62s\n",
      "87:\tlearn: 811.6467276\ttotal: 4.35s\tremaining: 5.53s\n",
      "88:\tlearn: 811.3026833\ttotal: 4.37s\tremaining: 5.45s\n",
      "89:\tlearn: 809.9617606\ttotal: 4.42s\tremaining: 5.41s\n",
      "90:\tlearn: 810.0892725\ttotal: 4.46s\tremaining: 5.34s\n",
      "91:\tlearn: 810.2871290\ttotal: 4.48s\tremaining: 5.26s\n",
      "92:\tlearn: 810.1925523\ttotal: 4.52s\tremaining: 5.2s\n",
      "93:\tlearn: 809.8955895\ttotal: 4.56s\tremaining: 5.14s\n",
      "94:\tlearn: 810.4619615\ttotal: 4.58s\tremaining: 5.07s\n",
      "95:\tlearn: 807.2426491\ttotal: 4.63s\tremaining: 5.01s\n",
      "96:\tlearn: 804.4781006\ttotal: 4.69s\tremaining: 4.98s\n",
      "97:\tlearn: 804.7579769\ttotal: 4.71s\tremaining: 4.9s\n",
      "98:\tlearn: 798.0650112\ttotal: 4.76s\tremaining: 4.86s\n",
      "99:\tlearn: 795.7962294\ttotal: 4.79s\tremaining: 4.79s\n",
      "100:\tlearn: 793.8372009\ttotal: 4.83s\tremaining: 4.73s\n",
      "101:\tlearn: 794.4815993\ttotal: 4.86s\tremaining: 4.67s\n",
      "102:\tlearn: 792.6360067\ttotal: 4.89s\tremaining: 4.61s\n",
      "103:\tlearn: 791.1682494\ttotal: 4.92s\tremaining: 4.54s\n",
      "104:\tlearn: 791.8036307\ttotal: 4.94s\tremaining: 4.47s\n",
      "105:\tlearn: 790.3777028\ttotal: 4.96s\tremaining: 4.4s\n",
      "106:\tlearn: 788.0822628\ttotal: 5.03s\tremaining: 4.37s\n",
      "107:\tlearn: 788.4020350\ttotal: 5.06s\tremaining: 4.31s\n",
      "108:\tlearn: 786.8448230\ttotal: 5.08s\tremaining: 4.24s\n",
      "109:\tlearn: 785.5861397\ttotal: 5.1s\tremaining: 4.17s\n",
      "110:\tlearn: 784.5887870\ttotal: 5.12s\tremaining: 4.11s\n",
      "111:\tlearn: 783.6714154\ttotal: 5.16s\tremaining: 4.05s\n",
      "112:\tlearn: 783.2304197\ttotal: 5.18s\tremaining: 3.99s\n",
      "113:\tlearn: 782.7886200\ttotal: 5.23s\tremaining: 3.94s\n",
      "114:\tlearn: 783.5624559\ttotal: 5.3s\tremaining: 3.92s\n",
      "115:\tlearn: 780.3673225\ttotal: 5.36s\tremaining: 3.88s\n",
      "116:\tlearn: 779.7338316\ttotal: 5.4s\tremaining: 3.83s\n",
      "117:\tlearn: 779.9348580\ttotal: 5.46s\tremaining: 3.79s\n",
      "118:\tlearn: 780.0369007\ttotal: 5.49s\tremaining: 3.73s\n",
      "119:\tlearn: 779.4989761\ttotal: 5.51s\tremaining: 3.67s\n",
      "120:\tlearn: 776.6070899\ttotal: 5.58s\tremaining: 3.65s\n",
      "121:\tlearn: 776.8301089\ttotal: 5.64s\tremaining: 3.6s\n",
      "122:\tlearn: 774.9515887\ttotal: 5.71s\tremaining: 3.58s\n",
      "123:\tlearn: 775.2308505\ttotal: 5.73s\tremaining: 3.51s\n",
      "124:\tlearn: 774.9119401\ttotal: 5.78s\tremaining: 3.47s\n",
      "125:\tlearn: 774.4048631\ttotal: 5.81s\tremaining: 3.41s\n",
      "126:\tlearn: 774.5527448\ttotal: 5.85s\tremaining: 3.36s\n",
      "127:\tlearn: 774.9215372\ttotal: 5.91s\tremaining: 3.32s\n",
      "128:\tlearn: 774.5171818\ttotal: 5.93s\tremaining: 3.26s\n",
      "129:\tlearn: 775.0112408\ttotal: 6s\tremaining: 3.23s\n",
      "130:\tlearn: 774.1868002\ttotal: 6.06s\tremaining: 3.19s\n",
      "131:\tlearn: 773.9281360\ttotal: 6.08s\tremaining: 3.13s\n",
      "132:\tlearn: 773.6783218\ttotal: 6.14s\tremaining: 3.09s\n",
      "133:\tlearn: 772.4223554\ttotal: 6.19s\tremaining: 3.05s\n",
      "134:\tlearn: 772.8083685\ttotal: 6.22s\tremaining: 3s\n",
      "135:\tlearn: 772.5591131\ttotal: 6.25s\tremaining: 2.94s\n",
      "136:\tlearn: 773.2288967\ttotal: 6.27s\tremaining: 2.88s\n",
      "137:\tlearn: 773.2383342\ttotal: 6.31s\tremaining: 2.84s\n",
      "138:\tlearn: 773.2492839\ttotal: 6.33s\tremaining: 2.78s\n",
      "139:\tlearn: 773.5724876\ttotal: 6.36s\tremaining: 2.72s\n",
      "140:\tlearn: 773.7000712\ttotal: 6.38s\tremaining: 2.67s\n",
      "141:\tlearn: 773.9729206\ttotal: 6.4s\tremaining: 2.61s\n",
      "142:\tlearn: 774.2095237\ttotal: 6.42s\tremaining: 2.56s\n",
      "143:\tlearn: 774.3148632\ttotal: 6.44s\tremaining: 2.5s\n",
      "144:\tlearn: 774.7660089\ttotal: 6.51s\tremaining: 2.47s\n",
      "145:\tlearn: 774.9627396\ttotal: 6.53s\tremaining: 2.41s\n",
      "146:\tlearn: 774.6091965\ttotal: 6.57s\tremaining: 2.37s\n",
      "147:\tlearn: 774.3164649\ttotal: 6.59s\tremaining: 2.31s\n",
      "148:\tlearn: 773.9781274\ttotal: 6.66s\tremaining: 2.28s\n",
      "149:\tlearn: 765.3183807\ttotal: 6.72s\tremaining: 2.24s\n",
      "150:\tlearn: 765.0155311\ttotal: 6.74s\tremaining: 2.19s\n",
      "151:\tlearn: 764.8273591\ttotal: 6.78s\tremaining: 2.14s\n",
      "152:\tlearn: 763.0662567\ttotal: 6.8s\tremaining: 2.09s\n",
      "153:\tlearn: 763.0240380\ttotal: 6.82s\tremaining: 2.04s\n",
      "154:\tlearn: 757.2716133\ttotal: 6.86s\tremaining: 1.99s\n",
      "155:\tlearn: 756.8146970\ttotal: 6.94s\tremaining: 1.96s\n",
      "156:\tlearn: 757.3894113\ttotal: 6.96s\tremaining: 1.91s\n"
     ]
    },
    {
     "name": "stdout",
     "output_type": "stream",
     "text": [
      "157:\tlearn: 757.5542481\ttotal: 7.03s\tremaining: 1.87s\n",
      "158:\tlearn: 757.3868534\ttotal: 7.05s\tremaining: 1.82s\n",
      "159:\tlearn: 756.6150636\ttotal: 7.1s\tremaining: 1.77s\n",
      "160:\tlearn: 756.5243117\ttotal: 7.12s\tremaining: 1.73s\n",
      "161:\tlearn: 756.7009640\ttotal: 7.19s\tremaining: 1.69s\n",
      "162:\tlearn: 755.5480835\ttotal: 7.25s\tremaining: 1.65s\n",
      "163:\tlearn: 755.2837763\ttotal: 7.31s\tremaining: 1.6s\n",
      "164:\tlearn: 755.1115973\ttotal: 7.33s\tremaining: 1.55s\n",
      "165:\tlearn: 754.6673105\ttotal: 7.35s\tremaining: 1.5s\n",
      "166:\tlearn: 754.3480529\ttotal: 7.37s\tremaining: 1.46s\n",
      "167:\tlearn: 754.1148741\ttotal: 7.39s\tremaining: 1.41s\n",
      "168:\tlearn: 753.2106862\ttotal: 7.45s\tremaining: 1.37s\n",
      "169:\tlearn: 752.1922795\ttotal: 7.52s\tremaining: 1.33s\n",
      "170:\tlearn: 751.4392418\ttotal: 7.56s\tremaining: 1.28s\n",
      "171:\tlearn: 751.5865227\ttotal: 7.62s\tremaining: 1.24s\n",
      "172:\tlearn: 751.0557188\ttotal: 7.65s\tremaining: 1.19s\n",
      "173:\tlearn: 750.4586784\ttotal: 7.68s\tremaining: 1.15s\n",
      "174:\tlearn: 750.0410069\ttotal: 7.75s\tremaining: 1.11s\n",
      "175:\tlearn: 749.8121947\ttotal: 7.78s\tremaining: 1.06s\n",
      "176:\tlearn: 749.5876174\ttotal: 7.84s\tremaining: 1.02s\n",
      "177:\tlearn: 750.0561775\ttotal: 7.92s\tremaining: 979ms\n",
      "178:\tlearn: 748.3724096\ttotal: 7.98s\tremaining: 936ms\n",
      "179:\tlearn: 747.3968809\ttotal: 8.01s\tremaining: 890ms\n",
      "180:\tlearn: 747.0938718\ttotal: 8.03s\tremaining: 843ms\n",
      "181:\tlearn: 744.7862581\ttotal: 8.1s\tremaining: 801ms\n",
      "182:\tlearn: 744.8600740\ttotal: 8.15s\tremaining: 757ms\n",
      "183:\tlearn: 744.9360223\ttotal: 8.18s\tremaining: 711ms\n",
      "184:\tlearn: 744.3644869\ttotal: 8.21s\tremaining: 666ms\n",
      "185:\tlearn: 744.4086522\ttotal: 8.24s\tremaining: 620ms\n",
      "186:\tlearn: 744.0703869\ttotal: 8.3s\tremaining: 577ms\n",
      "187:\tlearn: 742.9756128\ttotal: 8.36s\tremaining: 534ms\n",
      "188:\tlearn: 738.4784817\ttotal: 8.43s\tremaining: 490ms\n",
      "189:\tlearn: 738.5627569\ttotal: 8.49s\tremaining: 447ms\n",
      "190:\tlearn: 738.7793716\ttotal: 8.51s\tremaining: 401ms\n",
      "191:\tlearn: 738.4593393\ttotal: 8.58s\tremaining: 357ms\n",
      "192:\tlearn: 738.4809331\ttotal: 8.6s\tremaining: 312ms\n",
      "193:\tlearn: 737.8990009\ttotal: 8.66s\tremaining: 268ms\n",
      "194:\tlearn: 737.7443611\ttotal: 8.73s\tremaining: 224ms\n",
      "195:\tlearn: 737.7500984\ttotal: 8.75s\tremaining: 179ms\n",
      "196:\tlearn: 736.8092957\ttotal: 8.8s\tremaining: 134ms\n",
      "197:\tlearn: 736.1968639\ttotal: 8.85s\tremaining: 89.4ms\n",
      "198:\tlearn: 735.9494713\ttotal: 8.9s\tremaining: 44.8ms\n",
      "199:\tlearn: 721.8812437\ttotal: 8.96s\tremaining: 0us\n"
     ]
    },
    {
     "data": {
      "text/plain": [
       "<catboost.core.CatBoostRegressor at 0x21a84948588>"
      ]
     },
     "execution_count": 129,
     "metadata": {},
     "output_type": "execute_result"
    }
   ],
   "source": [
    "cbb1 = cb.CatBoostRegressor(eval_metric=\"MAPE\", depth=8, iterations= 200, l2_leaf_reg= 10, learning_rate= 0.15,\n",
    "                          cat_features=['CONTRAGENT', 'ARTICLE_GROUP'])\n",
    "cbb1.fit(df[['YEAR', 'MONTH', 'CONTRAGENT', 'ARTICLE_GROUP', 'STORE_SALES']],df['SALES'])"
   ]
  },
  {
   "cell_type": "code",
   "execution_count": 145,
   "metadata": {},
   "outputs": [
    {
     "name": "stderr",
     "output_type": "stream",
     "text": [
      "e:\\ProgramData\\Anaconda3\\lib\\site-packages\\ipykernel_launcher.py:6: RuntimeWarning: divide by zero encountered in true_divide\n",
      "  \n"
     ]
    }
   ],
   "source": [
    "from sklearn.metrics import mean_squared_error\n",
    "\n",
    "def mean_absolute_percentage_error(y_true, y_pred): \n",
    "    \"\"\"Calculates MAPE given y_true and y_pred\"\"\"\n",
    "    y_true, y_pred = np.array(y_true), np.array(y_pred)\n",
    "    return np.mean(np.abs((y_true - y_pred) / y_true)) * 100\n",
    "\n",
    "ypred = cbb.predict(xtest[['YEAR', 'MONTH', 'CONTRAGENT', \n",
    "       'ARTICLE_GROUP', 'STORE_SALES']])\n",
    "mse = mean_squared_error(ytest, ypred)\n",
    "metr=metric(ytest, ypred)\n",
    "mape=mean_absolute_percentage_error(ytest, ypred)"
   ]
  },
  {
   "cell_type": "code",
   "execution_count": 146,
   "metadata": {},
   "outputs": [
    {
     "data": {
      "text/plain": [
       "(326112209.0315697, 78.8959946498212, inf)"
      ]
     },
     "execution_count": 146,
     "metadata": {},
     "output_type": "execute_result"
    }
   ],
   "source": [
    "mse, metr, mape"
   ]
  },
  {
   "cell_type": "code",
   "execution_count": 131,
   "metadata": {},
   "outputs": [
    {
     "name": "stderr",
     "output_type": "stream",
     "text": [
      "e:\\ProgramData\\Anaconda3\\lib\\site-packages\\ipykernel_launcher.py:6: RuntimeWarning: divide by zero encountered in true_divide\n",
      "  \n"
     ]
    }
   ],
   "source": [
    "from sklearn.metrics import mean_squared_error\n",
    "\n",
    "def mean_absolute_percentage_error(y_true, y_pred): \n",
    "    \"\"\"Calculates MAPE given y_true and y_pred\"\"\"\n",
    "    y_true, y_pred = np.array(y_true), np.array(y_pred)\n",
    "    return np.mean(np.abs((y_true - y_pred) / y_true)) * 100\n",
    "\n",
    "ypred = cbb1.predict(xtest[['YEAR', 'MONTH', 'CONTRAGENT', \n",
    "       'ARTICLE_GROUP', 'STORE_SALES']])\n",
    "mse = mean_squared_error(ytest, ypred)\n",
    "metr=metric(ytest, ypred)\n",
    "mape=mean_absolute_percentage_error(ytest, ypred)"
   ]
  },
  {
   "cell_type": "code",
   "execution_count": 132,
   "metadata": {},
   "outputs": [
    {
     "data": {
      "text/plain": [
       "(345911914.9124873, 86.25782650272564, inf)"
      ]
     },
     "execution_count": 132,
     "metadata": {},
     "output_type": "execute_result"
    }
   ],
   "source": [
    "mse, metr, mape"
   ]
  },
  {
   "cell_type": "code",
   "execution_count": null,
   "metadata": {},
   "outputs": [],
   "source": []
  }
 ],
 "metadata": {
  "kernelspec": {
   "display_name": "Python 3",
   "language": "python",
   "name": "python3"
  },
  "language_info": {
   "codemirror_mode": {
    "name": "ipython",
    "version": 3
   },
   "file_extension": ".py",
   "mimetype": "text/x-python",
   "name": "python",
   "nbconvert_exporter": "python",
   "pygments_lexer": "ipython3",
   "version": "3.7.6"
  }
 },
 "nbformat": 4,
 "nbformat_minor": 4
}
